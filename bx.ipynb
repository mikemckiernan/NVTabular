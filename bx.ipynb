{
 "cells": [
  {
   "cell_type": "markdown",
   "metadata": {},
   "source": [
    "## Repeat of the book-crossing dataset recommender example that I wrote for SAS"
   ]
  },
  {
   "cell_type": "code",
   "execution_count": 1,
   "metadata": {},
   "outputs": [],
   "source": [
    "import html\n",
    "import numpy as np\n",
    "import pandas as pd\n",
    "import re\n",
    "from io import StringIO\n",
    "from pathlib import Path\n"
   ]
  },
  {
   "cell_type": "code",
   "execution_count": 2,
   "metadata": {},
   "outputs": [],
   "source": [
    "import nvtabular as nvt\n",
    "import merlin.io"
   ]
  },
  {
   "cell_type": "code",
   "execution_count": 3,
   "metadata": {},
   "outputs": [],
   "source": [
    "data_dir = Path('/local/var/tmp/mike/bx')\n",
    "ratings_file = data_dir / \"BX-Book-Ratings.csv\"\n",
    "books_file = data_dir / \"BX-Books.csv\""
   ]
  },
  {
   "cell_type": "code",
   "execution_count": 4,
   "metadata": {},
   "outputs": [
    {
     "name": "stderr",
     "output_type": "stream",
     "text": [
      "/tmp/ipykernel_3289308/3707940549.py:11: DeprecationWarning: `np.int` is a deprecated alias for the builtin `int`. To silence this warning, use `int` by itself. Doing this will not modify any behavior and is safe. When replacing `np.int`, you may wish to use e.g. `np.int64` or `np.int32` to specify the precision. If you wish to review your current use, check the release note link for additional information.\n",
      "Deprecated in NumPy 1.20; for more details and guidance: https://numpy.org/devdocs/release/1.20.0-notes.html#deprecations\n",
      "  dtype={'ISBN': str, 'Year_Of_Publication': np.int})\n"
     ]
    },
    {
     "data": {
      "text/html": [
       "<div>\n",
       "<style scoped>\n",
       "    .dataframe tbody tr th:only-of-type {\n",
       "        vertical-align: middle;\n",
       "    }\n",
       "\n",
       "    .dataframe tbody tr th {\n",
       "        vertical-align: top;\n",
       "    }\n",
       "\n",
       "    .dataframe thead th {\n",
       "        text-align: right;\n",
       "    }\n",
       "</style>\n",
       "<table border=\"1\" class=\"dataframe\">\n",
       "  <thead>\n",
       "    <tr style=\"text-align: right;\">\n",
       "      <th></th>\n",
       "      <th>ISBN</th>\n",
       "      <th>Title</th>\n",
       "      <th>Author</th>\n",
       "      <th>Year_Of_Publication</th>\n",
       "      <th>Publisher</th>\n",
       "    </tr>\n",
       "  </thead>\n",
       "  <tbody>\n",
       "    <tr>\n",
       "      <th>0</th>\n",
       "      <td>0195153448</td>\n",
       "      <td>Classical Mythology</td>\n",
       "      <td>Mark P. O. Morford</td>\n",
       "      <td>2002</td>\n",
       "      <td>Oxford University Press</td>\n",
       "    </tr>\n",
       "    <tr>\n",
       "      <th>1</th>\n",
       "      <td>0002005018</td>\n",
       "      <td>Clara Callan</td>\n",
       "      <td>Richard Bruce Wright</td>\n",
       "      <td>2001</td>\n",
       "      <td>HarperFlamingo Canada</td>\n",
       "    </tr>\n",
       "    <tr>\n",
       "      <th>2</th>\n",
       "      <td>0060973129</td>\n",
       "      <td>Decision in Normandy</td>\n",
       "      <td>Carlo D'Este</td>\n",
       "      <td>1991</td>\n",
       "      <td>HarperPerennial</td>\n",
       "    </tr>\n",
       "    <tr>\n",
       "      <th>3</th>\n",
       "      <td>0374157065</td>\n",
       "      <td>Flu: The Story of the Great Influenza Pandemic...</td>\n",
       "      <td>Gina Bari Kolata</td>\n",
       "      <td>1999</td>\n",
       "      <td>Farrar Straus Giroux</td>\n",
       "    </tr>\n",
       "    <tr>\n",
       "      <th>4</th>\n",
       "      <td>0393045218</td>\n",
       "      <td>The Mummies of Urumchi</td>\n",
       "      <td>E. J. W. Barber</td>\n",
       "      <td>1999</td>\n",
       "      <td>W. W. Norton &amp; Company</td>\n",
       "    </tr>\n",
       "  </tbody>\n",
       "</table>\n",
       "</div>"
      ],
      "text/plain": [
       "         ISBN                                              Title  \\\n",
       "0  0195153448                                Classical Mythology   \n",
       "1  0002005018                                       Clara Callan   \n",
       "2  0060973129                               Decision in Normandy   \n",
       "3  0374157065  Flu: The Story of the Great Influenza Pandemic...   \n",
       "4  0393045218                             The Mummies of Urumchi   \n",
       "\n",
       "                 Author  Year_Of_Publication                Publisher  \n",
       "0    Mark P. O. Morford                 2002  Oxford University Press  \n",
       "1  Richard Bruce Wright                 2001    HarperFlamingo Canada  \n",
       "2          Carlo D'Este                 1991          HarperPerennial  \n",
       "3      Gina Bari Kolata                 1999     Farrar Straus Giroux  \n",
       "4       E. J. W. Barber                 1999   W. W. Norton & Company  "
      ]
     },
     "execution_count": 4,
     "metadata": {},
     "output_type": "execute_result"
    }
   ],
   "source": [
    "with open(books_file, 'r', encoding='iso-8859-1') as f:\n",
    "    content = html.unescape(f.read())\n",
    "\n",
    "books_df = pd.read_csv(StringIO(content),\n",
    "                       header=0, \n",
    "                       escapechar='\\\\',\n",
    "                       quotechar='\"',\n",
    "                       sep=';', encoding='iso-8859-1',\n",
    "                       names=['ISBN', 'Title', 'Author', 'Year_Of_Publication', 'Publisher', 'img_url_s', 'img_url_m', 'img_url_l'],\n",
    "                       usecols=['ISBN', 'Title', 'Author', 'Year_Of_Publication', 'Publisher'],\n",
    "                       dtype={'ISBN': str, 'Year_Of_Publication': int})\n",
    "\n",
    "books_df = books_df[books_df.ISBN.str.len() == 10]\n",
    "\n",
    "books_df.head()"
   ]
  },
  {
   "cell_type": "markdown",
   "metadata": {},
   "source": [
    "Display the data types:"
   ]
  },
  {
   "cell_type": "code",
   "execution_count": 5,
   "metadata": {},
   "outputs": [
    {
     "data": {
      "text/plain": [
       "ISBN                   object\n",
       "Title                  object\n",
       "Author                 object\n",
       "Year_Of_Publication     int16\n",
       "Publisher              object\n",
       "dtype: object"
      ]
     },
     "execution_count": 5,
     "metadata": {},
     "output_type": "execute_result"
    }
   ],
   "source": [
    "books_df.dtypes"
   ]
  },
  {
   "cell_type": "markdown",
   "metadata": {},
   "source": [
    "Import the ratings data:"
   ]
  },
  {
   "cell_type": "code",
   "execution_count": 6,
   "metadata": {},
   "outputs": [
    {
     "data": {
      "text/html": [
       "<div>\n",
       "<style scoped>\n",
       "    .dataframe tbody tr th:only-of-type {\n",
       "        vertical-align: middle;\n",
       "    }\n",
       "\n",
       "    .dataframe tbody tr th {\n",
       "        vertical-align: top;\n",
       "    }\n",
       "\n",
       "    .dataframe thead th {\n",
       "        text-align: right;\n",
       "    }\n",
       "</style>\n",
       "<table border=\"1\" class=\"dataframe\">\n",
       "  <thead>\n",
       "    <tr style=\"text-align: right;\">\n",
       "      <th></th>\n",
       "      <th>User_ID</th>\n",
       "      <th>ISBN</th>\n",
       "      <th>Rating</th>\n",
       "    </tr>\n",
       "  </thead>\n",
       "  <tbody>\n",
       "    <tr>\n",
       "      <th>0</th>\n",
       "      <td>276726</td>\n",
       "      <td>0155061224</td>\n",
       "      <td>5</td>\n",
       "    </tr>\n",
       "    <tr>\n",
       "      <th>1</th>\n",
       "      <td>276729</td>\n",
       "      <td>052165615X</td>\n",
       "      <td>3</td>\n",
       "    </tr>\n",
       "    <tr>\n",
       "      <th>2</th>\n",
       "      <td>276729</td>\n",
       "      <td>0521795028</td>\n",
       "      <td>6</td>\n",
       "    </tr>\n",
       "    <tr>\n",
       "      <th>3</th>\n",
       "      <td>276736</td>\n",
       "      <td>3257224281</td>\n",
       "      <td>8</td>\n",
       "    </tr>\n",
       "    <tr>\n",
       "      <th>4</th>\n",
       "      <td>276737</td>\n",
       "      <td>0600570967</td>\n",
       "      <td>6</td>\n",
       "    </tr>\n",
       "  </tbody>\n",
       "</table>\n",
       "</div>"
      ],
      "text/plain": [
       "   User_ID        ISBN  Rating\n",
       "0   276726  0155061224       5\n",
       "1   276729  052165615X       3\n",
       "2   276729  0521795028       6\n",
       "3   276736  3257224281       8\n",
       "4   276737  0600570967       6"
      ]
     },
     "execution_count": 6,
     "metadata": {},
     "output_type": "execute_result"
    }
   ],
   "source": [
    "isbn_pat = re.compile('\"\\d+\";\"[0-9X]{10}\";\"[1-9][0]?\"')\n",
    "buffer = StringIO()\n",
    "\n",
    "with open(ratings_file, 'r', encoding='iso-8859-1') as f:\n",
    "    for line in f:\n",
    "        if isbn_pat.match(line):\n",
    "            buffer.write(line)\n",
    "            \n",
    "buffer.seek(0)            \n",
    "ratings_df = pd.read_csv(buffer,\n",
    "                         skiprows=0,\n",
    "                         sep=';',\n",
    "                         names=['User_ID', 'ISBN', 'Rating'],\n",
    "                         dtype={'User_ID': np.int32, 'ISBN': str, 'Rating': np.int8})\n",
    "buffer.close()\n",
    "\n",
    "ratings_df.head()"
   ]
  },
  {
   "cell_type": "markdown",
   "metadata": {},
   "source": [
    "Display the data types of the ratings data:"
   ]
  },
  {
   "cell_type": "code",
   "execution_count": 7,
   "metadata": {},
   "outputs": [
    {
     "data": {
      "text/plain": [
       "User_ID     int32\n",
       "ISBN       object\n",
       "Rating       int8\n",
       "dtype: object"
      ]
     },
     "execution_count": 7,
     "metadata": {},
     "output_type": "execute_result"
    }
   ],
   "source": [
    "ratings_df.dtypes"
   ]
  },
  {
   "cell_type": "markdown",
   "metadata": {},
   "source": [
    "## Imitation data quality\n",
    "\n",
    "* Remove duplicate ratings.\n",
    "* Remove ratings for ISBNs that are not in the books DataFrame."
   ]
  },
  {
   "cell_type": "code",
   "execution_count": 8,
   "metadata": {},
   "outputs": [
    {
     "name": "stdout",
     "output_type": "stream",
     "text": [
      "Ratings count before changes:  428204\n",
      "Ratings count after changes:  383596\n"
     ]
    },
    {
     "data": {
      "text/html": [
       "<div>\n",
       "<style scoped>\n",
       "    .dataframe tbody tr th:only-of-type {\n",
       "        vertical-align: middle;\n",
       "    }\n",
       "\n",
       "    .dataframe tbody tr th {\n",
       "        vertical-align: top;\n",
       "    }\n",
       "\n",
       "    .dataframe thead th {\n",
       "        text-align: right;\n",
       "    }\n",
       "</style>\n",
       "<table border=\"1\" class=\"dataframe\">\n",
       "  <thead>\n",
       "    <tr style=\"text-align: right;\">\n",
       "      <th></th>\n",
       "      <th>User_ID</th>\n",
       "      <th>Rating</th>\n",
       "    </tr>\n",
       "  </thead>\n",
       "  <tbody>\n",
       "    <tr>\n",
       "      <th>count</th>\n",
       "      <td>383596.000000</td>\n",
       "      <td>383596.000000</td>\n",
       "    </tr>\n",
       "    <tr>\n",
       "      <th>mean</th>\n",
       "      <td>136034.234054</td>\n",
       "      <td>7.626589</td>\n",
       "    </tr>\n",
       "    <tr>\n",
       "      <th>std</th>\n",
       "      <td>80484.595981</td>\n",
       "      <td>1.841458</td>\n",
       "    </tr>\n",
       "    <tr>\n",
       "      <th>min</th>\n",
       "      <td>8.000000</td>\n",
       "      <td>1.000000</td>\n",
       "    </tr>\n",
       "    <tr>\n",
       "      <th>25%</th>\n",
       "      <td>67591.000000</td>\n",
       "      <td>7.000000</td>\n",
       "    </tr>\n",
       "    <tr>\n",
       "      <th>50%</th>\n",
       "      <td>133790.000000</td>\n",
       "      <td>8.000000</td>\n",
       "    </tr>\n",
       "    <tr>\n",
       "      <th>75%</th>\n",
       "      <td>206219.000000</td>\n",
       "      <td>9.000000</td>\n",
       "    </tr>\n",
       "    <tr>\n",
       "      <th>max</th>\n",
       "      <td>278854.000000</td>\n",
       "      <td>10.000000</td>\n",
       "    </tr>\n",
       "  </tbody>\n",
       "</table>\n",
       "</div>"
      ],
      "text/plain": [
       "             User_ID         Rating\n",
       "count  383596.000000  383596.000000\n",
       "mean   136034.234054       7.626589\n",
       "std     80484.595981       1.841458\n",
       "min         8.000000       1.000000\n",
       "25%     67591.000000       7.000000\n",
       "50%    133790.000000       8.000000\n",
       "75%    206219.000000       9.000000\n",
       "max    278854.000000      10.000000"
      ]
     },
     "execution_count": 8,
     "metadata": {},
     "output_type": "execute_result"
    }
   ],
   "source": [
    "print(\"Ratings count before changes: \", len(ratings_df))\n",
    "\n",
    "ratings_df.drop_duplicates(inplace=True)\n",
    "\n",
    "ratings_df = ratings_df[ratings_df.set_index(['ISBN']).index.isin(books_df.set_index(['ISBN']).index)]\n",
    "\n",
    "print(\"Ratings count after changes: \", len(ratings_df))\n",
    "\n",
    "ratings_df.describe()\n"
   ]
  },
  {
   "cell_type": "code",
   "execution_count": 9,
   "metadata": {},
   "outputs": [
    {
     "name": "stdout",
     "output_type": "stream",
     "text": [
      "Looking in indexes: https://pypi.org/simple, https://pypi.ngc.nvidia.com\n",
      "Requirement already satisfied: matplotlib in ./.venv/lib/python3.9/site-packages (3.5.2)\n",
      "Requirement already satisfied: python-dateutil>=2.7 in ./.venv/lib/python3.9/site-packages (from matplotlib) (2.8.2)\n",
      "Requirement already satisfied: packaging>=20.0 in ./.venv/lib/python3.9/site-packages (from matplotlib) (21.3)\n",
      "Requirement already satisfied: pillow>=6.2.0 in ./.venv/lib/python3.9/site-packages (from matplotlib) (9.1.1)\n",
      "Requirement already satisfied: fonttools>=4.22.0 in ./.venv/lib/python3.9/site-packages (from matplotlib) (4.33.3)\n",
      "Requirement already satisfied: cycler>=0.10 in ./.venv/lib/python3.9/site-packages (from matplotlib) (0.11.0)\n",
      "Requirement already satisfied: numpy>=1.17 in ./.venv/lib/python3.9/site-packages (from matplotlib) (1.20.3)\n",
      "Requirement already satisfied: pyparsing>=2.2.1 in ./.venv/lib/python3.9/site-packages (from matplotlib) (3.0.8)\n",
      "Requirement already satisfied: kiwisolver>=1.0.1 in ./.venv/lib/python3.9/site-packages (from matplotlib) (1.4.3)\n",
      "Requirement already satisfied: six>=1.5 in ./.venv/lib/python3.9/site-packages (from python-dateutil>=2.7->matplotlib) (1.16.0)\n",
      "\u001b[33mWARNING: You are using pip version 22.0.4; however, version 22.1.2 is available.\n",
      "You should consider upgrading via the '/local/var/tmp/mike/merlin/NVTabular/.venv/bin/python -m pip install --upgrade pip' command.\u001b[0m\u001b[33m\n",
      "\u001b[0m   Rating  count\n",
      "0       1   1479\n",
      "1       2   2374\n",
      "2       3   5117\n",
      "3       4   7612\n",
      "4       5  45342\n",
      "5       6  31671\n",
      "6       7  66352\n",
      "7       8  91722\n",
      "8       9  60743\n",
      "9      10  71184\n"
     ]
    },
    {
     "data": {
      "image/png": "[encoded data removed]",
      "text/plain": [
       "<Figure size 720x360 with 1 Axes>"
      ]
     },
     "metadata": {
      "needs_background": "light"
     },
     "output_type": "display_data"
    }
   ],
   "source": [
    "! pip install matplotlib\n",
    "import matplotlib.pyplot as plt\n",
    "\n",
    "x = ratings_df.groupby('Rating')['ISBN'].count().reset_index(name=\"count\")\n",
    "print(x)\n",
    "\n",
    "# plt.hist(ratings_df.groupby(\"Rating\").count()[['ISBN']], )\n",
    "fig, ax = plt.subplots()\n",
    "\n",
    "ax.bar(x['Rating'], x['count'], width=.5)\n",
    "ax.set_title('Distribution of Ratings')\n",
    "ax.set_ylabel('Count')\n",
    "ax.set_xlabel('Rating')\n",
    "ax.set_xticks(x['Rating'])\n",
    "fig.set_size_inches(10,5)\n",
    "\n",
    "plt.show()"
   ]
  },
  {
   "cell_type": "markdown",
   "metadata": {},
   "source": [
    "## Partition the data into training and validation\n",
    "\n",
    "After partitioning the data, save the data in Parquet format."
   ]
  },
  {
   "cell_type": "code",
   "execution_count": 10,
   "metadata": {},
   "outputs": [
    {
     "name": "stderr",
     "output_type": "stream",
     "text": [
      "/local/var/tmp/mike/merlin/NVTabular/.venv/lib/python3.9/site-packages/merlin/io/dataset.py:252: UserWarning: Initializing an NVTabular Dataset in CPU mode.This is an experimental feature with extremely limited support!\n",
      "  warnings.warn(\n"
     ]
    }
   ],
   "source": [
    "ratings = ratings_df.sample(len(ratings_df), replace=False)\n",
    "validation_count = int(len(ratings) * 0.33)\n",
    "\n",
    "train = ratings[:-validation_count]\n",
    "valid = ratings[-validation_count:]\n",
    "\n",
    "train = merlin.io.Dataset(train)\n",
    "train.to_parquet(data_dir / \"train.parquet\")\n",
    "\n",
    "valid = merlin.io.Dataset(valid)\n",
    "valid.to_parquet(data_dir / \"valid.parquet\")\n",
    "\n",
    "books = merlin.io.Dataset(books_df)\n",
    "books.to_parquet(data_dir / \"books.parquet\")\n"
   ]
  },
  {
   "cell_type": "markdown",
   "metadata": {},
   "source": [
    "## Attempting to understand how to use NVT's Ops\n",
    "\n",
    "In the discussion at <https://nvidia-merlin.github.io/NVTabular/main/examples/getting-started-movielens/02-ETL-with-NVTabular.html>,\n",
    "I'm a little disoriented:\n",
    "\n",
    "* Before the \"Defining our Preprocessing Pipeline\", there is a `head()` of the movies data.\n",
    "That is good because it reinforces my understanding of the data.\n",
    "\n",
    "* In the \"Defining...\" section, the **Example** is generic--`features = [ column_name, ... ]...`.\n",
    "This is slightly disorienting and I'd like to consider if using the same variable names from the data sample could work.\n",
    "\n",
    "* Right after the generic example, `CATEGORICAL_COLUMNS` and `LABEL_COLUMNS` are defined--and tie to the data sample, which is good, but I'm lost in what we're joining with the `JoinExternal` Op and why `joined.graph` has two tables with inputs of `userID, movieID` and outputs the same two columns.  I'm missing something.\n",
    "\n",
    "My instinct is that the Movielens example is growing stale.  I switched to looking at <https://nvidia-merlin.github.io/Merlin/main/examples/Building-and-deploying-multi-stage-RecSys/01-Building-Recommender-Systems-with-Merlin.html> for inspiration."
   ]
  },
  {
   "cell_type": "code",
   "execution_count": 11,
   "metadata": {},
   "outputs": [],
   "source": [
    "from nvtabular.ops import (\n",
    "    Categorify,\n",
    "    LambdaOp,\n",
    "    TagAsUserID,\n",
    "    TagAsItemID,\n",
    "    TagAsItemFeatures,\n",
    "    TagAsUserFeatures,\n",
    "    AddMetadata,\n",
    "    Filter,\n",
    "    Rename,\n",
    "    JoinExternal,\n",
    ")\n",
    "\n",
    "from nvtabular import ColumnGroup\n",
    "\n",
    "from merlin.schema.tags import Tags\n",
    "\n",
    "from merlin.io.dataset import Dataset"
   ]
  },
  {
   "cell_type": "code",
   "execution_count": 12,
   "metadata": {},
   "outputs": [
    {
     "data": {
      "text/html": [
       "<div>\n",
       "<style scoped>\n",
       "    .dataframe tbody tr th:only-of-type {\n",
       "        vertical-align: middle;\n",
       "    }\n",
       "\n",
       "    .dataframe tbody tr th {\n",
       "        vertical-align: top;\n",
       "    }\n",
       "\n",
       "    .dataframe thead th {\n",
       "        text-align: right;\n",
       "    }\n",
       "</style>\n",
       "<table border=\"1\" class=\"dataframe\">\n",
       "  <thead>\n",
       "    <tr style=\"text-align: right;\">\n",
       "      <th></th>\n",
       "      <th>User_ID</th>\n",
       "      <th>ISBN</th>\n",
       "      <th>Rating</th>\n",
       "    </tr>\n",
       "  </thead>\n",
       "  <tbody>\n",
       "    <tr>\n",
       "      <th>93992</th>\n",
       "      <td>56039</td>\n",
       "      <td>2207226107</td>\n",
       "      <td>7</td>\n",
       "    </tr>\n",
       "    <tr>\n",
       "      <th>352114</th>\n",
       "      <td>225623</td>\n",
       "      <td>0316601950</td>\n",
       "      <td>7</td>\n",
       "    </tr>\n",
       "    <tr>\n",
       "      <th>61042</th>\n",
       "      <td>33475</td>\n",
       "      <td>0385336748</td>\n",
       "      <td>6</td>\n",
       "    </tr>\n",
       "    <tr>\n",
       "      <th>114566</th>\n",
       "      <td>69697</td>\n",
       "      <td>0505523183</td>\n",
       "      <td>9</td>\n",
       "    </tr>\n",
       "    <tr>\n",
       "      <th>306994</th>\n",
       "      <td>193458</td>\n",
       "      <td>1559703237</td>\n",
       "      <td>7</td>\n",
       "    </tr>\n",
       "  </tbody>\n",
       "</table>\n",
       "</div>"
      ],
      "text/plain": [
       "        User_ID        ISBN  Rating\n",
       "93992     56039  2207226107       7\n",
       "352114   225623  0316601950       7\n",
       "61042     33475  0385336748       6\n",
       "114566    69697  0505523183       9\n",
       "306994   193458  1559703237       7"
      ]
     },
     "metadata": {},
     "output_type": "display_data"
    },
    {
     "data": {
      "text/html": [
       "<div>\n",
       "<style scoped>\n",
       "    .dataframe tbody tr th:only-of-type {\n",
       "        vertical-align: middle;\n",
       "    }\n",
       "\n",
       "    .dataframe tbody tr th {\n",
       "        vertical-align: top;\n",
       "    }\n",
       "\n",
       "    .dataframe thead th {\n",
       "        text-align: right;\n",
       "    }\n",
       "</style>\n",
       "<table border=\"1\" class=\"dataframe\">\n",
       "  <thead>\n",
       "    <tr style=\"text-align: right;\">\n",
       "      <th></th>\n",
       "      <th>ISBN</th>\n",
       "      <th>Title</th>\n",
       "      <th>Author</th>\n",
       "      <th>Year_Of_Publication</th>\n",
       "      <th>Publisher</th>\n",
       "    </tr>\n",
       "  </thead>\n",
       "  <tbody>\n",
       "    <tr>\n",
       "      <th>0</th>\n",
       "      <td>0195153448</td>\n",
       "      <td>Classical Mythology</td>\n",
       "      <td>Mark P. O. Morford</td>\n",
       "      <td>2002</td>\n",
       "      <td>Oxford University Press</td>\n",
       "    </tr>\n",
       "    <tr>\n",
       "      <th>1</th>\n",
       "      <td>0002005018</td>\n",
       "      <td>Clara Callan</td>\n",
       "      <td>Richard Bruce Wright</td>\n",
       "      <td>2001</td>\n",
       "      <td>HarperFlamingo Canada</td>\n",
       "    </tr>\n",
       "    <tr>\n",
       "      <th>2</th>\n",
       "      <td>0060973129</td>\n",
       "      <td>Decision in Normandy</td>\n",
       "      <td>Carlo D'Este</td>\n",
       "      <td>1991</td>\n",
       "      <td>HarperPerennial</td>\n",
       "    </tr>\n",
       "    <tr>\n",
       "      <th>3</th>\n",
       "      <td>0374157065</td>\n",
       "      <td>Flu: The Story of the Great Influenza Pandemic...</td>\n",
       "      <td>Gina Bari Kolata</td>\n",
       "      <td>1999</td>\n",
       "      <td>Farrar Straus Giroux</td>\n",
       "    </tr>\n",
       "    <tr>\n",
       "      <th>4</th>\n",
       "      <td>0393045218</td>\n",
       "      <td>The Mummies of Urumchi</td>\n",
       "      <td>E. J. W. Barber</td>\n",
       "      <td>1999</td>\n",
       "      <td>W. W. Norton &amp; Company</td>\n",
       "    </tr>\n",
       "  </tbody>\n",
       "</table>\n",
       "</div>"
      ],
      "text/plain": [
       "         ISBN                                              Title  \\\n",
       "0  0195153448                                Classical Mythology   \n",
       "1  0002005018                                       Clara Callan   \n",
       "2  0060973129                               Decision in Normandy   \n",
       "3  0374157065  Flu: The Story of the Great Influenza Pandemic...   \n",
       "4  0393045218                             The Mummies of Urumchi   \n",
       "\n",
       "                 Author  Year_Of_Publication                Publisher  \n",
       "0    Mark P. O. Morford                 2002  Oxford University Press  \n",
       "1  Richard Bruce Wright                 2001    HarperFlamingo Canada  \n",
       "2          Carlo D'Este                 1991          HarperPerennial  \n",
       "3      Gina Bari Kolata                 1999     Farrar Straus Giroux  \n",
       "4       E. J. W. Barber                 1999   W. W. Norton & Company  "
      ]
     },
     "metadata": {},
     "output_type": "display_data"
    }
   ],
   "source": [
    "display(train.head())\n",
    "display(books.head())"
   ]
  },
  {
   "cell_type": "markdown",
   "metadata": {},
   "source": [
    "We need a way to join the training data and the books data on the common column, ISBN.\n",
    "The `JoinExternal` Op can perform the join.\n",
    "\n",
    "(The graph that I get does not look like the graph at <https://nvidia-merlin.github.io/NVTabular/main/examples/getting-started-movielens/02-ETL-with-NVTabular.html#defining-our-preprocessing-pipeline>.\n",
    "I do not know why, but my only suspicion is that the graph does not know about the `train` data.)"
   ]
  },
  {
   "cell_type": "code",
   "execution_count": 13,
   "metadata": {},
   "outputs": [
    {
     "data": {
      "image/svg+xml": "<?xml version=\"1.0\" encoding=\"UTF-8\" standalone=\"no\"?>\n<!DOCTYPE svg PUBLIC \"-//W3C//DTD SVG 1.1//EN\"\n \"http://www.w3.org/Graphics/SVG/1.1/DTD/svg11.dtd\">\n<!-- Generated by graphviz version 2.43.0 (0)\n -->\n<!-- Title: %3 Pages: 1 -->\n<svg width=\"281pt\" height=\"260pt\"\n viewBox=\"0.00 0.00 280.98 260.00\" xmlns=\"http://www.w3.org/2000/svg\" xmlns:xlink=\"http://www.w3.org/1999/xlink\">\n<g id=\"graph0\" class=\"graph\" transform=\"scale(1 1) rotate(0) translate(4 256)\">\n<title>%3</title>\n<polygon fill=\"white\" stroke=\"transparent\" points=\"-4,4 -4,-256 276.98,-256 276.98,4 -4,4\"/>\n<!-- 0 -->\n<g id=\"node1\" class=\"node\">\n<title>0</title>\n<ellipse fill=\"none\" stroke=\"black\" cx=\"136.49\" cy=\"-162\" rx=\"66.89\" ry=\"18\"/>\n<text text-anchor=\"middle\" x=\"136.49\" y=\"-158.3\" font-family=\"Times,serif\" font-size=\"14.00\">SelectionOp</text>\n</g>\n<!-- 1 -->\n<g id=\"node3\" class=\"node\">\n<title>1</title>\n<ellipse fill=\"none\" stroke=\"black\" cx=\"136.49\" cy=\"-90\" rx=\"68.49\" ry=\"18\"/>\n<text text-anchor=\"middle\" x=\"136.49\" y=\"-86.3\" font-family=\"Times,serif\" font-size=\"14.00\">JoinExternal</text>\n</g>\n<!-- 0&#45;&gt;1 -->\n<g id=\"edge2\" class=\"edge\">\n<title>0&#45;&gt;1</title>\n<path fill=\"none\" stroke=\"black\" d=\"M136.49,-143.7C136.49,-135.98 136.49,-126.71 136.49,-118.11\"/>\n<polygon fill=\"black\" stroke=\"black\" points=\"139.99,-118.1 136.49,-108.1 132.99,-118.1 139.99,-118.1\"/>\n</g>\n<!-- 0_selector -->\n<g id=\"node2\" class=\"node\">\n<title>0_selector</title>\n<ellipse fill=\"none\" stroke=\"black\" cx=\"136.49\" cy=\"-234\" rx=\"136.48\" ry=\"18\"/>\n<text text-anchor=\"middle\" x=\"136.49\" y=\"-230.3\" font-family=\"Times,serif\" font-size=\"14.00\">[&#39;User_ID&#39;, &#39;ISBN&#39;, &#39;Rating&#39;]</text>\n</g>\n<!-- 0_selector&#45;&gt;0 -->\n<g id=\"edge1\" class=\"edge\">\n<title>0_selector&#45;&gt;0</title>\n<path fill=\"none\" stroke=\"black\" d=\"M136.49,-215.7C136.49,-207.98 136.49,-198.71 136.49,-190.11\"/>\n<polygon fill=\"black\" stroke=\"black\" points=\"139.99,-190.1 136.49,-180.1 132.99,-190.1 139.99,-190.1\"/>\n</g>\n<!-- 2 -->\n<g id=\"node4\" class=\"node\">\n<title>2</title>\n<ellipse fill=\"none\" stroke=\"black\" cx=\"136.49\" cy=\"-18\" rx=\"62.29\" ry=\"18\"/>\n<text text-anchor=\"middle\" x=\"136.49\" y=\"-14.3\" font-family=\"Times,serif\" font-size=\"14.00\">output cols</text>\n</g>\n<!-- 1&#45;&gt;2 -->\n<g id=\"edge3\" class=\"edge\">\n<title>1&#45;&gt;2</title>\n<path fill=\"none\" stroke=\"black\" d=\"M136.49,-71.7C136.49,-63.98 136.49,-54.71 136.49,-46.11\"/>\n<polygon fill=\"black\" stroke=\"black\" points=\"139.99,-46.1 136.49,-36.1 132.99,-46.1 139.99,-46.1\"/>\n</g>\n</g>\n</svg>\n",
      "text/plain": [
       "<graphviz.graphs.Digraph at 0x7fe72b61b1f0>"
      ]
     },
     "execution_count": 13,
     "metadata": {},
     "output_type": "execute_result"
    }
   ],
   "source": [
    "\n",
    "joined = list(train.to_ddf().columns) >> JoinExternal(books, on=[\"ISBN\"])\n",
    "joined.graph"
   ]
  },
  {
   "cell_type": "code",
   "execution_count": 14,
   "metadata": {},
   "outputs": [
    {
     "name": "stderr",
     "output_type": "stream",
     "text": [
      "/local/var/tmp/mike/merlin/NVTabular/.venv/lib/python3.9/site-packages/merlin/io/dataset.py:408: UserWarning: Changing an NVTabular Dataset to CPU mode.This is an experimental feature with extremely limited support!\n",
      "  warnings.warn(\n",
      "/local/var/tmp/mike/merlin/NVTabular/.venv/lib/python3.9/site-packages/merlin/io/dataset.py:252: UserWarning: Initializing an NVTabular Dataset in CPU mode.This is an experimental feature with extremely limited support!\n",
      "  warnings.warn(\n"
     ]
    },
    {
     "data": {
      "text/html": [
       "<div>\n",
       "<style scoped>\n",
       "    .dataframe tbody tr th:only-of-type {\n",
       "        vertical-align: middle;\n",
       "    }\n",
       "\n",
       "    .dataframe tbody tr th {\n",
       "        vertical-align: top;\n",
       "    }\n",
       "\n",
       "    .dataframe thead th {\n",
       "        text-align: right;\n",
       "    }\n",
       "</style>\n",
       "<table border=\"1\" class=\"dataframe\">\n",
       "  <thead>\n",
       "    <tr style=\"text-align: right;\">\n",
       "      <th></th>\n",
       "      <th>User_ID</th>\n",
       "      <th>ISBN</th>\n",
       "      <th>Rating</th>\n",
       "      <th>Title</th>\n",
       "      <th>Author</th>\n",
       "      <th>Year_Of_Publication</th>\n",
       "      <th>Publisher</th>\n",
       "    </tr>\n",
       "  </thead>\n",
       "  <tbody>\n",
       "    <tr>\n",
       "      <th>0</th>\n",
       "      <td>56039</td>\n",
       "      <td>2207226107</td>\n",
       "      <td>7</td>\n",
       "      <td>Soupe aux choux</td>\n",
       "      <td>R. Fallet</td>\n",
       "      <td>1980</td>\n",
       "      <td>DenoÃ?Â«l</td>\n",
       "    </tr>\n",
       "    <tr>\n",
       "      <th>1</th>\n",
       "      <td>225623</td>\n",
       "      <td>0316601950</td>\n",
       "      <td>7</td>\n",
       "      <td>The Pilot's Wife : A Novel</td>\n",
       "      <td>Anita Shreve</td>\n",
       "      <td>1999</td>\n",
       "      <td>Back Bay Books</td>\n",
       "    </tr>\n",
       "    <tr>\n",
       "      <th>2</th>\n",
       "      <td>33475</td>\n",
       "      <td>0385336748</td>\n",
       "      <td>6</td>\n",
       "      <td>Easter Island</td>\n",
       "      <td>JENNIFER VANDERBES</td>\n",
       "      <td>2004</td>\n",
       "      <td>Delta</td>\n",
       "    </tr>\n",
       "    <tr>\n",
       "      <th>3</th>\n",
       "      <td>69697</td>\n",
       "      <td>0505523183</td>\n",
       "      <td>9</td>\n",
       "      <td>The Night Before Christmas</td>\n",
       "      <td>Victoria Alexander</td>\n",
       "      <td>1998</td>\n",
       "      <td>Love Spell</td>\n",
       "    </tr>\n",
       "    <tr>\n",
       "      <th>4</th>\n",
       "      <td>193458</td>\n",
       "      <td>1559703237</td>\n",
       "      <td>7</td>\n",
       "      <td>Trying to Save Piggy Sneed</td>\n",
       "      <td>John Irving</td>\n",
       "      <td>1996</td>\n",
       "      <td>Arcade Publishing</td>\n",
       "    </tr>\n",
       "  </tbody>\n",
       "</table>\n",
       "</div>"
      ],
      "text/plain": [
       "   User_ID        ISBN  Rating                       Title  \\\n",
       "0    56039  2207226107       7             Soupe aux choux   \n",
       "1   225623  0316601950       7  The Pilot's Wife : A Novel   \n",
       "2    33475  0385336748       6               Easter Island   \n",
       "3    69697  0505523183       9  The Night Before Christmas   \n",
       "4   193458  1559703237       7  Trying to Save Piggy Sneed   \n",
       "\n",
       "               Author  Year_Of_Publication          Publisher  \n",
       "0           R. Fallet                 1980          DenoÃ?Â«l  \n",
       "1        Anita Shreve                 1999     Back Bay Books  \n",
       "2  JENNIFER VANDERBES                 2004              Delta  \n",
       "3  Victoria Alexander                 1998         Love Spell  \n",
       "4         John Irving                 1996  Arcade Publishing  "
      ]
     },
     "metadata": {},
     "output_type": "display_data"
    }
   ],
   "source": [
    "wf = nvt.Workflow(joined)\n",
    "wf.fit(train)\n",
    "display(wf.transform(train).head())"
   ]
  },
  {
   "cell_type": "markdown",
   "metadata": {},
   "source": [
    "Perform some data transformation and feature engineering with the Ops available from NVTabular."
   ]
  },
  {
   "cell_type": "code",
   "execution_count": 67,
   "metadata": {},
   "outputs": [],
   "source": [
    "user_id = joined[[\"User_ID\"]] >> Categorify(dtype=np.int32) >> TagAsUserID()\n",
    "item_id = joined[[\"ISBN\"]] >> Categorify(dtype=np.int32) >> TagAsItemID()\n",
    "\n",
    "item_features = (\n",
    "    joined[[\"Title\", \"Author\", \"Year_Of_Publication\", \"Publisher\"]] >> Categorify(dtype=np.int32) >> TagAsItemFeatures()\n",
    ")\n",
    "\n",
    "target = ColumnGroup([\"Rating\"]) >> LambdaOp(lambda col: (col > 7).astype(np.int8)) >> Rename(name=\"good_or_bad\") >> AddMetadata(tags=[Tags.BINARY_CLASSIFICATION, \"target\"])"
   ]
  },
  {
   "cell_type": "markdown",
   "metadata": {},
   "source": [
    "For play, view the `LambdaOp` and `Rename` Ops in action on the `Rating` column from the `train` dataset:"
   ]
  },
  {
   "cell_type": "code",
   "execution_count": 68,
   "metadata": {},
   "outputs": [
    {
     "name": "stdout",
     "output_type": "stream",
     "text": [
      "The data type of target:  <class 'nvtabular.workflow.node.WorkflowNode'>\n"
     ]
    },
    {
     "data": {
      "text/html": [
       "<div>\n",
       "<style scoped>\n",
       "    .dataframe tbody tr th:only-of-type {\n",
       "        vertical-align: middle;\n",
       "    }\n",
       "\n",
       "    .dataframe tbody tr th {\n",
       "        vertical-align: top;\n",
       "    }\n",
       "\n",
       "    .dataframe thead th {\n",
       "        text-align: right;\n",
       "    }\n",
       "</style>\n",
       "<table border=\"1\" class=\"dataframe\">\n",
       "  <thead>\n",
       "    <tr style=\"text-align: right;\">\n",
       "      <th></th>\n",
       "      <th>good_or_bad</th>\n",
       "    </tr>\n",
       "  </thead>\n",
       "  <tbody>\n",
       "    <tr>\n",
       "      <th>93992</th>\n",
       "      <td>0</td>\n",
       "    </tr>\n",
       "    <tr>\n",
       "      <th>352114</th>\n",
       "      <td>0</td>\n",
       "    </tr>\n",
       "    <tr>\n",
       "      <th>61042</th>\n",
       "      <td>0</td>\n",
       "    </tr>\n",
       "    <tr>\n",
       "      <th>114566</th>\n",
       "      <td>1</td>\n",
       "    </tr>\n",
       "    <tr>\n",
       "      <th>306994</th>\n",
       "      <td>0</td>\n",
       "    </tr>\n",
       "  </tbody>\n",
       "</table>\n",
       "</div>"
      ],
      "text/plain": [
       "        good_or_bad\n",
       "93992             0\n",
       "352114            0\n",
       "61042             0\n",
       "114566            1\n",
       "306994            0"
      ]
     },
     "metadata": {},
     "output_type": "display_data"
    }
   ],
   "source": [
    "print(\"The data type of target: \", type(target))\n",
    "workflow = nvt.Workflow(target)\n",
    "workflow.fit(train)\n",
    "display(workflow.transform(train).head())"
   ]
  },
  {
   "cell_type": "markdown",
   "metadata": {},
   "source": [
    "Now, run the workflow on the data:\n",
    "\n",
    "* Define an `output` variable that combines the workflow nodes.  These workflow nodes are the Ops that perform the feature engineering.\n",
    "* For fun, display the workflow as a graph with graphviz.\n",
    "* Define a new `workflow` variable that can perform the feature engineering.\n",
    "* Fit and transform the workflow on the training data and then display the first few rows."
   ]
  },
  {
   "cell_type": "code",
   "execution_count": 69,
   "metadata": {},
   "outputs": [
    {
     "data": {
      "image/svg+xml": "<?xml version=\"1.0\" encoding=\"UTF-8\" standalone=\"no\"?>\n<!DOCTYPE svg PUBLIC \"-//W3C//DTD SVG 1.1//EN\"\n \"http://www.w3.org/Graphics/SVG/1.1/DTD/svg11.dtd\">\n<!-- Generated by graphviz version 2.43.0 (0)\n -->\n<!-- Title: %3 Pages: 1 -->\n<svg width=\"1369pt\" height=\"548pt\"\n viewBox=\"0.00 0.00 1368.96 548.00\" xmlns=\"http://www.w3.org/2000/svg\" xmlns:xlink=\"http://www.w3.org/1999/xlink\">\n<g id=\"graph0\" class=\"graph\" transform=\"scale(1 1) rotate(0) translate(4 544)\">\n<title>%3</title>\n<polygon fill=\"white\" stroke=\"transparent\" points=\"-4,4 -4,-544 1364.96,-544 1364.96,4 -4,4\"/>\n<!-- 0 -->\n<g id=\"node1\" class=\"node\">\n<title>0</title>\n<ellipse fill=\"none\" stroke=\"black\" cx=\"672.73\" cy=\"-234\" rx=\"59.59\" ry=\"18\"/>\n<text text-anchor=\"middle\" x=\"672.73\" y=\"-230.3\" font-family=\"Times,serif\" font-size=\"14.00\">Categorify</text>\n</g>\n<!-- 8 -->\n<g id=\"node17\" class=\"node\">\n<title>8</title>\n<ellipse fill=\"none\" stroke=\"black\" cx=\"672.73\" cy=\"-162\" rx=\"71.49\" ry=\"18\"/>\n<text text-anchor=\"middle\" x=\"672.73\" y=\"-158.3\" font-family=\"Times,serif\" font-size=\"14.00\">TagAsUserID</text>\n</g>\n<!-- 0&#45;&gt;8 -->\n<g id=\"edge15\" class=\"edge\">\n<title>0&#45;&gt;8</title>\n<path fill=\"none\" stroke=\"black\" d=\"M672.73,-215.7C672.73,-207.98 672.73,-198.71 672.73,-190.11\"/>\n<polygon fill=\"black\" stroke=\"black\" points=\"676.23,-190.1 672.73,-180.1 669.23,-190.1 676.23,-190.1\"/>\n</g>\n<!-- 12 -->\n<g id=\"node2\" class=\"node\">\n<title>12</title>\n<ellipse fill=\"none\" stroke=\"black\" cx=\"672.73\" cy=\"-306\" rx=\"59.59\" ry=\"18\"/>\n<text text-anchor=\"middle\" x=\"672.73\" y=\"-302.3\" font-family=\"Times,serif\" font-size=\"14.00\">[&#39;User_ID&#39;]</text>\n</g>\n<!-- 12&#45;&gt;0 -->\n<g id=\"edge1\" class=\"edge\">\n<title>12&#45;&gt;0</title>\n<path fill=\"none\" stroke=\"black\" d=\"M672.73,-287.7C672.73,-279.98 672.73,-270.71 672.73,-262.11\"/>\n<polygon fill=\"black\" stroke=\"black\" points=\"676.23,-262.1 672.73,-252.1 669.23,-262.1 676.23,-262.1\"/>\n</g>\n<!-- 1 -->\n<g id=\"node3\" class=\"node\">\n<title>1</title>\n<ellipse fill=\"none\" stroke=\"black\" cx=\"573.73\" cy=\"-378\" rx=\"68.49\" ry=\"18\"/>\n<text text-anchor=\"middle\" x=\"573.73\" y=\"-374.3\" font-family=\"Times,serif\" font-size=\"14.00\">JoinExternal</text>\n</g>\n<!-- 1&#45;&gt;12 -->\n<g id=\"edge20\" class=\"edge\">\n<title>1&#45;&gt;12</title>\n<path fill=\"none\" stroke=\"black\" d=\"M596.69,-360.76C610.16,-351.24 627.34,-339.09 641.97,-328.75\"/>\n<polygon fill=\"black\" stroke=\"black\" points=\"644.09,-331.54 650.23,-322.91 640.05,-325.82 644.09,-331.54\"/>\n</g>\n<!-- 15 -->\n<g id=\"node11\" class=\"node\">\n<title>15</title>\n<ellipse fill=\"none\" stroke=\"black\" cx=\"821.73\" cy=\"-306\" rx=\"46.59\" ry=\"18\"/>\n<text text-anchor=\"middle\" x=\"821.73\" y=\"-302.3\" font-family=\"Times,serif\" font-size=\"14.00\">[&#39;ISBN&#39;]</text>\n</g>\n<!-- 1&#45;&gt;15 -->\n<g id=\"edge24\" class=\"edge\">\n<title>1&#45;&gt;15</title>\n<path fill=\"none\" stroke=\"black\" d=\"M618.64,-364.32C663.02,-351.8 730.6,-332.72 775.45,-320.06\"/>\n<polygon fill=\"black\" stroke=\"black\" points=\"776.54,-323.39 785.22,-317.31 774.64,-316.65 776.54,-323.39\"/>\n</g>\n<!-- 10 -->\n<g id=\"node13\" class=\"node\">\n<title>10</title>\n<ellipse fill=\"none\" stroke=\"black\" cx=\"301.73\" cy=\"-306\" rx=\"243.96\" ry=\"18\"/>\n<text text-anchor=\"middle\" x=\"301.73\" y=\"-302.3\" font-family=\"Times,serif\" font-size=\"14.00\">[&#39;Title&#39;, &#39;Author&#39;, &#39;Year_Of_Publication&#39;, &#39;Publisher&#39;]</text>\n</g>\n<!-- 1&#45;&gt;10 -->\n<g id=\"edge17\" class=\"edge\">\n<title>1&#45;&gt;10</title>\n<path fill=\"none\" stroke=\"black\" d=\"M526.66,-364.89C484.98,-354.16 423.46,-338.33 375.28,-325.93\"/>\n<polygon fill=\"black\" stroke=\"black\" points=\"376.09,-322.52 365.53,-323.42 374.34,-329.3 376.09,-322.52\"/>\n</g>\n<!-- 7 -->\n<g id=\"node15\" class=\"node\">\n<title>7</title>\n<ellipse fill=\"none\" stroke=\"black\" cx=\"672.73\" cy=\"-90\" rx=\"27\" ry=\"18\"/>\n<text text-anchor=\"middle\" x=\"672.73\" y=\"-86.3\" font-family=\"Times,serif\" font-size=\"14.00\">+</text>\n</g>\n<!-- 1&#45;&gt;7 -->\n<g id=\"edge10\" class=\"edge\">\n<title>1&#45;&gt;7</title>\n<path fill=\"none\" stroke=\"black\" d=\"M570.39,-360C563.37,-319.37 550.93,-214.76 592.73,-144 603.45,-125.84 623.13,-112.69 640.28,-104.02\"/>\n<polygon fill=\"black\" stroke=\"black\" points=\"641.94,-107.11 649.48,-99.67 638.94,-100.78 641.94,-107.11\"/>\n</g>\n<!-- 2 -->\n<g id=\"node4\" class=\"node\">\n<title>2</title>\n<ellipse fill=\"none\" stroke=\"black\" cx=\"683.73\" cy=\"-450\" rx=\"66.89\" ry=\"18\"/>\n<text text-anchor=\"middle\" x=\"683.73\" y=\"-446.3\" font-family=\"Times,serif\" font-size=\"14.00\">SelectionOp</text>\n</g>\n<!-- 2&#45;&gt;1 -->\n<g id=\"edge2\" class=\"edge\">\n<title>2&#45;&gt;1</title>\n<path fill=\"none\" stroke=\"black\" d=\"M658.77,-433.12C643.58,-423.45 623.98,-410.98 607.43,-400.44\"/>\n<polygon fill=\"black\" stroke=\"black\" points=\"608.91,-397.24 598.59,-394.82 605.15,-403.14 608.91,-397.24\"/>\n</g>\n<!-- 1_selector -->\n<g id=\"node5\" class=\"node\">\n<title>1_selector</title>\n<ellipse fill=\"none\" stroke=\"black\" cx=\"462.73\" cy=\"-450\" rx=\"136.48\" ry=\"18\"/>\n<text text-anchor=\"middle\" x=\"462.73\" y=\"-446.3\" font-family=\"Times,serif\" font-size=\"14.00\">[&#39;User_ID&#39;, &#39;ISBN&#39;, &#39;Rating&#39;]</text>\n</g>\n<!-- 1_selector&#45;&gt;1 -->\n<g id=\"edge3\" class=\"edge\">\n<title>1_selector&#45;&gt;1</title>\n<path fill=\"none\" stroke=\"black\" d=\"M489.32,-432.23C504.47,-422.68 523.61,-410.61 539.83,-400.38\"/>\n<polygon fill=\"black\" stroke=\"black\" points=\"541.91,-403.2 548.5,-394.91 538.18,-397.28 541.91,-403.2\"/>\n</g>\n<!-- 2_selector -->\n<g id=\"node6\" class=\"node\">\n<title>2_selector</title>\n<ellipse fill=\"none\" stroke=\"black\" cx=\"683.73\" cy=\"-522\" rx=\"136.48\" ry=\"18\"/>\n<text text-anchor=\"middle\" x=\"683.73\" y=\"-518.3\" font-family=\"Times,serif\" font-size=\"14.00\">[&#39;User_ID&#39;, &#39;ISBN&#39;, &#39;Rating&#39;]</text>\n</g>\n<!-- 2_selector&#45;&gt;2 -->\n<g id=\"edge4\" class=\"edge\">\n<title>2_selector&#45;&gt;2</title>\n<path fill=\"none\" stroke=\"black\" d=\"M683.73,-503.7C683.73,-495.98 683.73,-486.71 683.73,-478.11\"/>\n<polygon fill=\"black\" stroke=\"black\" points=\"687.23,-478.1 683.73,-468.1 680.23,-478.1 687.23,-478.1\"/>\n</g>\n<!-- 3 -->\n<g id=\"node7\" class=\"node\">\n<title>3</title>\n<ellipse fill=\"none\" stroke=\"black\" cx=\"1123.73\" cy=\"-306\" rx=\"237.46\" ry=\"18\"/>\n<text text-anchor=\"middle\" x=\"1123.73\" y=\"-302.3\" font-family=\"Times,serif\" font-size=\"14.00\">LambdaOp(lambda col: (col &gt; 7).astype(np.int8))</text>\n</g>\n<!-- 14 -->\n<g id=\"node22\" class=\"node\">\n<title>14</title>\n<ellipse fill=\"none\" stroke=\"black\" cx=\"1090.73\" cy=\"-234\" rx=\"48.19\" ry=\"18\"/>\n<text text-anchor=\"middle\" x=\"1090.73\" y=\"-230.3\" font-family=\"Times,serif\" font-size=\"14.00\">Rename</text>\n</g>\n<!-- 3&#45;&gt;14 -->\n<g id=\"edge23\" class=\"edge\">\n<title>3&#45;&gt;14</title>\n<path fill=\"none\" stroke=\"black\" d=\"M1115.57,-287.7C1111.81,-279.73 1107.28,-270.1 1103.11,-261.26\"/>\n<polygon fill=\"black\" stroke=\"black\" points=\"1106.22,-259.66 1098.79,-252.1 1099.89,-262.64 1106.22,-259.66\"/>\n</g>\n<!-- 6 -->\n<g id=\"node8\" class=\"node\">\n<title>6</title>\n<ellipse fill=\"none\" stroke=\"black\" cx=\"986.73\" cy=\"-378\" rx=\"66.89\" ry=\"18\"/>\n<text text-anchor=\"middle\" x=\"986.73\" y=\"-374.3\" font-family=\"Times,serif\" font-size=\"14.00\">SelectionOp</text>\n</g>\n<!-- 6&#45;&gt;3 -->\n<g id=\"edge5\" class=\"edge\">\n<title>6&#45;&gt;3</title>\n<path fill=\"none\" stroke=\"black\" d=\"M1016.46,-361.81C1035.51,-352.07 1060.54,-339.29 1081.63,-328.51\"/>\n<polygon fill=\"black\" stroke=\"black\" points=\"1083.39,-331.54 1090.7,-323.88 1080.2,-325.31 1083.39,-331.54\"/>\n</g>\n<!-- 3_selector -->\n<g id=\"node9\" class=\"node\">\n<title>3_selector</title>\n<ellipse fill=\"none\" stroke=\"black\" cx=\"1124.73\" cy=\"-378\" rx=\"53.09\" ry=\"18\"/>\n<text text-anchor=\"middle\" x=\"1124.73\" y=\"-374.3\" font-family=\"Times,serif\" font-size=\"14.00\">[&#39;Rating&#39;]</text>\n</g>\n<!-- 3_selector&#45;&gt;3 -->\n<g id=\"edge6\" class=\"edge\">\n<title>3_selector&#45;&gt;3</title>\n<path fill=\"none\" stroke=\"black\" d=\"M1124.48,-359.7C1124.37,-351.98 1124.24,-342.71 1124.12,-334.11\"/>\n<polygon fill=\"black\" stroke=\"black\" points=\"1127.62,-334.05 1123.97,-324.1 1120.62,-334.15 1127.62,-334.05\"/>\n</g>\n<!-- 4 -->\n<g id=\"node10\" class=\"node\">\n<title>4</title>\n<ellipse fill=\"none\" stroke=\"black\" cx=\"826.73\" cy=\"-234\" rx=\"59.59\" ry=\"18\"/>\n<text text-anchor=\"middle\" x=\"826.73\" y=\"-230.3\" font-family=\"Times,serif\" font-size=\"14.00\">Categorify</text>\n</g>\n<!-- 11 -->\n<g id=\"node18\" class=\"node\">\n<title>11</title>\n<ellipse fill=\"none\" stroke=\"black\" cx=\"832.73\" cy=\"-162\" rx=\"70.69\" ry=\"18\"/>\n<text text-anchor=\"middle\" x=\"832.73\" y=\"-158.3\" font-family=\"Times,serif\" font-size=\"14.00\">TagAsItemID</text>\n</g>\n<!-- 4&#45;&gt;11 -->\n<g id=\"edge19\" class=\"edge\">\n<title>4&#45;&gt;11</title>\n<path fill=\"none\" stroke=\"black\" d=\"M828.21,-215.7C828.87,-207.98 829.67,-198.71 830.4,-190.11\"/>\n<polygon fill=\"black\" stroke=\"black\" points=\"833.9,-190.37 831.26,-180.1 826.92,-189.77 833.9,-190.37\"/>\n</g>\n<!-- 15&#45;&gt;4 -->\n<g id=\"edge7\" class=\"edge\">\n<title>15&#45;&gt;4</title>\n<path fill=\"none\" stroke=\"black\" d=\"M822.96,-287.7C823.52,-279.98 824.18,-270.71 824.79,-262.11\"/>\n<polygon fill=\"black\" stroke=\"black\" points=\"828.29,-262.33 825.51,-252.1 821.3,-261.83 828.29,-262.33\"/>\n</g>\n<!-- 5 -->\n<g id=\"node12\" class=\"node\">\n<title>5</title>\n<ellipse fill=\"none\" stroke=\"black\" cx=\"372.73\" cy=\"-234\" rx=\"59.59\" ry=\"18\"/>\n<text text-anchor=\"middle\" x=\"372.73\" y=\"-230.3\" font-family=\"Times,serif\" font-size=\"14.00\">Categorify</text>\n</g>\n<!-- 9 -->\n<g id=\"node16\" class=\"node\">\n<title>9</title>\n<ellipse fill=\"none\" stroke=\"black\" cx=\"408.73\" cy=\"-162\" rx=\"100.98\" ry=\"18\"/>\n<text text-anchor=\"middle\" x=\"408.73\" y=\"-158.3\" font-family=\"Times,serif\" font-size=\"14.00\">TagAsItemFeatures</text>\n</g>\n<!-- 5&#45;&gt;9 -->\n<g id=\"edge16\" class=\"edge\">\n<title>5&#45;&gt;9</title>\n<path fill=\"none\" stroke=\"black\" d=\"M381.44,-216.05C385.58,-208.01 390.62,-198.2 395.24,-189.23\"/>\n<polygon fill=\"black\" stroke=\"black\" points=\"398.38,-190.77 399.84,-180.28 392.16,-187.57 398.38,-190.77\"/>\n</g>\n<!-- 10&#45;&gt;5 -->\n<g id=\"edge8\" class=\"edge\">\n<title>10&#45;&gt;5</title>\n<path fill=\"none\" stroke=\"black\" d=\"M319.28,-287.7C328.09,-279.01 338.91,-268.34 348.5,-258.89\"/>\n<polygon fill=\"black\" stroke=\"black\" points=\"351.2,-261.14 355.87,-251.62 346.29,-256.15 351.2,-261.14\"/>\n</g>\n<!-- 6_selector -->\n<g id=\"node14\" class=\"node\">\n<title>6_selector</title>\n<ellipse fill=\"none\" stroke=\"black\" cx=\"986.73\" cy=\"-450\" rx=\"53.09\" ry=\"18\"/>\n<text text-anchor=\"middle\" x=\"986.73\" y=\"-446.3\" font-family=\"Times,serif\" font-size=\"14.00\">[&#39;Rating&#39;]</text>\n</g>\n<!-- 6_selector&#45;&gt;6 -->\n<g id=\"edge9\" class=\"edge\">\n<title>6_selector&#45;&gt;6</title>\n<path fill=\"none\" stroke=\"black\" d=\"M986.73,-431.7C986.73,-423.98 986.73,-414.71 986.73,-406.11\"/>\n<polygon fill=\"black\" stroke=\"black\" points=\"990.23,-406.1 986.73,-396.1 983.23,-406.1 990.23,-406.1\"/>\n</g>\n<!-- 16 -->\n<g id=\"node24\" class=\"node\">\n<title>16</title>\n<ellipse fill=\"none\" stroke=\"black\" cx=\"672.73\" cy=\"-18\" rx=\"62.29\" ry=\"18\"/>\n<text text-anchor=\"middle\" x=\"672.73\" y=\"-14.3\" font-family=\"Times,serif\" font-size=\"14.00\">output cols</text>\n</g>\n<!-- 7&#45;&gt;16 -->\n<g id=\"edge26\" class=\"edge\">\n<title>7&#45;&gt;16</title>\n<path fill=\"none\" stroke=\"black\" d=\"M672.73,-71.7C672.73,-63.98 672.73,-54.71 672.73,-46.11\"/>\n<polygon fill=\"black\" stroke=\"black\" points=\"676.23,-46.1 672.73,-36.1 669.23,-46.1 676.23,-46.1\"/>\n</g>\n<!-- 9&#45;&gt;7 -->\n<g id=\"edge11\" class=\"edge\">\n<title>9&#45;&gt;7</title>\n<path fill=\"none\" stroke=\"black\" d=\"M462.47,-146.75C515.06,-132.81 593.59,-111.98 638.3,-100.13\"/>\n<polygon fill=\"black\" stroke=\"black\" points=\"639.33,-103.48 648.1,-97.53 637.54,-96.71 639.33,-103.48\"/>\n</g>\n<!-- 8&#45;&gt;7 -->\n<g id=\"edge12\" class=\"edge\">\n<title>8&#45;&gt;7</title>\n<path fill=\"none\" stroke=\"black\" d=\"M672.73,-143.7C672.73,-135.98 672.73,-126.71 672.73,-118.11\"/>\n<polygon fill=\"black\" stroke=\"black\" points=\"676.23,-118.1 672.73,-108.1 669.23,-118.1 676.23,-118.1\"/>\n</g>\n<!-- 11&#45;&gt;7 -->\n<g id=\"edge13\" class=\"edge\">\n<title>11&#45;&gt;7</title>\n<path fill=\"none\" stroke=\"black\" d=\"M798.8,-146.15C770.86,-133.93 731.54,-116.73 704.28,-104.8\"/>\n<polygon fill=\"black\" stroke=\"black\" points=\"705.38,-101.47 694.82,-100.66 702.58,-107.88 705.38,-101.47\"/>\n</g>\n<!-- 13 -->\n<g id=\"node19\" class=\"node\">\n<title>13</title>\n<ellipse fill=\"none\" stroke=\"black\" cx=\"1058.73\" cy=\"-162\" rx=\"73.39\" ry=\"18\"/>\n<text text-anchor=\"middle\" x=\"1058.73\" y=\"-158.3\" font-family=\"Times,serif\" font-size=\"14.00\">AddMetadata</text>\n</g>\n<!-- 13&#45;&gt;7 -->\n<g id=\"edge14\" class=\"edge\">\n<title>13&#45;&gt;7</title>\n<path fill=\"none\" stroke=\"black\" d=\"M1001.36,-150.6C920.62,-135.95 775.85,-109.7 708.73,-97.53\"/>\n<polygon fill=\"black\" stroke=\"black\" points=\"709.11,-94.04 698.64,-95.7 707.86,-100.93 709.11,-94.04\"/>\n</g>\n<!-- 10_selector -->\n<g id=\"node20\" class=\"node\">\n<title>10_selector</title>\n<ellipse fill=\"none\" stroke=\"black\" cx=\"243.73\" cy=\"-378\" rx=\"243.96\" ry=\"18\"/>\n<text text-anchor=\"middle\" x=\"243.73\" y=\"-374.3\" font-family=\"Times,serif\" font-size=\"14.00\">[&#39;Title&#39;, &#39;Author&#39;, &#39;Year_Of_Publication&#39;, &#39;Publisher&#39;]</text>\n</g>\n<!-- 10_selector&#45;&gt;10 -->\n<g id=\"edge18\" class=\"edge\">\n<title>10_selector&#45;&gt;10</title>\n<path fill=\"none\" stroke=\"black\" d=\"M258.07,-359.7C265.02,-351.3 273.5,-341.07 281.13,-331.86\"/>\n<polygon fill=\"black\" stroke=\"black\" points=\"283.87,-334.04 287.56,-324.1 278.48,-329.57 283.87,-334.04\"/>\n</g>\n<!-- 12_selector -->\n<g id=\"node21\" class=\"node\">\n<title>12_selector</title>\n<ellipse fill=\"none\" stroke=\"black\" cx=\"719.73\" cy=\"-378\" rx=\"59.59\" ry=\"18\"/>\n<text text-anchor=\"middle\" x=\"719.73\" y=\"-374.3\" font-family=\"Times,serif\" font-size=\"14.00\">[&#39;User_ID&#39;]</text>\n</g>\n<!-- 12_selector&#45;&gt;12 -->\n<g id=\"edge21\" class=\"edge\">\n<title>12_selector&#45;&gt;12</title>\n<path fill=\"none\" stroke=\"black\" d=\"M708.35,-360.05C702.75,-351.71 695.89,-341.49 689.68,-332.25\"/>\n<polygon fill=\"black\" stroke=\"black\" points=\"692.48,-330.14 684,-323.79 686.67,-334.04 692.48,-330.14\"/>\n</g>\n<!-- 14&#45;&gt;13 -->\n<g id=\"edge22\" class=\"edge\">\n<title>14&#45;&gt;13</title>\n<path fill=\"none\" stroke=\"black\" d=\"M1082.98,-216.05C1079.34,-208.09 1074.92,-198.41 1070.85,-189.51\"/>\n<polygon fill=\"black\" stroke=\"black\" points=\"1073.97,-187.91 1066.63,-180.28 1067.6,-190.83 1073.97,-187.91\"/>\n</g>\n<!-- 15_selector -->\n<g id=\"node23\" class=\"node\">\n<title>15_selector</title>\n<ellipse fill=\"none\" stroke=\"black\" cx=\"844.73\" cy=\"-378\" rx=\"46.59\" ry=\"18\"/>\n<text text-anchor=\"middle\" x=\"844.73\" y=\"-374.3\" font-family=\"Times,serif\" font-size=\"14.00\">[&#39;ISBN&#39;]</text>\n</g>\n<!-- 15_selector&#45;&gt;15 -->\n<g id=\"edge25\" class=\"edge\">\n<title>15_selector&#45;&gt;15</title>\n<path fill=\"none\" stroke=\"black\" d=\"M839.16,-360.05C836.57,-352.18 833.43,-342.62 830.53,-333.79\"/>\n<polygon fill=\"black\" stroke=\"black\" points=\"833.85,-332.68 827.4,-324.28 827.2,-334.87 833.85,-332.68\"/>\n</g>\n</g>\n</svg>\n",
      "text/plain": [
       "<graphviz.graphs.Digraph at 0x7fe6bf0081c0>"
      ]
     },
     "execution_count": 69,
     "metadata": {},
     "output_type": "execute_result"
    }
   ],
   "source": [
    "output = joined + item_features + user_id + item_id + target\n",
    "output.graph"
   ]
  },
  {
   "cell_type": "code",
   "execution_count": 66,
   "metadata": {},
   "outputs": [
    {
     "name": "stderr",
     "output_type": "stream",
     "text": [
      "/local/var/tmp/mike/merlin/NVTabular/.venv/lib/python3.9/site-packages/merlin/io/dataset.py:252: UserWarning: Initializing an NVTabular Dataset in CPU mode.This is an experimental feature with extremely limited support!\n",
      "  warnings.warn(\n",
      "Failed to transform operator <merlin.dag.ops.concat_columns.ConcatColumns object at 0x7fe6f01dc040>\n",
      "Traceback (most recent call last):\n",
      "  File \"/local/var/tmp/mike/merlin/NVTabular/nvtabular/workflow/workflow.py\", line 538, in _transform_partition\n",
      "    raise TypeError(\n",
      "TypeError: Dtype discrepancy detected for column ISBN: operator + reported dtype `int32` but returned dtype `object`.\n"
     ]
    },
    {
     "ename": "TypeError",
     "evalue": "Dtype discrepancy detected for column ISBN: operator + reported dtype `int32` but returned dtype `object`.",
     "output_type": "error",
     "traceback": [
      "\u001b[0;31m---------------------------------------------------------------------------\u001b[0m",
      "\u001b[0;31mTypeError\u001b[0m                                 Traceback (most recent call last)",
      "\u001b[1;32m/local/var/tmp/mike/merlin/NVTabular/bx.ipynb Cell 29'\u001b[0m in \u001b[0;36m<cell line: 3>\u001b[0;34m()\u001b[0m\n\u001b[1;32m      <a href='vscode-notebook-cell:/local/var/tmp/mike/merlin/NVTabular/bx.ipynb#ch0000031?line=0'>1</a>\u001b[0m workflow \u001b[39m=\u001b[39m nvt\u001b[39m.\u001b[39mWorkflow(output)\n\u001b[1;32m      <a href='vscode-notebook-cell:/local/var/tmp/mike/merlin/NVTabular/bx.ipynb#ch0000031?line=1'>2</a>\u001b[0m workflow\u001b[39m.\u001b[39mfit(train)\n\u001b[0;32m----> <a href='vscode-notebook-cell:/local/var/tmp/mike/merlin/NVTabular/bx.ipynb#ch0000031?line=2'>3</a>\u001b[0m display(workflow\u001b[39m.\u001b[39;49mtransform(train)\u001b[39m.\u001b[39;49mhead())\n",
      "File \u001b[0;32m/local/var/tmp/mike/merlin/NVTabular/.venv/lib/python3.9/site-packages/merlin/io/dataset.py:1172\u001b[0m, in \u001b[0;36mDataset._bind_dd_method.<locals>.meth\u001b[0;34m(self, *args, **kwargs)\u001b[0m\n\u001b[1;32m   1170\u001b[0m \u001b[39mdef\u001b[39;00m \u001b[39mmeth\u001b[39m(\u001b[39mself\u001b[39m, \u001b[39m*\u001b[39margs, \u001b[39m*\u001b[39m\u001b[39m*\u001b[39mkwargs):\n\u001b[1;32m   1171\u001b[0m     _meth \u001b[39m=\u001b[39m \u001b[39mgetattr\u001b[39m(\u001b[39mself\u001b[39m\u001b[39m.\u001b[39mto_ddf(), name)\n\u001b[0;32m-> 1172\u001b[0m     \u001b[39mreturn\u001b[39;00m _meth(\u001b[39m*\u001b[39;49margs, \u001b[39m*\u001b[39;49m\u001b[39m*\u001b[39;49mkwargs)\n",
      "File \u001b[0;32m/local/var/tmp/mike/merlin/NVTabular/.venv/lib/python3.9/site-packages/dask/dataframe/core.py:1098\u001b[0m, in \u001b[0;36m_Frame.head\u001b[0;34m(self, n, npartitions, compute)\u001b[0m\n\u001b[1;32m   1096\u001b[0m \u001b[39m# No need to warn if we're already looking at all partitions\u001b[39;00m\n\u001b[1;32m   1097\u001b[0m safe \u001b[39m=\u001b[39m npartitions \u001b[39m!=\u001b[39m \u001b[39mself\u001b[39m\u001b[39m.\u001b[39mnpartitions\n\u001b[0;32m-> 1098\u001b[0m \u001b[39mreturn\u001b[39;00m \u001b[39mself\u001b[39;49m\u001b[39m.\u001b[39;49m_head(n\u001b[39m=\u001b[39;49mn, npartitions\u001b[39m=\u001b[39;49mnpartitions, compute\u001b[39m=\u001b[39;49mcompute, safe\u001b[39m=\u001b[39;49msafe)\n",
      "File \u001b[0;32m/local/var/tmp/mike/merlin/NVTabular/.venv/lib/python3.9/site-packages/dask/dataframe/core.py:1132\u001b[0m, in \u001b[0;36m_Frame._head\u001b[0;34m(self, n, npartitions, compute, safe)\u001b[0m\n\u001b[1;32m   1127\u001b[0m result \u001b[39m=\u001b[39m new_dd_object(\n\u001b[1;32m   1128\u001b[0m     graph, name, \u001b[39mself\u001b[39m\u001b[39m.\u001b[39m_meta, [\u001b[39mself\u001b[39m\u001b[39m.\u001b[39mdivisions[\u001b[39m0\u001b[39m], \u001b[39mself\u001b[39m\u001b[39m.\u001b[39mdivisions[npartitions]]\n\u001b[1;32m   1129\u001b[0m )\n\u001b[1;32m   1131\u001b[0m \u001b[39mif\u001b[39;00m compute:\n\u001b[0;32m-> 1132\u001b[0m     result \u001b[39m=\u001b[39m result\u001b[39m.\u001b[39;49mcompute()\n\u001b[1;32m   1133\u001b[0m \u001b[39mreturn\u001b[39;00m result\n",
      "File \u001b[0;32m/local/var/tmp/mike/merlin/NVTabular/.venv/lib/python3.9/site-packages/dask/base.py:288\u001b[0m, in \u001b[0;36mDaskMethodsMixin.compute\u001b[0;34m(self, **kwargs)\u001b[0m\n\u001b[1;32m    264\u001b[0m \u001b[39mdef\u001b[39;00m \u001b[39mcompute\u001b[39m(\u001b[39mself\u001b[39m, \u001b[39m*\u001b[39m\u001b[39m*\u001b[39mkwargs):\n\u001b[1;32m    265\u001b[0m     \u001b[39m\"\"\"Compute this dask collection\u001b[39;00m\n\u001b[1;32m    266\u001b[0m \n\u001b[1;32m    267\u001b[0m \u001b[39m    This turns a lazy Dask collection into its in-memory equivalent.\u001b[39;00m\n\u001b[0;32m   (...)\u001b[0m\n\u001b[1;32m    286\u001b[0m \u001b[39m    dask.base.compute\u001b[39;00m\n\u001b[1;32m    287\u001b[0m \u001b[39m    \"\"\"\u001b[39;00m\n\u001b[0;32m--> 288\u001b[0m     (result,) \u001b[39m=\u001b[39m compute(\u001b[39mself\u001b[39;49m, traverse\u001b[39m=\u001b[39;49m\u001b[39mFalse\u001b[39;49;00m, \u001b[39m*\u001b[39;49m\u001b[39m*\u001b[39;49mkwargs)\n\u001b[1;32m    289\u001b[0m     \u001b[39mreturn\u001b[39;00m result\n",
      "File \u001b[0;32m/local/var/tmp/mike/merlin/NVTabular/.venv/lib/python3.9/site-packages/dask/base.py:571\u001b[0m, in \u001b[0;36mcompute\u001b[0;34m(traverse, optimize_graph, scheduler, get, *args, **kwargs)\u001b[0m\n\u001b[1;32m    568\u001b[0m     keys\u001b[39m.\u001b[39mappend(x\u001b[39m.\u001b[39m__dask_keys__())\n\u001b[1;32m    569\u001b[0m     postcomputes\u001b[39m.\u001b[39mappend(x\u001b[39m.\u001b[39m__dask_postcompute__())\n\u001b[0;32m--> 571\u001b[0m results \u001b[39m=\u001b[39m schedule(dsk, keys, \u001b[39m*\u001b[39;49m\u001b[39m*\u001b[39;49mkwargs)\n\u001b[1;32m    572\u001b[0m \u001b[39mreturn\u001b[39;00m repack([f(r, \u001b[39m*\u001b[39ma) \u001b[39mfor\u001b[39;00m r, (f, a) \u001b[39min\u001b[39;00m \u001b[39mzip\u001b[39m(results, postcomputes)])\n",
      "File \u001b[0;32m/local/var/tmp/mike/merlin/NVTabular/.venv/lib/python3.9/site-packages/dask/threaded.py:79\u001b[0m, in \u001b[0;36mget\u001b[0;34m(dsk, result, cache, num_workers, pool, **kwargs)\u001b[0m\n\u001b[1;32m     76\u001b[0m     \u001b[39melif\u001b[39;00m \u001b[39misinstance\u001b[39m(pool, multiprocessing\u001b[39m.\u001b[39mpool\u001b[39m.\u001b[39mPool):\n\u001b[1;32m     77\u001b[0m         pool \u001b[39m=\u001b[39m MultiprocessingPoolExecutor(pool)\n\u001b[0;32m---> 79\u001b[0m results \u001b[39m=\u001b[39m get_async(\n\u001b[1;32m     80\u001b[0m     pool\u001b[39m.\u001b[39;49msubmit,\n\u001b[1;32m     81\u001b[0m     pool\u001b[39m.\u001b[39;49m_max_workers,\n\u001b[1;32m     82\u001b[0m     dsk,\n\u001b[1;32m     83\u001b[0m     result,\n\u001b[1;32m     84\u001b[0m     cache\u001b[39m=\u001b[39;49mcache,\n\u001b[1;32m     85\u001b[0m     get_id\u001b[39m=\u001b[39;49m_thread_get_id,\n\u001b[1;32m     86\u001b[0m     pack_exception\u001b[39m=\u001b[39;49mpack_exception,\n\u001b[1;32m     87\u001b[0m     \u001b[39m*\u001b[39;49m\u001b[39m*\u001b[39;49mkwargs,\n\u001b[1;32m     88\u001b[0m )\n\u001b[1;32m     90\u001b[0m \u001b[39m# Cleanup pools associated to dead threads\u001b[39;00m\n\u001b[1;32m     91\u001b[0m \u001b[39mwith\u001b[39;00m pools_lock:\n",
      "File \u001b[0;32m/local/var/tmp/mike/merlin/NVTabular/.venv/lib/python3.9/site-packages/dask/local.py:507\u001b[0m, in \u001b[0;36mget_async\u001b[0;34m(submit, num_workers, dsk, result, cache, get_id, rerun_exceptions_locally, pack_exception, raise_exception, callbacks, dumps, loads, chunksize, **kwargs)\u001b[0m\n\u001b[1;32m    505\u001b[0m         _execute_task(task, data)  \u001b[39m# Re-execute locally\u001b[39;00m\n\u001b[1;32m    506\u001b[0m     \u001b[39melse\u001b[39;00m:\n\u001b[0;32m--> 507\u001b[0m         raise_exception(exc, tb)\n\u001b[1;32m    508\u001b[0m res, worker_id \u001b[39m=\u001b[39m loads(res_info)\n\u001b[1;32m    509\u001b[0m state[\u001b[39m\"\u001b[39m\u001b[39mcache\u001b[39m\u001b[39m\"\u001b[39m][key] \u001b[39m=\u001b[39m res\n",
      "File \u001b[0;32m/local/var/tmp/mike/merlin/NVTabular/.venv/lib/python3.9/site-packages/dask/local.py:315\u001b[0m, in \u001b[0;36mreraise\u001b[0;34m(exc, tb)\u001b[0m\n\u001b[1;32m    313\u001b[0m \u001b[39mif\u001b[39;00m exc\u001b[39m.\u001b[39m__traceback__ \u001b[39mis\u001b[39;00m \u001b[39mnot\u001b[39;00m tb:\n\u001b[1;32m    314\u001b[0m     \u001b[39mraise\u001b[39;00m exc\u001b[39m.\u001b[39mwith_traceback(tb)\n\u001b[0;32m--> 315\u001b[0m \u001b[39mraise\u001b[39;00m exc\n",
      "File \u001b[0;32m/local/var/tmp/mike/merlin/NVTabular/.venv/lib/python3.9/site-packages/dask/local.py:220\u001b[0m, in \u001b[0;36mexecute_task\u001b[0;34m(key, task_info, dumps, loads, get_id, pack_exception)\u001b[0m\n\u001b[1;32m    218\u001b[0m \u001b[39mtry\u001b[39;00m:\n\u001b[1;32m    219\u001b[0m     task, data \u001b[39m=\u001b[39m loads(task_info)\n\u001b[0;32m--> 220\u001b[0m     result \u001b[39m=\u001b[39m _execute_task(task, data)\n\u001b[1;32m    221\u001b[0m     \u001b[39mid\u001b[39m \u001b[39m=\u001b[39m get_id()\n\u001b[1;32m    222\u001b[0m     result \u001b[39m=\u001b[39m dumps((result, \u001b[39mid\u001b[39m))\n",
      "File \u001b[0;32m/local/var/tmp/mike/merlin/NVTabular/.venv/lib/python3.9/site-packages/dask/core.py:119\u001b[0m, in \u001b[0;36m_execute_task\u001b[0;34m(arg, cache, dsk)\u001b[0m\n\u001b[1;32m    115\u001b[0m     func, args \u001b[39m=\u001b[39m arg[\u001b[39m0\u001b[39m], arg[\u001b[39m1\u001b[39m:]\n\u001b[1;32m    116\u001b[0m     \u001b[39m# Note: Don't assign the subtask results to a variable. numpy detects\u001b[39;00m\n\u001b[1;32m    117\u001b[0m     \u001b[39m# temporaries by their reference count and can execute certain\u001b[39;00m\n\u001b[1;32m    118\u001b[0m     \u001b[39m# operations in-place.\u001b[39;00m\n\u001b[0;32m--> 119\u001b[0m     \u001b[39mreturn\u001b[39;00m func(\u001b[39m*\u001b[39;49m(_execute_task(a, cache) \u001b[39mfor\u001b[39;49;00m a \u001b[39min\u001b[39;49;00m args))\n\u001b[1;32m    120\u001b[0m \u001b[39melif\u001b[39;00m \u001b[39mnot\u001b[39;00m ishashable(arg):\n\u001b[1;32m    121\u001b[0m     \u001b[39mreturn\u001b[39;00m arg\n",
      "File \u001b[0;32m/local/var/tmp/mike/merlin/NVTabular/.venv/lib/python3.9/site-packages/dask/optimization.py:969\u001b[0m, in \u001b[0;36mSubgraphCallable.__call__\u001b[0;34m(self, *args)\u001b[0m\n\u001b[1;32m    967\u001b[0m \u001b[39mif\u001b[39;00m \u001b[39mnot\u001b[39;00m \u001b[39mlen\u001b[39m(args) \u001b[39m==\u001b[39m \u001b[39mlen\u001b[39m(\u001b[39mself\u001b[39m\u001b[39m.\u001b[39minkeys):\n\u001b[1;32m    968\u001b[0m     \u001b[39mraise\u001b[39;00m \u001b[39mValueError\u001b[39;00m(\u001b[39m\"\u001b[39m\u001b[39mExpected \u001b[39m\u001b[39m%d\u001b[39;00m\u001b[39m args, got \u001b[39m\u001b[39m%d\u001b[39;00m\u001b[39m\"\u001b[39m \u001b[39m%\u001b[39m (\u001b[39mlen\u001b[39m(\u001b[39mself\u001b[39m\u001b[39m.\u001b[39minkeys), \u001b[39mlen\u001b[39m(args)))\n\u001b[0;32m--> 969\u001b[0m \u001b[39mreturn\u001b[39;00m core\u001b[39m.\u001b[39;49mget(\u001b[39mself\u001b[39;49m\u001b[39m.\u001b[39;49mdsk, \u001b[39mself\u001b[39;49m\u001b[39m.\u001b[39;49moutkey, \u001b[39mdict\u001b[39;49m(\u001b[39mzip\u001b[39;49m(\u001b[39mself\u001b[39;49m\u001b[39m.\u001b[39;49minkeys, args)))\n",
      "File \u001b[0;32m/local/var/tmp/mike/merlin/NVTabular/.venv/lib/python3.9/site-packages/dask/core.py:149\u001b[0m, in \u001b[0;36mget\u001b[0;34m(dsk, out, cache)\u001b[0m\n\u001b[1;32m    147\u001b[0m \u001b[39mfor\u001b[39;00m key \u001b[39min\u001b[39;00m toposort(dsk):\n\u001b[1;32m    148\u001b[0m     task \u001b[39m=\u001b[39m dsk[key]\n\u001b[0;32m--> 149\u001b[0m     result \u001b[39m=\u001b[39m _execute_task(task, cache)\n\u001b[1;32m    150\u001b[0m     cache[key] \u001b[39m=\u001b[39m result\n\u001b[1;32m    151\u001b[0m result \u001b[39m=\u001b[39m _execute_task(out, cache)\n",
      "File \u001b[0;32m/local/var/tmp/mike/merlin/NVTabular/.venv/lib/python3.9/site-packages/dask/core.py:119\u001b[0m, in \u001b[0;36m_execute_task\u001b[0;34m(arg, cache, dsk)\u001b[0m\n\u001b[1;32m    115\u001b[0m     func, args \u001b[39m=\u001b[39m arg[\u001b[39m0\u001b[39m], arg[\u001b[39m1\u001b[39m:]\n\u001b[1;32m    116\u001b[0m     \u001b[39m# Note: Don't assign the subtask results to a variable. numpy detects\u001b[39;00m\n\u001b[1;32m    117\u001b[0m     \u001b[39m# temporaries by their reference count and can execute certain\u001b[39;00m\n\u001b[1;32m    118\u001b[0m     \u001b[39m# operations in-place.\u001b[39;00m\n\u001b[0;32m--> 119\u001b[0m     \u001b[39mreturn\u001b[39;00m func(\u001b[39m*\u001b[39;49m(_execute_task(a, cache) \u001b[39mfor\u001b[39;49;00m a \u001b[39min\u001b[39;49;00m args))\n\u001b[1;32m    120\u001b[0m \u001b[39melif\u001b[39;00m \u001b[39mnot\u001b[39;00m ishashable(arg):\n\u001b[1;32m    121\u001b[0m     \u001b[39mreturn\u001b[39;00m arg\n",
      "File \u001b[0;32m/local/var/tmp/mike/merlin/NVTabular/.venv/lib/python3.9/site-packages/dask/utils.py:37\u001b[0m, in \u001b[0;36mapply\u001b[0;34m(func, args, kwargs)\u001b[0m\n\u001b[1;32m     35\u001b[0m \u001b[39mdef\u001b[39;00m \u001b[39mapply\u001b[39m(func, args, kwargs\u001b[39m=\u001b[39m\u001b[39mNone\u001b[39;00m):\n\u001b[1;32m     36\u001b[0m     \u001b[39mif\u001b[39;00m kwargs:\n\u001b[0;32m---> 37\u001b[0m         \u001b[39mreturn\u001b[39;00m func(\u001b[39m*\u001b[39;49margs, \u001b[39m*\u001b[39;49m\u001b[39m*\u001b[39;49mkwargs)\n\u001b[1;32m     38\u001b[0m     \u001b[39melse\u001b[39;00m:\n\u001b[1;32m     39\u001b[0m         \u001b[39mreturn\u001b[39;00m func(\u001b[39m*\u001b[39margs)\n",
      "File \u001b[0;32m/local/var/tmp/mike/merlin/NVTabular/nvtabular/workflow/workflow.py:538\u001b[0m, in \u001b[0;36m_transform_partition\u001b[0;34m(root_df, workflow_nodes, additional_columns, capture_dtypes)\u001b[0m\n\u001b[1;32m    536\u001b[0m         \u001b[39melif\u001b[39;00m \u001b[39mlen\u001b[39m(output_df):\n\u001b[1;32m    537\u001b[0m             \u001b[39mif\u001b[39;00m output_col_schema\u001b[39m.\u001b[39mdtype \u001b[39m!=\u001b[39m output_df_schema\u001b[39m.\u001b[39mdtype:\n\u001b[0;32m--> 538\u001b[0m                 \u001b[39mraise\u001b[39;00m \u001b[39mTypeError\u001b[39;00m(\n\u001b[1;32m    539\u001b[0m                     \u001b[39mf\u001b[39m\u001b[39m\"\u001b[39m\u001b[39mDtype discrepancy detected for column \u001b[39m\u001b[39m{\u001b[39;00mcol_name\u001b[39m}\u001b[39;00m\u001b[39m: \u001b[39m\u001b[39m\"\u001b[39m\n\u001b[1;32m    540\u001b[0m                     \u001b[39mf\u001b[39m\u001b[39m\"\u001b[39m\u001b[39moperator \u001b[39m\u001b[39m{\u001b[39;00mnode\u001b[39m.\u001b[39mop\u001b[39m.\u001b[39mlabel\u001b[39m}\u001b[39;00m\u001b[39m reported dtype \u001b[39m\u001b[39m\"\u001b[39m\n\u001b[1;32m    541\u001b[0m                     \u001b[39mf\u001b[39m\u001b[39m\"\u001b[39m\u001b[39m`\u001b[39m\u001b[39m{\u001b[39;00moutput_col_schema\u001b[39m.\u001b[39mdtype\u001b[39m}\u001b[39;00m\u001b[39m` but returned dtype \u001b[39m\u001b[39m\"\u001b[39m\n\u001b[1;32m    542\u001b[0m                     \u001b[39mf\u001b[39m\u001b[39m\"\u001b[39m\u001b[39m`\u001b[39m\u001b[39m{\u001b[39;00moutput_df_schema\u001b[39m.\u001b[39mdtype\u001b[39m}\u001b[39;00m\u001b[39m`.\u001b[39m\u001b[39m\"\u001b[39m\n\u001b[1;32m    543\u001b[0m                 )\n\u001b[1;32m    544\u001b[0m \u001b[39mexcept\u001b[39;00m \u001b[39mException\u001b[39;00m:\n\u001b[1;32m    545\u001b[0m     LOG\u001b[39m.\u001b[39mexception(\u001b[39m\"\u001b[39m\u001b[39mFailed to transform operator \u001b[39m\u001b[39m%s\u001b[39;00m\u001b[39m\"\u001b[39m, node\u001b[39m.\u001b[39mop)\n",
      "\u001b[0;31mTypeError\u001b[0m: Dtype discrepancy detected for column ISBN: operator + reported dtype `int32` but returned dtype `object`."
     ]
    }
   ],
   "source": [
    "workflow = nvt.Workflow(output)\n",
    "workflow.fit(train)\n",
    "display(workflow.transform(train).head())"
   ]
  },
  {
   "cell_type": "code",
   "execution_count": 46,
   "metadata": {},
   "outputs": [
    {
     "data": {
      "text/plain": [
       "nvtabular.workflow.node.WorkflowNode"
      ]
     },
     "execution_count": 46,
     "metadata": {},
     "output_type": "execute_result"
    }
   ],
   "source": [
    "# display(joined.selector.names)\n",
    "type(output)\n",
    "#dir(output)\n",
    "#display(output.dependencies)"
   ]
  },
  {
   "cell_type": "code",
   "execution_count": null,
   "metadata": {},
   "outputs": [],
   "source": []
  }
 ],
 "metadata": {
  "kernelspec": {
   "display_name": "Python 3.9.2 ('.venv': poetry)",
   "language": "python",
   "name": "python3"
  },
  "language_info": {
   "codemirror_mode": {
    "name": "ipython",
    "version": 3
   },
   "file_extension": ".py",
   "mimetype": "text/x-python",
   "name": "python",
   "nbconvert_exporter": "python",
   "pygments_lexer": "ipython3",
   "version": "3.9.2"
  },
  "orig_nbformat": 4,
  "vscode": {
   "interpreter": {
    "hash": "1ddf0196a867f8744eee162d891a82a184216ae08e9c1cefe0afdff4cc7690f0"
   }
  }
 },
 "nbformat": 4,
 "nbformat_minor": 2
}
