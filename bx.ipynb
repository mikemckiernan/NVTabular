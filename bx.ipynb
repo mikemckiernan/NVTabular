{
 "cells": [
  {
   "cell_type": "markdown",
   "metadata": {},
   "source": [
    "## Repeat of the book-crossing dataset recommender example that I wrote for SAS"
   ]
  },
  {
   "cell_type": "code",
   "execution_count": 1,
   "metadata": {},
   "outputs": [],
   "source": [
    "import html\n",
    "import numpy as np\n",
    "import pandas as pd\n",
    "import re\n",
    "from io import StringIO\n",
    "from pathlib import Path\n"
   ]
  },
  {
   "cell_type": "code",
   "execution_count": 3,
   "metadata": {},
   "outputs": [],
   "source": [
    "import nvtabular as nvt\n",
    "import merlin.io"
   ]
  },
  {
   "cell_type": "code",
   "execution_count": 4,
   "metadata": {},
   "outputs": [],
   "source": [
    "data_dir = Path('/local/var/tmp/mike/bx')\n",
    "ratings_file = data_dir / \"BX-Book-Ratings.csv\"\n",
    "books_file = data_dir / \"BX-Books.csv\""
   ]
  },
  {
   "cell_type": "code",
   "execution_count": 5,
   "metadata": {},
   "outputs": [
    {
     "data": {
      "text/html": [
       "<div>\n",
       "<style scoped>\n",
       "    .dataframe tbody tr th:only-of-type {\n",
       "        vertical-align: middle;\n",
       "    }\n",
       "\n",
       "    .dataframe tbody tr th {\n",
       "        vertical-align: top;\n",
       "    }\n",
       "\n",
       "    .dataframe thead th {\n",
       "        text-align: right;\n",
       "    }\n",
       "</style>\n",
       "<table border=\"1\" class=\"dataframe\">\n",
       "  <thead>\n",
       "    <tr style=\"text-align: right;\">\n",
       "      <th></th>\n",
       "      <th>ISBN</th>\n",
       "      <th>Title</th>\n",
       "      <th>Author</th>\n",
       "      <th>Year_Of_Publication</th>\n",
       "      <th>Publisher</th>\n",
       "    </tr>\n",
       "  </thead>\n",
       "  <tbody>\n",
       "    <tr>\n",
       "      <th>0</th>\n",
       "      <td>0195153448</td>\n",
       "      <td>Classical Mythology</td>\n",
       "      <td>Mark P. O. Morford</td>\n",
       "      <td>2002</td>\n",
       "      <td>Oxford University Press</td>\n",
       "    </tr>\n",
       "    <tr>\n",
       "      <th>1</th>\n",
       "      <td>0002005018</td>\n",
       "      <td>Clara Callan</td>\n",
       "      <td>Richard Bruce Wright</td>\n",
       "      <td>2001</td>\n",
       "      <td>HarperFlamingo Canada</td>\n",
       "    </tr>\n",
       "    <tr>\n",
       "      <th>2</th>\n",
       "      <td>0060973129</td>\n",
       "      <td>Decision in Normandy</td>\n",
       "      <td>Carlo D'Este</td>\n",
       "      <td>1991</td>\n",
       "      <td>HarperPerennial</td>\n",
       "    </tr>\n",
       "    <tr>\n",
       "      <th>3</th>\n",
       "      <td>0374157065</td>\n",
       "      <td>Flu: The Story of the Great Influenza Pandemic...</td>\n",
       "      <td>Gina Bari Kolata</td>\n",
       "      <td>1999</td>\n",
       "      <td>Farrar Straus Giroux</td>\n",
       "    </tr>\n",
       "    <tr>\n",
       "      <th>4</th>\n",
       "      <td>0393045218</td>\n",
       "      <td>The Mummies of Urumchi</td>\n",
       "      <td>E. J. W. Barber</td>\n",
       "      <td>1999</td>\n",
       "      <td>W. W. Norton &amp; Company</td>\n",
       "    </tr>\n",
       "  </tbody>\n",
       "</table>\n",
       "</div>"
      ],
      "text/plain": [
       "         ISBN                                              Title  \\\n",
       "0  0195153448                                Classical Mythology   \n",
       "1  0002005018                                       Clara Callan   \n",
       "2  0060973129                               Decision in Normandy   \n",
       "3  0374157065  Flu: The Story of the Great Influenza Pandemic...   \n",
       "4  0393045218                             The Mummies of Urumchi   \n",
       "\n",
       "                 Author Year_Of_Publication                Publisher  \n",
       "0    Mark P. O. Morford                2002  Oxford University Press  \n",
       "1  Richard Bruce Wright                2001    HarperFlamingo Canada  \n",
       "2          Carlo D'Este                1991          HarperPerennial  \n",
       "3      Gina Bari Kolata                1999     Farrar Straus Giroux  \n",
       "4       E. J. W. Barber                1999   W. W. Norton & Company  "
      ]
     },
     "execution_count": 5,
     "metadata": {},
     "output_type": "execute_result"
    }
   ],
   "source": [
    "with open(books_file, 'r', encoding='iso-8859-1') as f:\n",
    "    content = html.unescape(f.read())\n",
    "\n",
    "books_df = pd.read_csv(StringIO(content),\n",
    "                       header=0, \n",
    "                       sep=';', encoding='iso-8859-1',\n",
    "                       names=['ISBN', 'Title', 'Author', 'Year_Of_Publication', 'Publisher'],\n",
    "                       usecols=['ISBN', 'Title', 'Author', 'Year_Of_Publication', 'Publisher'],\n",
    "                       dtype={'Year_Of_Publication': str})\n",
    "\n",
    "books_df = books_df[books_df.ISBN.str.len() == 10]\n",
    "\n",
    "books_df.head()"
   ]
  },
  {
   "cell_type": "markdown",
   "metadata": {},
   "source": [
    "Display the data types:"
   ]
  },
  {
   "cell_type": "code",
   "execution_count": 6,
   "metadata": {},
   "outputs": [
    {
     "data": {
      "text/plain": [
       "ISBN                   object\n",
       "Title                  object\n",
       "Author                 object\n",
       "Year_Of_Publication    object\n",
       "Publisher              object\n",
       "dtype: object"
      ]
     },
     "execution_count": 6,
     "metadata": {},
     "output_type": "execute_result"
    }
   ],
   "source": [
    "books_df.dtypes"
   ]
  },
  {
   "cell_type": "markdown",
   "metadata": {},
   "source": [
    "Import the ratings data:"
   ]
  },
  {
   "cell_type": "code",
   "execution_count": 7,
   "metadata": {},
   "outputs": [
    {
     "data": {
      "text/html": [
       "<div>\n",
       "<style scoped>\n",
       "    .dataframe tbody tr th:only-of-type {\n",
       "        vertical-align: middle;\n",
       "    }\n",
       "\n",
       "    .dataframe tbody tr th {\n",
       "        vertical-align: top;\n",
       "    }\n",
       "\n",
       "    .dataframe thead th {\n",
       "        text-align: right;\n",
       "    }\n",
       "</style>\n",
       "<table border=\"1\" class=\"dataframe\">\n",
       "  <thead>\n",
       "    <tr style=\"text-align: right;\">\n",
       "      <th></th>\n",
       "      <th>User_ID</th>\n",
       "      <th>ISBN</th>\n",
       "      <th>Rating</th>\n",
       "    </tr>\n",
       "  </thead>\n",
       "  <tbody>\n",
       "    <tr>\n",
       "      <th>0</th>\n",
       "      <td>276726</td>\n",
       "      <td>0155061224</td>\n",
       "      <td>5</td>\n",
       "    </tr>\n",
       "    <tr>\n",
       "      <th>1</th>\n",
       "      <td>276729</td>\n",
       "      <td>052165615X</td>\n",
       "      <td>3</td>\n",
       "    </tr>\n",
       "    <tr>\n",
       "      <th>2</th>\n",
       "      <td>276729</td>\n",
       "      <td>0521795028</td>\n",
       "      <td>6</td>\n",
       "    </tr>\n",
       "    <tr>\n",
       "      <th>3</th>\n",
       "      <td>276736</td>\n",
       "      <td>3257224281</td>\n",
       "      <td>8</td>\n",
       "    </tr>\n",
       "    <tr>\n",
       "      <th>4</th>\n",
       "      <td>276737</td>\n",
       "      <td>0600570967</td>\n",
       "      <td>6</td>\n",
       "    </tr>\n",
       "  </tbody>\n",
       "</table>\n",
       "</div>"
      ],
      "text/plain": [
       "  User_ID        ISBN  Rating\n",
       "0  276726  0155061224       5\n",
       "1  276729  052165615X       3\n",
       "2  276729  0521795028       6\n",
       "3  276736  3257224281       8\n",
       "4  276737  0600570967       6"
      ]
     },
     "execution_count": 7,
     "metadata": {},
     "output_type": "execute_result"
    }
   ],
   "source": [
    "isbn_pat = re.compile('\"\\d+\";\"[0-9X]{10}\";\"[1-9][0]?\"')\n",
    "buffer = StringIO()\n",
    "\n",
    "with open(ratings_file, 'r', encoding='iso-8859-1') as f:\n",
    "    for line in f:\n",
    "        if isbn_pat.match(line):\n",
    "            buffer.write(line)\n",
    "            \n",
    "buffer.seek(0)            \n",
    "ratings_df = pd.read_csv(buffer,\n",
    "                         skiprows=0,\n",
    "                         sep=';',\n",
    "                         names=['User_ID', 'ISBN', 'Rating'],\n",
    "                         dtype={'User_ID': str, 'ISBN': str, 'Rating': int})\n",
    "buffer.close()\n",
    "\n",
    "ratings_df.head()"
   ]
  },
  {
   "cell_type": "markdown",
   "metadata": {},
   "source": [
    "Display the data types of the ratings data:"
   ]
  },
  {
   "cell_type": "code",
   "execution_count": 8,
   "metadata": {},
   "outputs": [
    {
     "data": {
      "text/plain": [
       "User_ID    object\n",
       "ISBN       object\n",
       "Rating      int64\n",
       "dtype: object"
      ]
     },
     "execution_count": 8,
     "metadata": {},
     "output_type": "execute_result"
    }
   ],
   "source": [
    "ratings_df.dtypes"
   ]
  },
  {
   "cell_type": "markdown",
   "metadata": {},
   "source": [
    "## Imitation data quality\n",
    "\n",
    "* Remove duplicate ratings.\n",
    "* Remove ratings for ISBNs that are not in the books DataFrame."
   ]
  },
  {
   "cell_type": "code",
   "execution_count": 9,
   "metadata": {},
   "outputs": [
    {
     "name": "stdout",
     "output_type": "stream",
     "text": [
      "Ratings count before changes:  428204\n",
      "Ratings count after changes:  383596\n"
     ]
    },
    {
     "data": {
      "text/html": [
       "<div>\n",
       "<style scoped>\n",
       "    .dataframe tbody tr th:only-of-type {\n",
       "        vertical-align: middle;\n",
       "    }\n",
       "\n",
       "    .dataframe tbody tr th {\n",
       "        vertical-align: top;\n",
       "    }\n",
       "\n",
       "    .dataframe thead th {\n",
       "        text-align: right;\n",
       "    }\n",
       "</style>\n",
       "<table border=\"1\" class=\"dataframe\">\n",
       "  <thead>\n",
       "    <tr style=\"text-align: right;\">\n",
       "      <th></th>\n",
       "      <th>Rating</th>\n",
       "    </tr>\n",
       "  </thead>\n",
       "  <tbody>\n",
       "    <tr>\n",
       "      <th>count</th>\n",
       "      <td>383596.000000</td>\n",
       "    </tr>\n",
       "    <tr>\n",
       "      <th>mean</th>\n",
       "      <td>7.626589</td>\n",
       "    </tr>\n",
       "    <tr>\n",
       "      <th>std</th>\n",
       "      <td>1.841458</td>\n",
       "    </tr>\n",
       "    <tr>\n",
       "      <th>min</th>\n",
       "      <td>1.000000</td>\n",
       "    </tr>\n",
       "    <tr>\n",
       "      <th>25%</th>\n",
       "      <td>7.000000</td>\n",
       "    </tr>\n",
       "    <tr>\n",
       "      <th>50%</th>\n",
       "      <td>8.000000</td>\n",
       "    </tr>\n",
       "    <tr>\n",
       "      <th>75%</th>\n",
       "      <td>9.000000</td>\n",
       "    </tr>\n",
       "    <tr>\n",
       "      <th>max</th>\n",
       "      <td>10.000000</td>\n",
       "    </tr>\n",
       "  </tbody>\n",
       "</table>\n",
       "</div>"
      ],
      "text/plain": [
       "              Rating\n",
       "count  383596.000000\n",
       "mean        7.626589\n",
       "std         1.841458\n",
       "min         1.000000\n",
       "25%         7.000000\n",
       "50%         8.000000\n",
       "75%         9.000000\n",
       "max        10.000000"
      ]
     },
     "execution_count": 9,
     "metadata": {},
     "output_type": "execute_result"
    }
   ],
   "source": [
    "print(\"Ratings count before changes: \", len(ratings_df))\n",
    "\n",
    "ratings_df.drop_duplicates(inplace=True)\n",
    "\n",
    "ratings_df = ratings_df[ratings_df.set_index(['ISBN']).index.isin(books_df.set_index(['ISBN']).index)]\n",
    "\n",
    "print(\"Ratings count after changes: \", len(ratings_df))\n",
    "\n",
    "ratings_df.describe()\n"
   ]
  },
  {
   "cell_type": "code",
   "execution_count": 10,
   "metadata": {},
   "outputs": [
    {
     "name": "stdout",
     "output_type": "stream",
     "text": [
      "Looking in indexes: https://pypi.org/simple, https://pypi.ngc.nvidia.com\n",
      "Requirement already satisfied: matplotlib in ./.venv/lib/python3.9/site-packages (3.5.2)\n",
      "Requirement already satisfied: cycler>=0.10 in ./.venv/lib/python3.9/site-packages (from matplotlib) (0.11.0)\n",
      "Requirement already satisfied: python-dateutil>=2.7 in ./.venv/lib/python3.9/site-packages (from matplotlib) (2.8.2)\n",
      "Requirement already satisfied: kiwisolver>=1.0.1 in ./.venv/lib/python3.9/site-packages (from matplotlib) (1.4.3)\n",
      "Requirement already satisfied: pyparsing>=2.2.1 in ./.venv/lib/python3.9/site-packages (from matplotlib) (3.0.8)\n",
      "Requirement already satisfied: fonttools>=4.22.0 in ./.venv/lib/python3.9/site-packages (from matplotlib) (4.33.3)\n",
      "Requirement already satisfied: pillow>=6.2.0 in ./.venv/lib/python3.9/site-packages (from matplotlib) (9.1.1)\n",
      "Requirement already satisfied: numpy>=1.17 in ./.venv/lib/python3.9/site-packages (from matplotlib) (1.20.3)\n",
      "Requirement already satisfied: packaging>=20.0 in ./.venv/lib/python3.9/site-packages (from matplotlib) (21.3)\n",
      "Requirement already satisfied: six>=1.5 in ./.venv/lib/python3.9/site-packages (from python-dateutil>=2.7->matplotlib) (1.16.0)\n",
      "\u001b[33mWARNING: You are using pip version 22.0.4; however, version 22.1.2 is available.\n",
      "You should consider upgrading via the '/local/var/tmp/mike/merlin/NVTabular/.venv/bin/python -m pip install --upgrade pip' command.\u001b[0m\u001b[33m\n",
      "\u001b[0m   Rating  count\n",
      "0       1   1479\n",
      "1       2   2374\n",
      "2       3   5117\n",
      "3       4   7612\n",
      "4       5  45342\n",
      "5       6  31671\n",
      "6       7  66352\n",
      "7       8  91722\n",
      "8       9  60743\n",
      "9      10  71184\n"
     ]
    },
    {
     "data": {
      "image/png": "[encoded data removed]",
      "text/plain": [
       "<Figure size 720x360 with 1 Axes>"
      ]
     },
     "metadata": {
      "needs_background": "light"
     },
     "output_type": "display_data"
    }
   ],
   "source": [
    "! pip install matplotlib\n",
    "import matplotlib.pyplot as plt\n",
    "\n",
    "x = ratings_df.groupby('Rating')['ISBN'].count().reset_index(name=\"count\")\n",
    "print(x)\n",
    "\n",
    "# plt.hist(ratings_df.groupby(\"Rating\").count()[['ISBN']], )\n",
    "fig, ax = plt.subplots()\n",
    "\n",
    "ax.bar(x['Rating'], x['count'], width=.5)\n",
    "ax.set_title('Distribution of Ratings')\n",
    "ax.set_ylabel('Count')\n",
    "ax.set_xlabel('Rating')\n",
    "ax.set_xticks(x['Rating'])\n",
    "fig.set_size_inches(10,5)\n",
    "\n",
    "plt.show()"
   ]
  },
  {
   "cell_type": "markdown",
   "metadata": {},
   "source": [
    "## Partition the data into training and validation\n",
    "\n",
    "After partitioning the data, save the data in Parquet format."
   ]
  },
  {
   "cell_type": "code",
   "execution_count": 11,
   "metadata": {},
   "outputs": [
    {
     "name": "stderr",
     "output_type": "stream",
     "text": [
      "/local/var/tmp/mike/merlin/NVTabular/.venv/lib/python3.9/site-packages/merlin/io/dataset.py:252: UserWarning: Initializing an NVTabular Dataset in CPU mode.This is an experimental feature with extremely limited support!\n",
      "  warnings.warn(\n"
     ]
    }
   ],
   "source": [
    "ratings = ratings_df.sample(len(ratings_df), replace=False)\n",
    "validation_count = int(len(ratings) * 0.33)\n",
    "\n",
    "train = ratings[:-validation_count]\n",
    "valid = ratings[-validation_count:]\n",
    "\n",
    "train = merlin.io.Dataset(train)\n",
    "train.to_parquet(data_dir / \"train.parquet\")\n",
    "\n",
    "valid = merlin.io.Dataset(valid)\n",
    "valid.to_parquet(data_dir / \"valid.parquet\")\n",
    "\n",
    "books = merlin.io.Dataset(books_df)\n",
    "books.to_parquet(data_dir / \"books.parquet\")\n"
   ]
  },
  {
   "cell_type": "code",
   "execution_count": 12,
   "metadata": {},
   "outputs": [
    {
     "data": {
      "text/html": [
       "<div>\n",
       "<style scoped>\n",
       "    .dataframe tbody tr th:only-of-type {\n",
       "        vertical-align: middle;\n",
       "    }\n",
       "\n",
       "    .dataframe tbody tr th {\n",
       "        vertical-align: top;\n",
       "    }\n",
       "\n",
       "    .dataframe thead th {\n",
       "        text-align: right;\n",
       "    }\n",
       "</style>\n",
       "<table border=\"1\" class=\"dataframe\">\n",
       "  <thead>\n",
       "    <tr style=\"text-align: right;\">\n",
       "      <th></th>\n",
       "      <th>ISBN</th>\n",
       "      <th>Title</th>\n",
       "      <th>Author</th>\n",
       "      <th>Year_Of_Publication</th>\n",
       "      <th>Publisher</th>\n",
       "    </tr>\n",
       "  </thead>\n",
       "  <tbody>\n",
       "    <tr>\n",
       "      <th>0</th>\n",
       "      <td>0195153448</td>\n",
       "      <td>Classical Mythology</td>\n",
       "      <td>Mark P. O. Morford</td>\n",
       "      <td>2002</td>\n",
       "      <td>Oxford University Press</td>\n",
       "    </tr>\n",
       "    <tr>\n",
       "      <th>1</th>\n",
       "      <td>0002005018</td>\n",
       "      <td>Clara Callan</td>\n",
       "      <td>Richard Bruce Wright</td>\n",
       "      <td>2001</td>\n",
       "      <td>HarperFlamingo Canada</td>\n",
       "    </tr>\n",
       "    <tr>\n",
       "      <th>2</th>\n",
       "      <td>0060973129</td>\n",
       "      <td>Decision in Normandy</td>\n",
       "      <td>Carlo D'Este</td>\n",
       "      <td>1991</td>\n",
       "      <td>HarperPerennial</td>\n",
       "    </tr>\n",
       "    <tr>\n",
       "      <th>3</th>\n",
       "      <td>0374157065</td>\n",
       "      <td>Flu: The Story of the Great Influenza Pandemic...</td>\n",
       "      <td>Gina Bari Kolata</td>\n",
       "      <td>1999</td>\n",
       "      <td>Farrar Straus Giroux</td>\n",
       "    </tr>\n",
       "    <tr>\n",
       "      <th>4</th>\n",
       "      <td>0393045218</td>\n",
       "      <td>The Mummies of Urumchi</td>\n",
       "      <td>E. J. W. Barber</td>\n",
       "      <td>1999</td>\n",
       "      <td>W. W. Norton &amp; Company</td>\n",
       "    </tr>\n",
       "  </tbody>\n",
       "</table>\n",
       "</div>"
      ],
      "text/plain": [
       "         ISBN                                              Title  \\\n",
       "0  0195153448                                Classical Mythology   \n",
       "1  0002005018                                       Clara Callan   \n",
       "2  0060973129                               Decision in Normandy   \n",
       "3  0374157065  Flu: The Story of the Great Influenza Pandemic...   \n",
       "4  0393045218                             The Mummies of Urumchi   \n",
       "\n",
       "                 Author Year_Of_Publication                Publisher  \n",
       "0    Mark P. O. Morford                2002  Oxford University Press  \n",
       "1  Richard Bruce Wright                2001    HarperFlamingo Canada  \n",
       "2          Carlo D'Este                1991          HarperPerennial  \n",
       "3      Gina Bari Kolata                1999     Farrar Straus Giroux  \n",
       "4       E. J. W. Barber                1999   W. W. Norton & Company  "
      ]
     },
     "execution_count": 12,
     "metadata": {},
     "output_type": "execute_result"
    }
   ],
   "source": [
    "books.head()"
   ]
  },
  {
   "cell_type": "markdown",
   "metadata": {},
   "source": [
    "## Attempting to understand how to use NVT's Ops\n",
    "\n",
    "In the discussion at <https://nvidia-merlin.github.io/NVTabular/main/examples/getting-started-movielens/02-ETL-with-NVTabular.html>,\n",
    "I'm a little disoriented:\n",
    "\n",
    "* Before the \"Defining our Preprocessing Pipeline\", there is a `head()` of the movies data.\n",
    "That is good because it reinforces my understanding of the data.\n",
    "\n",
    "* In the \"Defining...\" section, the **Example** is generic--`features = [ column_name, ... ]...`.\n",
    "This is slightly disorienting and I'd like to consider if using the same variable names from the data sample could work.\n",
    "\n",
    "* Right after the generic example, `CATEGORICAL_COLUMNS` and `LABEL_COLUMNS` are defined--and tie to the data sample, which is good, but I'm lost in what we're joining with the `JoinExternal` Op and why `joined.graph` has two tables with inputs of `userID, movieID` and outputs the same two columns.  I'm missing something.\n",
    "\n",
    "My instinct is that the Movielens example is growing stale.  I switched to looking at <https://nvidia-merlin.github.io/Merlin/main/examples/Building-and-deploying-multi-stage-RecSys/01-Building-Recommender-Systems-with-Merlin.html> for inspiration."
   ]
  },
  {
   "cell_type": "code",
   "execution_count": 13,
   "metadata": {},
   "outputs": [],
   "source": [
    "from nvtabular.ops import (\n",
    "    Categorify,\n",
    "    LambdaOp,\n",
    "    TagAsUserID,\n",
    "    TagAsItemID,\n",
    "    TagAsItemFeatures,\n",
    "    TagAsUserFeatures,\n",
    "    AddMetadata,\n",
    "    Filter,\n",
    "    Rename,\n",
    "    JoinExternal,\n",
    ")\n",
    "\n",
    "from nvtabular import ColumnGroup\n",
    "\n",
    "from merlin.schema.tags import Tags\n",
    "\n",
    "from merlin.io.dataset import Dataset"
   ]
  },
  {
   "cell_type": "code",
   "execution_count": 14,
   "metadata": {},
   "outputs": [
    {
     "data": {
      "text/html": [
       "<div>\n",
       "<style scoped>\n",
       "    .dataframe tbody tr th:only-of-type {\n",
       "        vertical-align: middle;\n",
       "    }\n",
       "\n",
       "    .dataframe tbody tr th {\n",
       "        vertical-align: top;\n",
       "    }\n",
       "\n",
       "    .dataframe thead th {\n",
       "        text-align: right;\n",
       "    }\n",
       "</style>\n",
       "<table border=\"1\" class=\"dataframe\">\n",
       "  <thead>\n",
       "    <tr style=\"text-align: right;\">\n",
       "      <th></th>\n",
       "      <th>User_ID</th>\n",
       "      <th>ISBN</th>\n",
       "      <th>Rating</th>\n",
       "    </tr>\n",
       "  </thead>\n",
       "  <tbody>\n",
       "    <tr>\n",
       "      <th>20295</th>\n",
       "      <td>11676</td>\n",
       "      <td>0425163385</td>\n",
       "      <td>8</td>\n",
       "    </tr>\n",
       "    <tr>\n",
       "      <th>131420</th>\n",
       "      <td>80810</td>\n",
       "      <td>0345423631</td>\n",
       "      <td>8</td>\n",
       "    </tr>\n",
       "    <tr>\n",
       "      <th>251047</th>\n",
       "      <td>156269</td>\n",
       "      <td>0679441883</td>\n",
       "      <td>7</td>\n",
       "    </tr>\n",
       "    <tr>\n",
       "      <th>48539</th>\n",
       "      <td>26535</td>\n",
       "      <td>0440235618</td>\n",
       "      <td>5</td>\n",
       "    </tr>\n",
       "    <tr>\n",
       "      <th>30748</th>\n",
       "      <td>14958</td>\n",
       "      <td>8420442127</td>\n",
       "      <td>7</td>\n",
       "    </tr>\n",
       "  </tbody>\n",
       "</table>\n",
       "</div>"
      ],
      "text/plain": [
       "       User_ID        ISBN  Rating\n",
       "20295    11676  0425163385       8\n",
       "131420   80810  0345423631       8\n",
       "251047  156269  0679441883       7\n",
       "48539    26535  0440235618       5\n",
       "30748    14958  8420442127       7"
      ]
     },
     "metadata": {},
     "output_type": "display_data"
    },
    {
     "data": {
      "text/html": [
       "<div>\n",
       "<style scoped>\n",
       "    .dataframe tbody tr th:only-of-type {\n",
       "        vertical-align: middle;\n",
       "    }\n",
       "\n",
       "    .dataframe tbody tr th {\n",
       "        vertical-align: top;\n",
       "    }\n",
       "\n",
       "    .dataframe thead th {\n",
       "        text-align: right;\n",
       "    }\n",
       "</style>\n",
       "<table border=\"1\" class=\"dataframe\">\n",
       "  <thead>\n",
       "    <tr style=\"text-align: right;\">\n",
       "      <th></th>\n",
       "      <th>ISBN</th>\n",
       "      <th>Title</th>\n",
       "      <th>Author</th>\n",
       "      <th>Year_Of_Publication</th>\n",
       "      <th>Publisher</th>\n",
       "    </tr>\n",
       "  </thead>\n",
       "  <tbody>\n",
       "    <tr>\n",
       "      <th>0</th>\n",
       "      <td>0195153448</td>\n",
       "      <td>Classical Mythology</td>\n",
       "      <td>Mark P. O. Morford</td>\n",
       "      <td>2002</td>\n",
       "      <td>Oxford University Press</td>\n",
       "    </tr>\n",
       "    <tr>\n",
       "      <th>1</th>\n",
       "      <td>0002005018</td>\n",
       "      <td>Clara Callan</td>\n",
       "      <td>Richard Bruce Wright</td>\n",
       "      <td>2001</td>\n",
       "      <td>HarperFlamingo Canada</td>\n",
       "    </tr>\n",
       "    <tr>\n",
       "      <th>2</th>\n",
       "      <td>0060973129</td>\n",
       "      <td>Decision in Normandy</td>\n",
       "      <td>Carlo D'Este</td>\n",
       "      <td>1991</td>\n",
       "      <td>HarperPerennial</td>\n",
       "    </tr>\n",
       "    <tr>\n",
       "      <th>3</th>\n",
       "      <td>0374157065</td>\n",
       "      <td>Flu: The Story of the Great Influenza Pandemic...</td>\n",
       "      <td>Gina Bari Kolata</td>\n",
       "      <td>1999</td>\n",
       "      <td>Farrar Straus Giroux</td>\n",
       "    </tr>\n",
       "    <tr>\n",
       "      <th>4</th>\n",
       "      <td>0393045218</td>\n",
       "      <td>The Mummies of Urumchi</td>\n",
       "      <td>E. J. W. Barber</td>\n",
       "      <td>1999</td>\n",
       "      <td>W. W. Norton &amp; Company</td>\n",
       "    </tr>\n",
       "  </tbody>\n",
       "</table>\n",
       "</div>"
      ],
      "text/plain": [
       "         ISBN                                              Title  \\\n",
       "0  0195153448                                Classical Mythology   \n",
       "1  0002005018                                       Clara Callan   \n",
       "2  0060973129                               Decision in Normandy   \n",
       "3  0374157065  Flu: The Story of the Great Influenza Pandemic...   \n",
       "4  0393045218                             The Mummies of Urumchi   \n",
       "\n",
       "                 Author Year_Of_Publication                Publisher  \n",
       "0    Mark P. O. Morford                2002  Oxford University Press  \n",
       "1  Richard Bruce Wright                2001    HarperFlamingo Canada  \n",
       "2          Carlo D'Este                1991          HarperPerennial  \n",
       "3      Gina Bari Kolata                1999     Farrar Straus Giroux  \n",
       "4       E. J. W. Barber                1999   W. W. Norton & Company  "
      ]
     },
     "metadata": {},
     "output_type": "display_data"
    }
   ],
   "source": [
    "display(train.head())\n",
    "display(books.head())"
   ]
  },
  {
   "cell_type": "markdown",
   "metadata": {},
   "source": [
    "We need a way to join the training data and the books data on the common column, ISBN.\n",
    "The `JoinExternal` Op can perform the join.\n",
    "\n",
    "(The graph that I get does not look like the graph at <https://nvidia-merlin.github.io/NVTabular/main/examples/getting-started-movielens/02-ETL-with-NVTabular.html#defining-our-preprocessing-pipeline>.\n",
    "I do not know why, but my only suspicion is that the graph does not know about the `train` data.)"
   ]
  },
  {
   "cell_type": "code",
   "execution_count": 15,
   "metadata": {},
   "outputs": [
    {
     "data": {
      "image/svg+xml": "<?xml version=\"1.0\" encoding=\"UTF-8\" standalone=\"no\"?>\n<!DOCTYPE svg PUBLIC \"-//W3C//DTD SVG 1.1//EN\"\n \"http://www.w3.org/Graphics/SVG/1.1/DTD/svg11.dtd\">\n<!-- Generated by graphviz version 2.43.0 (0)\n -->\n<!-- Title: %3 Pages: 1 -->\n<svg width=\"281pt\" height=\"260pt\"\n viewBox=\"0.00 0.00 280.98 260.00\" xmlns=\"http://www.w3.org/2000/svg\" xmlns:xlink=\"http://www.w3.org/1999/xlink\">\n<g id=\"graph0\" class=\"graph\" transform=\"scale(1 1) rotate(0) translate(4 256)\">\n<title>%3</title>\n<polygon fill=\"white\" stroke=\"transparent\" points=\"-4,4 -4,-256 276.98,-256 276.98,4 -4,4\"/>\n<!-- 0 -->\n<g id=\"node1\" class=\"node\">\n<title>0</title>\n<ellipse fill=\"none\" stroke=\"black\" cx=\"136.49\" cy=\"-162\" rx=\"66.89\" ry=\"18\"/>\n<text text-anchor=\"middle\" x=\"136.49\" y=\"-158.3\" font-family=\"Times,serif\" font-size=\"14.00\">SelectionOp</text>\n</g>\n<!-- 1 -->\n<g id=\"node3\" class=\"node\">\n<title>1</title>\n<ellipse fill=\"none\" stroke=\"black\" cx=\"136.49\" cy=\"-90\" rx=\"68.49\" ry=\"18\"/>\n<text text-anchor=\"middle\" x=\"136.49\" y=\"-86.3\" font-family=\"Times,serif\" font-size=\"14.00\">JoinExternal</text>\n</g>\n<!-- 0&#45;&gt;1 -->\n<g id=\"edge2\" class=\"edge\">\n<title>0&#45;&gt;1</title>\n<path fill=\"none\" stroke=\"black\" d=\"M136.49,-143.7C136.49,-135.98 136.49,-126.71 136.49,-118.11\"/>\n<polygon fill=\"black\" stroke=\"black\" points=\"139.99,-118.1 136.49,-108.1 132.99,-118.1 139.99,-118.1\"/>\n</g>\n<!-- 0_selector -->\n<g id=\"node2\" class=\"node\">\n<title>0_selector</title>\n<ellipse fill=\"none\" stroke=\"black\" cx=\"136.49\" cy=\"-234\" rx=\"136.48\" ry=\"18\"/>\n<text text-anchor=\"middle\" x=\"136.49\" y=\"-230.3\" font-family=\"Times,serif\" font-size=\"14.00\">[&#39;User_ID&#39;, &#39;ISBN&#39;, &#39;Rating&#39;]</text>\n</g>\n<!-- 0_selector&#45;&gt;0 -->\n<g id=\"edge1\" class=\"edge\">\n<title>0_selector&#45;&gt;0</title>\n<path fill=\"none\" stroke=\"black\" d=\"M136.49,-215.7C136.49,-207.98 136.49,-198.71 136.49,-190.11\"/>\n<polygon fill=\"black\" stroke=\"black\" points=\"139.99,-190.1 136.49,-180.1 132.99,-190.1 139.99,-190.1\"/>\n</g>\n<!-- 2 -->\n<g id=\"node4\" class=\"node\">\n<title>2</title>\n<ellipse fill=\"none\" stroke=\"black\" cx=\"136.49\" cy=\"-18\" rx=\"62.29\" ry=\"18\"/>\n<text text-anchor=\"middle\" x=\"136.49\" y=\"-14.3\" font-family=\"Times,serif\" font-size=\"14.00\">output cols</text>\n</g>\n<!-- 1&#45;&gt;2 -->\n<g id=\"edge3\" class=\"edge\">\n<title>1&#45;&gt;2</title>\n<path fill=\"none\" stroke=\"black\" d=\"M136.49,-71.7C136.49,-63.98 136.49,-54.71 136.49,-46.11\"/>\n<polygon fill=\"black\" stroke=\"black\" points=\"139.99,-46.1 136.49,-36.1 132.99,-46.1 139.99,-46.1\"/>\n</g>\n</g>\n</svg>\n",
      "text/plain": [
       "<graphviz.graphs.Digraph at 0x7fa91672ad00>"
      ]
     },
     "execution_count": 15,
     "metadata": {},
     "output_type": "execute_result"
    }
   ],
   "source": [
    "\n",
    "joined = list(train.to_ddf().columns) >> JoinExternal(books, on=[\"ISBN\"])\n",
    "joined.graph"
   ]
  },
  {
   "cell_type": "code",
   "execution_count": 16,
   "metadata": {},
   "outputs": [
    {
     "name": "stderr",
     "output_type": "stream",
     "text": [
      "/local/var/tmp/mike/merlin/NVTabular/.venv/lib/python3.9/site-packages/merlin/io/dataset.py:408: UserWarning: Changing an NVTabular Dataset to CPU mode.This is an experimental feature with extremely limited support!\n",
      "  warnings.warn(\n",
      "/local/var/tmp/mike/merlin/NVTabular/.venv/lib/python3.9/site-packages/merlin/io/dataset.py:252: UserWarning: Initializing an NVTabular Dataset in CPU mode.This is an experimental feature with extremely limited support!\n",
      "  warnings.warn(\n"
     ]
    },
    {
     "data": {
      "text/html": [
       "<div>\n",
       "<style scoped>\n",
       "    .dataframe tbody tr th:only-of-type {\n",
       "        vertical-align: middle;\n",
       "    }\n",
       "\n",
       "    .dataframe tbody tr th {\n",
       "        vertical-align: top;\n",
       "    }\n",
       "\n",
       "    .dataframe thead th {\n",
       "        text-align: right;\n",
       "    }\n",
       "</style>\n",
       "<table border=\"1\" class=\"dataframe\">\n",
       "  <thead>\n",
       "    <tr style=\"text-align: right;\">\n",
       "      <th></th>\n",
       "      <th>User_ID</th>\n",
       "      <th>ISBN</th>\n",
       "      <th>Rating</th>\n",
       "      <th>Title</th>\n",
       "      <th>Author</th>\n",
       "      <th>Year_Of_Publication</th>\n",
       "      <th>Publisher</th>\n",
       "    </tr>\n",
       "  </thead>\n",
       "  <tbody>\n",
       "    <tr>\n",
       "      <th>0</th>\n",
       "      <td>11676</td>\n",
       "      <td>0425163385</td>\n",
       "      <td>8</td>\n",
       "      <td>The Night Crew</td>\n",
       "      <td>John Sandford</td>\n",
       "      <td>2004</td>\n",
       "      <td>Berkley Publishing Group</td>\n",
       "    </tr>\n",
       "    <tr>\n",
       "      <th>1</th>\n",
       "      <td>80810</td>\n",
       "      <td>0345423631</td>\n",
       "      <td>8</td>\n",
       "      <td>Night of the Wolf</td>\n",
       "      <td>Alice Borchardt</td>\n",
       "      <td>2000</td>\n",
       "      <td>Ballantine Books</td>\n",
       "    </tr>\n",
       "    <tr>\n",
       "      <th>2</th>\n",
       "      <td>156269</td>\n",
       "      <td>0679441883</td>\n",
       "      <td>7</td>\n",
       "      <td>Rainbow's End: A Richard Jury Novel</td>\n",
       "      <td>Martha Grimes</td>\n",
       "      <td>1995</td>\n",
       "      <td>Random House Inc</td>\n",
       "    </tr>\n",
       "    <tr>\n",
       "      <th>3</th>\n",
       "      <td>26535</td>\n",
       "      <td>0440235618</td>\n",
       "      <td>5</td>\n",
       "      <td>The Rogues of Regent Street: The Dangerous Gen...</td>\n",
       "      <td>JULIA LONDON</td>\n",
       "      <td>2000</td>\n",
       "      <td>Dell</td>\n",
       "    </tr>\n",
       "    <tr>\n",
       "      <th>4</th>\n",
       "      <td>14958</td>\n",
       "      <td>8420442127</td>\n",
       "      <td>7</td>\n",
       "      <td>La novia de Matisse</td>\n",
       "      <td>Manuel Vicent</td>\n",
       "      <td>2001</td>\n",
       "      <td>Alfaguara Ediciones, S.A. (Spain)</td>\n",
       "    </tr>\n",
       "  </tbody>\n",
       "</table>\n",
       "</div>"
      ],
      "text/plain": [
       "  User_ID        ISBN  Rating  \\\n",
       "0   11676  0425163385       8   \n",
       "1   80810  0345423631       8   \n",
       "2  156269  0679441883       7   \n",
       "3   26535  0440235618       5   \n",
       "4   14958  8420442127       7   \n",
       "\n",
       "                                               Title           Author  \\\n",
       "0                                     The Night Crew    John Sandford   \n",
       "1                                  Night of the Wolf  Alice Borchardt   \n",
       "2                Rainbow's End: A Richard Jury Novel    Martha Grimes   \n",
       "3  The Rogues of Regent Street: The Dangerous Gen...     JULIA LONDON   \n",
       "4                                La novia de Matisse    Manuel Vicent   \n",
       "\n",
       "  Year_Of_Publication                          Publisher  \n",
       "0                2004           Berkley Publishing Group  \n",
       "1                2000                   Ballantine Books  \n",
       "2                1995                   Random House Inc  \n",
       "3                2000                               Dell  \n",
       "4                2001  Alfaguara Ediciones, S.A. (Spain)  "
      ]
     },
     "metadata": {},
     "output_type": "display_data"
    }
   ],
   "source": [
    "wf = nvt.Workflow(joined)\n",
    "wf.fit(train)\n",
    "display(wf.transform(train).head())"
   ]
  },
  {
   "cell_type": "markdown",
   "metadata": {},
   "source": [
    "Perform some data transformation and feature engineering with the Ops available from NVTabular.\n"
   ]
  },
  {
   "cell_type": "code",
   "execution_count": 17,
   "metadata": {},
   "outputs": [],
   "source": [
    "user_id = [\"User_ID\"] >> Categorify(dtype=\"int32\") >> TagAsUserID()\n",
    "item_id = [\"ISBN\"] >> Categorify(dtype=\"int32\") >> TagAsItemID()\n",
    "\n",
    "item_features = (\n",
    "    [\"Title\", \"Author\", \"Year_Of_Publication\", \"Publisher\"] >> Categorify(dtype=\"int32\") >> TagAsItemFeatures()\n",
    ")\n",
    "\n",
    "target = ColumnGroup([\"Rating\"]) >> LambdaOp(lambda col: (col > 7).astype(\"int8\")) >> Rename(name=\"good_or_bad\") >> AddMetadata(tags=[Tags.BINARY_CLASSIFICATION, \"target\"])\n"
   ]
  },
  {
   "cell_type": "markdown",
   "metadata": {},
   "source": [
    "For play, view the `LambdaOp` and `Rename` Ops in action on the `Rating` column from the `train` dataset:"
   ]
  },
  {
   "cell_type": "code",
   "execution_count": 18,
   "metadata": {},
   "outputs": [
    {
     "name": "stdout",
     "output_type": "stream",
     "text": [
      "The data type of target:  <class 'nvtabular.workflow.node.WorkflowNode'>\n"
     ]
    },
    {
     "name": "stderr",
     "output_type": "stream",
     "text": [
      "/local/var/tmp/mike/merlin/NVTabular/.venv/lib/python3.9/site-packages/merlin/io/dataset.py:252: UserWarning: Initializing an NVTabular Dataset in CPU mode.This is an experimental feature with extremely limited support!\n",
      "  warnings.warn(\n"
     ]
    },
    {
     "data": {
      "text/html": [
       "<div>\n",
       "<style scoped>\n",
       "    .dataframe tbody tr th:only-of-type {\n",
       "        vertical-align: middle;\n",
       "    }\n",
       "\n",
       "    .dataframe tbody tr th {\n",
       "        vertical-align: top;\n",
       "    }\n",
       "\n",
       "    .dataframe thead th {\n",
       "        text-align: right;\n",
       "    }\n",
       "</style>\n",
       "<table border=\"1\" class=\"dataframe\">\n",
       "  <thead>\n",
       "    <tr style=\"text-align: right;\">\n",
       "      <th></th>\n",
       "      <th>good_or_bad</th>\n",
       "    </tr>\n",
       "  </thead>\n",
       "  <tbody>\n",
       "    <tr>\n",
       "      <th>20295</th>\n",
       "      <td>1</td>\n",
       "    </tr>\n",
       "    <tr>\n",
       "      <th>131420</th>\n",
       "      <td>1</td>\n",
       "    </tr>\n",
       "    <tr>\n",
       "      <th>251047</th>\n",
       "      <td>0</td>\n",
       "    </tr>\n",
       "    <tr>\n",
       "      <th>48539</th>\n",
       "      <td>0</td>\n",
       "    </tr>\n",
       "    <tr>\n",
       "      <th>30748</th>\n",
       "      <td>0</td>\n",
       "    </tr>\n",
       "  </tbody>\n",
       "</table>\n",
       "</div>"
      ],
      "text/plain": [
       "        good_or_bad\n",
       "20295             1\n",
       "131420            1\n",
       "251047            0\n",
       "48539             0\n",
       "30748             0"
      ]
     },
     "metadata": {},
     "output_type": "display_data"
    }
   ],
   "source": [
    "print(\"The data type of target: \", type(target))\n",
    "workflow = nvt.Workflow(target)\n",
    "workflow.fit(train)\n",
    "display(workflow.transform(train).head())"
   ]
  },
  {
   "cell_type": "markdown",
   "metadata": {},
   "source": [
    "Now, run the workflow on the data:\n",
    "\n",
    "* Define an `output` variable that combines the workflow nodes.  These workflow nodes are the Ops that perform the feature engineering.\n",
    "* For fun, display the workflow as a graph with graphviz.\n",
    "* Define a new `workflow` variable that can perform the feature engineering.\n",
    "* Fit and transform the workflow on the training data and then display the first few rows."
   ]
  },
  {
   "cell_type": "code",
   "execution_count": 20,
   "metadata": {},
   "outputs": [
    {
     "data": {
      "image/svg+xml": "<?xml version=\"1.0\" encoding=\"UTF-8\" standalone=\"no\"?>\n<!DOCTYPE svg PUBLIC \"-//W3C//DTD SVG 1.1//EN\"\n \"http://www.w3.org/Graphics/SVG/1.1/DTD/svg11.dtd\">\n<!-- Generated by graphviz version 2.43.0 (0)\n -->\n<!-- Title: %3 Pages: 1 -->\n<svg width=\"1398pt\" height=\"476pt\"\n viewBox=\"0.00 0.00 1398.32 476.00\" xmlns=\"http://www.w3.org/2000/svg\" xmlns:xlink=\"http://www.w3.org/1999/xlink\">\n<g id=\"graph0\" class=\"graph\" transform=\"scale(1 1) rotate(0) translate(4 472)\">\n<title>%3</title>\n<polygon fill=\"white\" stroke=\"transparent\" points=\"-4,4 -4,-472 1394.32,-472 1394.32,4 -4,4\"/>\n<!-- 0 -->\n<g id=\"node1\" class=\"node\">\n<title>0</title>\n<ellipse fill=\"none\" stroke=\"black\" cx=\"1187.38\" cy=\"-162\" rx=\"70.69\" ry=\"18\"/>\n<text text-anchor=\"middle\" x=\"1187.38\" y=\"-158.3\" font-family=\"Times,serif\" font-size=\"14.00\">TagAsItemID</text>\n</g>\n<!-- 14 -->\n<g id=\"node23\" class=\"node\">\n<title>14</title>\n<ellipse fill=\"none\" stroke=\"black\" cx=\"737.38\" cy=\"-90\" rx=\"27\" ry=\"18\"/>\n<text text-anchor=\"middle\" x=\"737.38\" y=\"-86.3\" font-family=\"Times,serif\" font-size=\"14.00\">+</text>\n</g>\n<!-- 0&#45;&gt;14 -->\n<g id=\"edge19\" class=\"edge\">\n<title>0&#45;&gt;14</title>\n<path fill=\"none\" stroke=\"black\" d=\"M1128.55,-151.85C1034.12,-137.16 851.47,-108.75 773.78,-96.66\"/>\n<polygon fill=\"black\" stroke=\"black\" points=\"773.95,-93.15 763.53,-95.07 772.88,-100.06 773.95,-93.15\"/>\n</g>\n<!-- 15 -->\n<g id=\"node2\" class=\"node\">\n<title>15</title>\n<ellipse fill=\"none\" stroke=\"black\" cx=\"1323.38\" cy=\"-234\" rx=\"59.59\" ry=\"18\"/>\n<text text-anchor=\"middle\" x=\"1323.38\" y=\"-230.3\" font-family=\"Times,serif\" font-size=\"14.00\">Categorify</text>\n</g>\n<!-- 15&#45;&gt;0 -->\n<g id=\"edge1\" class=\"edge\">\n<title>15&#45;&gt;0</title>\n<path fill=\"none\" stroke=\"black\" d=\"M1294.54,-218.15C1274.75,-207.97 1248.26,-194.33 1226.56,-183.17\"/>\n<polygon fill=\"black\" stroke=\"black\" points=\"1228.09,-180.02 1217.59,-178.55 1224.88,-186.24 1228.09,-180.02\"/>\n</g>\n<!-- 1 -->\n<g id=\"node3\" class=\"node\">\n<title>1</title>\n<ellipse fill=\"none\" stroke=\"black\" cx=\"324.38\" cy=\"-162\" rx=\"73.39\" ry=\"18\"/>\n<text text-anchor=\"middle\" x=\"324.38\" y=\"-158.3\" font-family=\"Times,serif\" font-size=\"14.00\">AddMetadata</text>\n</g>\n<!-- 1&#45;&gt;14 -->\n<g id=\"edge21\" class=\"edge\">\n<title>1&#45;&gt;14</title>\n<path fill=\"none\" stroke=\"black\" d=\"M383.11,-151.05C469.93,-136.33 629.91,-109.21 701.32,-97.11\"/>\n<polygon fill=\"black\" stroke=\"black\" points=\"701.92,-100.56 711.19,-95.44 700.75,-93.66 701.92,-100.56\"/>\n</g>\n<!-- 8 -->\n<g id=\"node4\" class=\"node\">\n<title>8</title>\n<ellipse fill=\"none\" stroke=\"black\" cx=\"293.38\" cy=\"-234\" rx=\"48.19\" ry=\"18\"/>\n<text text-anchor=\"middle\" x=\"293.38\" y=\"-230.3\" font-family=\"Times,serif\" font-size=\"14.00\">Rename</text>\n</g>\n<!-- 8&#45;&gt;1 -->\n<g id=\"edge2\" class=\"edge\">\n<title>8&#45;&gt;1</title>\n<path fill=\"none\" stroke=\"black\" d=\"M300.88,-216.05C304.41,-208.09 308.7,-198.41 312.64,-189.51\"/>\n<polygon fill=\"black\" stroke=\"black\" points=\"315.88,-190.84 316.73,-180.28 309.48,-188 315.88,-190.84\"/>\n</g>\n<!-- 2 -->\n<g id=\"node5\" class=\"node\">\n<title>2</title>\n<ellipse fill=\"none\" stroke=\"black\" cx=\"547.38\" cy=\"-162\" rx=\"100.98\" ry=\"18\"/>\n<text text-anchor=\"middle\" x=\"547.38\" y=\"-158.3\" font-family=\"Times,serif\" font-size=\"14.00\">TagAsItemFeatures</text>\n</g>\n<!-- 2&#45;&gt;14 -->\n<g id=\"edge20\" class=\"edge\">\n<title>2&#45;&gt;14</title>\n<path fill=\"none\" stroke=\"black\" d=\"M589.55,-145.46C624.27,-132.67 672.81,-114.79 704.65,-103.06\"/>\n<polygon fill=\"black\" stroke=\"black\" points=\"706.19,-106.22 714.37,-99.48 703.77,-99.65 706.19,-106.22\"/>\n</g>\n<!-- 13 -->\n<g id=\"node6\" class=\"node\">\n<title>13</title>\n<ellipse fill=\"none\" stroke=\"black\" cx=\"547.38\" cy=\"-234\" rx=\"59.59\" ry=\"18\"/>\n<text text-anchor=\"middle\" x=\"547.38\" y=\"-230.3\" font-family=\"Times,serif\" font-size=\"14.00\">Categorify</text>\n</g>\n<!-- 13&#45;&gt;2 -->\n<g id=\"edge3\" class=\"edge\">\n<title>13&#45;&gt;2</title>\n<path fill=\"none\" stroke=\"black\" d=\"M547.38,-215.7C547.38,-207.98 547.38,-198.71 547.38,-190.11\"/>\n<polygon fill=\"black\" stroke=\"black\" points=\"550.88,-190.1 547.38,-180.1 543.88,-190.1 550.88,-190.1\"/>\n</g>\n<!-- 3 -->\n<g id=\"node7\" class=\"node\">\n<title>3</title>\n<ellipse fill=\"none\" stroke=\"black\" cx=\"737.38\" cy=\"-162\" rx=\"71.49\" ry=\"18\"/>\n<text text-anchor=\"middle\" x=\"737.38\" y=\"-158.3\" font-family=\"Times,serif\" font-size=\"14.00\">TagAsUserID</text>\n</g>\n<!-- 3&#45;&gt;14 -->\n<g id=\"edge18\" class=\"edge\">\n<title>3&#45;&gt;14</title>\n<path fill=\"none\" stroke=\"black\" d=\"M737.38,-143.7C737.38,-135.98 737.38,-126.71 737.38,-118.11\"/>\n<polygon fill=\"black\" stroke=\"black\" points=\"740.88,-118.1 737.38,-108.1 733.88,-118.1 740.88,-118.1\"/>\n</g>\n<!-- 9 -->\n<g id=\"node8\" class=\"node\">\n<title>9</title>\n<ellipse fill=\"none\" stroke=\"black\" cx=\"737.38\" cy=\"-234\" rx=\"59.59\" ry=\"18\"/>\n<text text-anchor=\"middle\" x=\"737.38\" y=\"-230.3\" font-family=\"Times,serif\" font-size=\"14.00\">Categorify</text>\n</g>\n<!-- 9&#45;&gt;3 -->\n<g id=\"edge4\" class=\"edge\">\n<title>9&#45;&gt;3</title>\n<path fill=\"none\" stroke=\"black\" d=\"M737.38,-215.7C737.38,-207.98 737.38,-198.71 737.38,-190.11\"/>\n<polygon fill=\"black\" stroke=\"black\" points=\"740.88,-190.1 737.38,-180.1 733.88,-190.1 740.88,-190.1\"/>\n</g>\n<!-- 4 -->\n<g id=\"node9\" class=\"node\">\n<title>4</title>\n<ellipse fill=\"none\" stroke=\"black\" cx=\"737.38\" cy=\"-306\" rx=\"66.89\" ry=\"18\"/>\n<text text-anchor=\"middle\" x=\"737.38\" y=\"-302.3\" font-family=\"Times,serif\" font-size=\"14.00\">SelectionOp</text>\n</g>\n<!-- 4&#45;&gt;9 -->\n<g id=\"edge11\" class=\"edge\">\n<title>4&#45;&gt;9</title>\n<path fill=\"none\" stroke=\"black\" d=\"M737.38,-287.7C737.38,-279.98 737.38,-270.71 737.38,-262.11\"/>\n<polygon fill=\"black\" stroke=\"black\" points=\"740.88,-262.1 737.38,-252.1 733.88,-262.1 740.88,-262.1\"/>\n</g>\n<!-- 4_selector -->\n<g id=\"node10\" class=\"node\">\n<title>4_selector</title>\n<ellipse fill=\"none\" stroke=\"black\" cx=\"869.38\" cy=\"-378\" rx=\"59.59\" ry=\"18\"/>\n<text text-anchor=\"middle\" x=\"869.38\" y=\"-374.3\" font-family=\"Times,serif\" font-size=\"14.00\">[&#39;User_ID&#39;]</text>\n</g>\n<!-- 4_selector&#45;&gt;4 -->\n<g id=\"edge5\" class=\"edge\">\n<title>4_selector&#45;&gt;4</title>\n<path fill=\"none\" stroke=\"black\" d=\"M841.06,-361.98C821.93,-351.83 796.43,-338.32 775.51,-327.22\"/>\n<polygon fill=\"black\" stroke=\"black\" points=\"777.04,-324.07 766.56,-322.48 773.76,-330.25 777.04,-324.07\"/>\n</g>\n<!-- 5 -->\n<g id=\"node11\" class=\"node\">\n<title>5</title>\n<ellipse fill=\"none\" stroke=\"black\" cx=\"547.38\" cy=\"-306\" rx=\"66.89\" ry=\"18\"/>\n<text text-anchor=\"middle\" x=\"547.38\" y=\"-302.3\" font-family=\"Times,serif\" font-size=\"14.00\">SelectionOp</text>\n</g>\n<!-- 5&#45;&gt;13 -->\n<g id=\"edge16\" class=\"edge\">\n<title>5&#45;&gt;13</title>\n<path fill=\"none\" stroke=\"black\" d=\"M547.38,-287.7C547.38,-279.98 547.38,-270.71 547.38,-262.11\"/>\n<polygon fill=\"black\" stroke=\"black\" points=\"550.88,-262.1 547.38,-252.1 543.88,-262.1 550.88,-262.1\"/>\n</g>\n<!-- 5_selector -->\n<g id=\"node12\" class=\"node\">\n<title>5_selector</title>\n<ellipse fill=\"none\" stroke=\"black\" cx=\"547.38\" cy=\"-378\" rx=\"243.96\" ry=\"18\"/>\n<text text-anchor=\"middle\" x=\"547.38\" y=\"-374.3\" font-family=\"Times,serif\" font-size=\"14.00\">[&#39;Title&#39;, &#39;Author&#39;, &#39;Year_Of_Publication&#39;, &#39;Publisher&#39;]</text>\n</g>\n<!-- 5_selector&#45;&gt;5 -->\n<g id=\"edge6\" class=\"edge\">\n<title>5_selector&#45;&gt;5</title>\n<path fill=\"none\" stroke=\"black\" d=\"M547.38,-359.7C547.38,-351.98 547.38,-342.71 547.38,-334.11\"/>\n<polygon fill=\"black\" stroke=\"black\" points=\"550.88,-334.1 547.38,-324.1 543.88,-334.1 550.88,-334.1\"/>\n</g>\n<!-- 6 -->\n<g id=\"node13\" class=\"node\">\n<title>6</title>\n<ellipse fill=\"none\" stroke=\"black\" cx=\"231.38\" cy=\"-306\" rx=\"231.26\" ry=\"18\"/>\n<text text-anchor=\"middle\" x=\"231.38\" y=\"-302.3\" font-family=\"Times,serif\" font-size=\"14.00\">LambdaOp(lambda col: (col &gt; 7).astype(&quot;int8&quot;))</text>\n</g>\n<!-- 6&#45;&gt;8 -->\n<g id=\"edge10\" class=\"edge\">\n<title>6&#45;&gt;8</title>\n<path fill=\"none\" stroke=\"black\" d=\"M246.71,-287.7C254.33,-279.09 263.66,-268.55 271.97,-259.17\"/>\n<polygon fill=\"black\" stroke=\"black\" points=\"274.65,-261.43 278.66,-251.62 269.41,-256.79 274.65,-261.43\"/>\n</g>\n<!-- 12 -->\n<g id=\"node14\" class=\"node\">\n<title>12</title>\n<ellipse fill=\"none\" stroke=\"black\" cx=\"94.38\" cy=\"-378\" rx=\"66.89\" ry=\"18\"/>\n<text text-anchor=\"middle\" x=\"94.38\" y=\"-374.3\" font-family=\"Times,serif\" font-size=\"14.00\">SelectionOp</text>\n</g>\n<!-- 12&#45;&gt;6 -->\n<g id=\"edge7\" class=\"edge\">\n<title>12&#45;&gt;6</title>\n<path fill=\"none\" stroke=\"black\" d=\"M124.11,-361.81C143.16,-352.07 168.19,-339.29 189.28,-328.51\"/>\n<polygon fill=\"black\" stroke=\"black\" points=\"191.04,-331.54 198.35,-323.88 187.85,-325.31 191.04,-331.54\"/>\n</g>\n<!-- 6_selector -->\n<g id=\"node15\" class=\"node\">\n<title>6_selector</title>\n<ellipse fill=\"none\" stroke=\"black\" cx=\"232.38\" cy=\"-378\" rx=\"53.09\" ry=\"18\"/>\n<text text-anchor=\"middle\" x=\"232.38\" y=\"-374.3\" font-family=\"Times,serif\" font-size=\"14.00\">[&#39;Rating&#39;]</text>\n</g>\n<!-- 6_selector&#45;&gt;6 -->\n<g id=\"edge8\" class=\"edge\">\n<title>6_selector&#45;&gt;6</title>\n<path fill=\"none\" stroke=\"black\" d=\"M232.13,-359.7C232.02,-351.98 231.89,-342.71 231.77,-334.11\"/>\n<polygon fill=\"black\" stroke=\"black\" points=\"235.27,-334.05 231.62,-324.1 228.27,-334.15 235.27,-334.05\"/>\n</g>\n<!-- 7 -->\n<g id=\"node16\" class=\"node\">\n<title>7</title>\n<ellipse fill=\"none\" stroke=\"black\" cx=\"888.38\" cy=\"-234\" rx=\"66.89\" ry=\"18\"/>\n<text text-anchor=\"middle\" x=\"888.38\" y=\"-230.3\" font-family=\"Times,serif\" font-size=\"14.00\">SelectionOp</text>\n</g>\n<!-- 10 -->\n<g id=\"node18\" class=\"node\">\n<title>10</title>\n<ellipse fill=\"none\" stroke=\"black\" cx=\"895.38\" cy=\"-162\" rx=\"68.49\" ry=\"18\"/>\n<text text-anchor=\"middle\" x=\"895.38\" y=\"-158.3\" font-family=\"Times,serif\" font-size=\"14.00\">JoinExternal</text>\n</g>\n<!-- 7&#45;&gt;10 -->\n<g id=\"edge12\" class=\"edge\">\n<title>7&#45;&gt;10</title>\n<path fill=\"none\" stroke=\"black\" d=\"M890.11,-215.7C890.88,-207.98 891.81,-198.71 892.67,-190.11\"/>\n<polygon fill=\"black\" stroke=\"black\" points=\"896.16,-190.4 893.67,-180.1 889.19,-189.71 896.16,-190.4\"/>\n</g>\n<!-- 7_selector -->\n<g id=\"node17\" class=\"node\">\n<title>7_selector</title>\n<ellipse fill=\"none\" stroke=\"black\" cx=\"958.38\" cy=\"-306\" rx=\"136.48\" ry=\"18\"/>\n<text text-anchor=\"middle\" x=\"958.38\" y=\"-302.3\" font-family=\"Times,serif\" font-size=\"14.00\">[&#39;User_ID&#39;, &#39;ISBN&#39;, &#39;Rating&#39;]</text>\n</g>\n<!-- 7_selector&#45;&gt;7 -->\n<g id=\"edge9\" class=\"edge\">\n<title>7_selector&#45;&gt;7</title>\n<path fill=\"none\" stroke=\"black\" d=\"M941.43,-288.05C932.75,-279.37 922.02,-268.64 912.49,-259.11\"/>\n<polygon fill=\"black\" stroke=\"black\" points=\"914.71,-256.39 905.17,-251.79 909.76,-261.33 914.71,-256.39\"/>\n</g>\n<!-- 10&#45;&gt;14 -->\n<g id=\"edge17\" class=\"edge\">\n<title>10&#45;&gt;14</title>\n<path fill=\"none\" stroke=\"black\" d=\"M861.87,-146.15C834.28,-133.93 795.46,-116.73 768.53,-104.8\"/>\n<polygon fill=\"black\" stroke=\"black\" points=\"769.75,-101.51 759.19,-100.66 766.92,-107.92 769.75,-101.51\"/>\n</g>\n<!-- 10_selector -->\n<g id=\"node19\" class=\"node\">\n<title>10_selector</title>\n<ellipse fill=\"none\" stroke=\"black\" cx=\"1109.38\" cy=\"-234\" rx=\"136.48\" ry=\"18\"/>\n<text text-anchor=\"middle\" x=\"1109.38\" y=\"-230.3\" font-family=\"Times,serif\" font-size=\"14.00\">[&#39;User_ID&#39;, &#39;ISBN&#39;, &#39;Rating&#39;]</text>\n</g>\n<!-- 10_selector&#45;&gt;10 -->\n<g id=\"edge13\" class=\"edge\">\n<title>10_selector&#45;&gt;10</title>\n<path fill=\"none\" stroke=\"black\" d=\"M1060.82,-217.12C1026.7,-205.95 981.14,-191.05 946.47,-179.71\"/>\n<polygon fill=\"black\" stroke=\"black\" points=\"947.14,-176.25 936.55,-176.47 944.96,-182.9 947.14,-176.25\"/>\n</g>\n<!-- 11 -->\n<g id=\"node20\" class=\"node\">\n<title>11</title>\n<ellipse fill=\"none\" stroke=\"black\" cx=\"1323.38\" cy=\"-306\" rx=\"66.89\" ry=\"18\"/>\n<text text-anchor=\"middle\" x=\"1323.38\" y=\"-302.3\" font-family=\"Times,serif\" font-size=\"14.00\">SelectionOp</text>\n</g>\n<!-- 11&#45;&gt;15 -->\n<g id=\"edge22\" class=\"edge\">\n<title>11&#45;&gt;15</title>\n<path fill=\"none\" stroke=\"black\" d=\"M1323.38,-287.7C1323.38,-279.98 1323.38,-270.71 1323.38,-262.11\"/>\n<polygon fill=\"black\" stroke=\"black\" points=\"1326.88,-262.1 1323.38,-252.1 1319.88,-262.1 1326.88,-262.1\"/>\n</g>\n<!-- 11_selector -->\n<g id=\"node21\" class=\"node\">\n<title>11_selector</title>\n<ellipse fill=\"none\" stroke=\"black\" cx=\"1323.38\" cy=\"-378\" rx=\"46.59\" ry=\"18\"/>\n<text text-anchor=\"middle\" x=\"1323.38\" y=\"-374.3\" font-family=\"Times,serif\" font-size=\"14.00\">[&#39;ISBN&#39;]</text>\n</g>\n<!-- 11_selector&#45;&gt;11 -->\n<g id=\"edge14\" class=\"edge\">\n<title>11_selector&#45;&gt;11</title>\n<path fill=\"none\" stroke=\"black\" d=\"M1323.38,-359.7C1323.38,-351.98 1323.38,-342.71 1323.38,-334.11\"/>\n<polygon fill=\"black\" stroke=\"black\" points=\"1326.88,-334.1 1323.38,-324.1 1319.88,-334.1 1326.88,-334.1\"/>\n</g>\n<!-- 12_selector -->\n<g id=\"node22\" class=\"node\">\n<title>12_selector</title>\n<ellipse fill=\"none\" stroke=\"black\" cx=\"94.38\" cy=\"-450\" rx=\"53.09\" ry=\"18\"/>\n<text text-anchor=\"middle\" x=\"94.38\" y=\"-446.3\" font-family=\"Times,serif\" font-size=\"14.00\">[&#39;Rating&#39;]</text>\n</g>\n<!-- 12_selector&#45;&gt;12 -->\n<g id=\"edge15\" class=\"edge\">\n<title>12_selector&#45;&gt;12</title>\n<path fill=\"none\" stroke=\"black\" d=\"M94.38,-431.7C94.38,-423.98 94.38,-414.71 94.38,-406.11\"/>\n<polygon fill=\"black\" stroke=\"black\" points=\"97.88,-406.1 94.38,-396.1 90.88,-406.1 97.88,-406.1\"/>\n</g>\n<!-- 16 -->\n<g id=\"node24\" class=\"node\">\n<title>16</title>\n<ellipse fill=\"none\" stroke=\"black\" cx=\"737.38\" cy=\"-18\" rx=\"62.29\" ry=\"18\"/>\n<text text-anchor=\"middle\" x=\"737.38\" y=\"-14.3\" font-family=\"Times,serif\" font-size=\"14.00\">output cols</text>\n</g>\n<!-- 14&#45;&gt;16 -->\n<g id=\"edge23\" class=\"edge\">\n<title>14&#45;&gt;16</title>\n<path fill=\"none\" stroke=\"black\" d=\"M737.38,-71.7C737.38,-63.98 737.38,-54.71 737.38,-46.11\"/>\n<polygon fill=\"black\" stroke=\"black\" points=\"740.88,-46.1 737.38,-36.1 733.88,-46.1 740.88,-46.1\"/>\n</g>\n</g>\n</svg>\n",
      "text/plain": [
       "<graphviz.graphs.Digraph at 0x7fa9166fa850>"
      ]
     },
     "execution_count": 20,
     "metadata": {},
     "output_type": "execute_result"
    }
   ],
   "source": [
    "output = joined + user_id + item_id + item_features + target\n",
    "(output).graph"
   ]
  },
  {
   "cell_type": "code",
   "execution_count": 21,
   "metadata": {},
   "outputs": [
    {
     "ename": "ValueError",
     "evalue": "Missing columns ['Title', 'Author', 'Year_Of_Publication', 'Publisher'] found in operatorSelectionOp during compute_selector.",
     "output_type": "error",
     "traceback": [
      "\u001b[0;31m---------------------------------------------------------------------------\u001b[0m",
      "\u001b[0;31mValueError\u001b[0m                                Traceback (most recent call last)",
      "\u001b[1;32m/local/var/tmp/mike/merlin/NVTabular/bx.ipynb Cell 30'\u001b[0m in \u001b[0;36m<cell line: 2>\u001b[0;34m()\u001b[0m\n\u001b[1;32m      <a href='vscode-notebook-cell:/local/var/tmp/mike/merlin/NVTabular/bx.ipynb#ch0000031?line=0'>1</a>\u001b[0m workflow \u001b[39m=\u001b[39m nvt\u001b[39m.\u001b[39mWorkflow(output)\n\u001b[0;32m----> <a href='vscode-notebook-cell:/local/var/tmp/mike/merlin/NVTabular/bx.ipynb#ch0000031?line=1'>2</a>\u001b[0m workflow\u001b[39m.\u001b[39;49mfit(train)\n",
      "File \u001b[0;32m/local/var/tmp/mike/merlin/NVTabular/nvtabular/workflow/workflow.py:188\u001b[0m, in \u001b[0;36mWorkflow.fit\u001b[0;34m(self, dataset)\u001b[0m\n\u001b[1;32m    185\u001b[0m \u001b[39mself\u001b[39m\u001b[39m.\u001b[39mclear_stats()\n\u001b[1;32m    187\u001b[0m \u001b[39mif\u001b[39;00m \u001b[39mnot\u001b[39;00m \u001b[39mself\u001b[39m\u001b[39m.\u001b[39mgraph\u001b[39m.\u001b[39moutput_schema:\n\u001b[0;32m--> 188\u001b[0m     \u001b[39mself\u001b[39;49m\u001b[39m.\u001b[39;49mgraph\u001b[39m.\u001b[39;49mconstruct_schema(dataset\u001b[39m.\u001b[39;49mschema)\n\u001b[1;32m    190\u001b[0m ddf \u001b[39m=\u001b[39m dataset\u001b[39m.\u001b[39mto_ddf(columns\u001b[39m=\u001b[39m\u001b[39mself\u001b[39m\u001b[39m.\u001b[39m_input_columns())\n\u001b[1;32m    192\u001b[0m \u001b[39m# Get a dictionary mapping all StatOperators we need to fit to a set of any dependent\u001b[39;00m\n\u001b[1;32m    193\u001b[0m \u001b[39m# StatOperators (having StatOperators that depend on the output of other StatOperators\u001b[39;00m\n\u001b[1;32m    194\u001b[0m \u001b[39m# means that will have multiple phases in the fit cycle here)\u001b[39;00m\n",
      "File \u001b[0;32m/local/var/tmp/mike/merlin/NVTabular/.venv/lib/python3.9/site-packages/merlin/dag/graph.py:73\u001b[0m, in \u001b[0;36mGraph.construct_schema\u001b[0;34m(self, root_schema, preserve_dtypes)\u001b[0m\n\u001b[1;32m     70\u001b[0m \u001b[39mdef\u001b[39;00m \u001b[39mconstruct_schema\u001b[39m(\u001b[39mself\u001b[39m, root_schema: Schema, preserve_dtypes\u001b[39m=\u001b[39m\u001b[39mFalse\u001b[39;00m) \u001b[39m-\u001b[39m\u001b[39m>\u001b[39m \u001b[39m\"\u001b[39m\u001b[39mGraph\u001b[39m\u001b[39m\"\u001b[39m:\n\u001b[1;32m     71\u001b[0m     nodes \u001b[39m=\u001b[39m \u001b[39mlist\u001b[39m(postorder_iter_nodes(\u001b[39mself\u001b[39m\u001b[39m.\u001b[39moutput_node))\n\u001b[0;32m---> 73\u001b[0m     \u001b[39mself\u001b[39;49m\u001b[39m.\u001b[39;49m_compute_node_schemas(root_schema, nodes, preserve_dtypes)\n\u001b[1;32m     74\u001b[0m     \u001b[39mself\u001b[39m\u001b[39m.\u001b[39m_validate_node_schemas(root_schema, nodes, preserve_dtypes)\n\u001b[1;32m     76\u001b[0m     \u001b[39mreturn\u001b[39;00m \u001b[39mself\u001b[39m\n",
      "File \u001b[0;32m/local/var/tmp/mike/merlin/NVTabular/.venv/lib/python3.9/site-packages/merlin/dag/graph.py:80\u001b[0m, in \u001b[0;36mGraph._compute_node_schemas\u001b[0;34m(self, root_schema, nodes, preserve_dtypes)\u001b[0m\n\u001b[1;32m     78\u001b[0m \u001b[39mdef\u001b[39;00m \u001b[39m_compute_node_schemas\u001b[39m(\u001b[39mself\u001b[39m, root_schema, nodes, preserve_dtypes\u001b[39m=\u001b[39m\u001b[39mFalse\u001b[39;00m):\n\u001b[1;32m     79\u001b[0m     \u001b[39mfor\u001b[39;00m node \u001b[39min\u001b[39;00m nodes:\n\u001b[0;32m---> 80\u001b[0m         node\u001b[39m.\u001b[39;49mcompute_schemas(root_schema, preserve_dtypes\u001b[39m=\u001b[39;49mpreserve_dtypes)\n",
      "File \u001b[0;32m/local/var/tmp/mike/merlin/NVTabular/.venv/lib/python3.9/site-packages/merlin/dag/node.py:183\u001b[0m, in \u001b[0;36mNode.compute_schemas\u001b[0;34m(self, root_schema, preserve_dtypes)\u001b[0m\n\u001b[1;32m    177\u001b[0m         \u001b[39mself\u001b[39m\u001b[39m.\u001b[39mselector \u001b[39m=\u001b[39m parents_selector\n\u001b[1;32m    179\u001b[0m \u001b[39mself\u001b[39m\u001b[39m.\u001b[39minput_schema \u001b[39m=\u001b[39m \u001b[39mself\u001b[39m\u001b[39m.\u001b[39mop\u001b[39m.\u001b[39mcompute_input_schema(\n\u001b[1;32m    180\u001b[0m     root_schema, parents_schema, deps_schema, \u001b[39mself\u001b[39m\u001b[39m.\u001b[39mselector\n\u001b[1;32m    181\u001b[0m )\n\u001b[0;32m--> 183\u001b[0m \u001b[39mself\u001b[39m\u001b[39m.\u001b[39mselector \u001b[39m=\u001b[39m \u001b[39mself\u001b[39;49m\u001b[39m.\u001b[39;49mop\u001b[39m.\u001b[39;49mcompute_selector(\n\u001b[1;32m    184\u001b[0m     \u001b[39mself\u001b[39;49m\u001b[39m.\u001b[39;49minput_schema, \u001b[39mself\u001b[39;49m\u001b[39m.\u001b[39;49mselector, parents_selector, dependencies_selector\n\u001b[1;32m    185\u001b[0m )\n\u001b[1;32m    187\u001b[0m prev_output_schema \u001b[39m=\u001b[39m \u001b[39mself\u001b[39m\u001b[39m.\u001b[39moutput_schema \u001b[39mif\u001b[39;00m preserve_dtypes \u001b[39melse\u001b[39;00m \u001b[39mNone\u001b[39;00m\n\u001b[1;32m    188\u001b[0m \u001b[39mself\u001b[39m\u001b[39m.\u001b[39moutput_schema \u001b[39m=\u001b[39m \u001b[39mself\u001b[39m\u001b[39m.\u001b[39mop\u001b[39m.\u001b[39mcompute_output_schema(\n\u001b[1;32m    189\u001b[0m     \u001b[39mself\u001b[39m\u001b[39m.\u001b[39minput_schema, \u001b[39mself\u001b[39m\u001b[39m.\u001b[39mselector, prev_output_schema\n\u001b[1;32m    190\u001b[0m )\n",
      "File \u001b[0;32m/local/var/tmp/mike/merlin/NVTabular/.venv/lib/python3.9/site-packages/merlin/dag/base_operator.py:51\u001b[0m, in \u001b[0;36mBaseOperator.compute_selector\u001b[0;34m(self, input_schema, selector, parents_selector, dependencies_selector)\u001b[0m\n\u001b[1;32m     44\u001b[0m \u001b[39mdef\u001b[39;00m \u001b[39mcompute_selector\u001b[39m(\n\u001b[1;32m     45\u001b[0m     \u001b[39mself\u001b[39m,\n\u001b[1;32m     46\u001b[0m     input_schema: Schema,\n\u001b[0;32m   (...)\u001b[0m\n\u001b[1;32m     49\u001b[0m     dependencies_selector: ColumnSelector,\n\u001b[1;32m     50\u001b[0m ) \u001b[39m-\u001b[39m\u001b[39m>\u001b[39m ColumnSelector:\n\u001b[0;32m---> 51\u001b[0m     \u001b[39mself\u001b[39;49m\u001b[39m.\u001b[39;49m_validate_matching_cols(input_schema, selector, \u001b[39mself\u001b[39;49m\u001b[39m.\u001b[39;49mcompute_selector\u001b[39m.\u001b[39;49m\u001b[39m__name__\u001b[39;49m)\n\u001b[1;32m     53\u001b[0m     \u001b[39mreturn\u001b[39;00m selector\n",
      "File \u001b[0;32m/local/var/tmp/mike/merlin/NVTabular/.venv/lib/python3.9/site-packages/merlin/dag/base_operator.py:199\u001b[0m, in \u001b[0;36mBaseOperator._validate_matching_cols\u001b[0;34m(self, schema, selector, method_name)\u001b[0m\n\u001b[1;32m    197\u001b[0m missing_cols \u001b[39m=\u001b[39m [name \u001b[39mfor\u001b[39;00m name \u001b[39min\u001b[39;00m selector\u001b[39m.\u001b[39mnames \u001b[39mif\u001b[39;00m name \u001b[39mnot\u001b[39;00m \u001b[39min\u001b[39;00m schema\u001b[39m.\u001b[39mcolumn_names]\n\u001b[1;32m    198\u001b[0m \u001b[39mif\u001b[39;00m missing_cols:\n\u001b[0;32m--> 199\u001b[0m     \u001b[39mraise\u001b[39;00m \u001b[39mValueError\u001b[39;00m(\n\u001b[1;32m    200\u001b[0m         \u001b[39mf\u001b[39m\u001b[39m\"\u001b[39m\u001b[39mMissing columns \u001b[39m\u001b[39m{\u001b[39;00mmissing_cols\u001b[39m}\u001b[39;00m\u001b[39m found in operator\u001b[39m\u001b[39m\"\u001b[39m\n\u001b[1;32m    201\u001b[0m         \u001b[39mf\u001b[39m\u001b[39m\"\u001b[39m\u001b[39m{\u001b[39;00m\u001b[39mself\u001b[39m\u001b[39m.\u001b[39m\u001b[39m__class__\u001b[39m\u001b[39m.\u001b[39m\u001b[39m__name__\u001b[39m\u001b[39m}\u001b[39;00m\u001b[39m during \u001b[39m\u001b[39m{\u001b[39;00mmethod_name\u001b[39m}\u001b[39;00m\u001b[39m.\u001b[39m\u001b[39m\"\u001b[39m\n\u001b[1;32m    202\u001b[0m     )\n",
      "\u001b[0;31mValueError\u001b[0m: Missing columns ['Title', 'Author', 'Year_Of_Publication', 'Publisher'] found in operatorSelectionOp during compute_selector."
     ]
    }
   ],
   "source": [
    "workflow = nvt.Workflow(output)\n",
    "workflow.fit(train)\n",
    "#display(workflow.transform(train).head())"
   ]
  },
  {
   "cell_type": "markdown",
   "metadata": {},
   "source": []
  }
 ],
 "metadata": {
  "kernelspec": {
   "display_name": "Python 3.9.2 ('.venv': poetry)",
   "language": "python",
   "name": "python3"
  },
  "language_info": {
   "codemirror_mode": {
    "name": "ipython",
    "version": 3
   },
   "file_extension": ".py",
   "mimetype": "text/x-python",
   "name": "python",
   "nbconvert_exporter": "python",
   "pygments_lexer": "ipython3",
   "version": "3.9.2"
  },
  "orig_nbformat": 4,
  "vscode": {
   "interpreter": {
    "hash": "1ddf0196a867f8744eee162d891a82a184216ae08e9c1cefe0afdff4cc7690f0"
   }
  }
 },
 "nbformat": 4,
 "nbformat_minor": 2
}
