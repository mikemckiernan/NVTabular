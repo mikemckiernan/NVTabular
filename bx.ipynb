{
 "cells": [
  {
   "cell_type": "markdown",
   "metadata": {},
   "source": [
    "## Repeat of the book-crossing dataset recommender example that I wrote for SAS"
   ]
  },
  {
   "cell_type": "code",
   "execution_count": 1,
   "metadata": {},
   "outputs": [],
   "source": [
    "import html\n",
    "import numpy as np\n",
    "import pandas as pd\n",
    "import re\n",
    "from io import StringIO\n",
    "from pathlib import Path\n"
   ]
  },
  {
   "cell_type": "code",
   "execution_count": 2,
   "metadata": {},
   "outputs": [],
   "source": [
    "import nvtabular as nvt\n",
    "import merlin.io"
   ]
  },
  {
   "cell_type": "code",
   "execution_count": 3,
   "metadata": {},
   "outputs": [],
   "source": [
    "data_dir = Path('/local/var/tmp/mike/bx')\n",
    "ratings_file = data_dir / \"BX-Book-Ratings.csv\"\n",
    "books_file = data_dir / \"BX-Books.csv\""
   ]
  },
  {
   "cell_type": "code",
   "execution_count": 4,
   "metadata": {},
   "outputs": [
    {
     "data": {
      "text/html": [
       "<div>\n",
       "<style scoped>\n",
       "    .dataframe tbody tr th:only-of-type {\n",
       "        vertical-align: middle;\n",
       "    }\n",
       "\n",
       "    .dataframe tbody tr th {\n",
       "        vertical-align: top;\n",
       "    }\n",
       "\n",
       "    .dataframe thead th {\n",
       "        text-align: right;\n",
       "    }\n",
       "</style>\n",
       "<table border=\"1\" class=\"dataframe\">\n",
       "  <thead>\n",
       "    <tr style=\"text-align: right;\">\n",
       "      <th></th>\n",
       "      <th>ISBN</th>\n",
       "      <th>Title</th>\n",
       "      <th>Author</th>\n",
       "      <th>Year_Of_Publication</th>\n",
       "      <th>Publisher</th>\n",
       "    </tr>\n",
       "  </thead>\n",
       "  <tbody>\n",
       "    <tr>\n",
       "      <th>0</th>\n",
       "      <td>0195153448</td>\n",
       "      <td>Classical Mythology</td>\n",
       "      <td>Mark P. O. Morford</td>\n",
       "      <td>2002</td>\n",
       "      <td>Oxford University Press</td>\n",
       "    </tr>\n",
       "    <tr>\n",
       "      <th>1</th>\n",
       "      <td>0002005018</td>\n",
       "      <td>Clara Callan</td>\n",
       "      <td>Richard Bruce Wright</td>\n",
       "      <td>2001</td>\n",
       "      <td>HarperFlamingo Canada</td>\n",
       "    </tr>\n",
       "    <tr>\n",
       "      <th>2</th>\n",
       "      <td>0060973129</td>\n",
       "      <td>Decision in Normandy</td>\n",
       "      <td>Carlo D'Este</td>\n",
       "      <td>1991</td>\n",
       "      <td>HarperPerennial</td>\n",
       "    </tr>\n",
       "    <tr>\n",
       "      <th>3</th>\n",
       "      <td>0374157065</td>\n",
       "      <td>Flu: The Story of the Great Influenza Pandemic...</td>\n",
       "      <td>Gina Bari Kolata</td>\n",
       "      <td>1999</td>\n",
       "      <td>Farrar Straus Giroux</td>\n",
       "    </tr>\n",
       "    <tr>\n",
       "      <th>4</th>\n",
       "      <td>0393045218</td>\n",
       "      <td>The Mummies of Urumchi</td>\n",
       "      <td>E. J. W. Barber</td>\n",
       "      <td>1999</td>\n",
       "      <td>W. W. Norton &amp; Company</td>\n",
       "    </tr>\n",
       "  </tbody>\n",
       "</table>\n",
       "</div>"
      ],
      "text/plain": [
       "         ISBN                                              Title  \\\n",
       "0  0195153448                                Classical Mythology   \n",
       "1  0002005018                                       Clara Callan   \n",
       "2  0060973129                               Decision in Normandy   \n",
       "3  0374157065  Flu: The Story of the Great Influenza Pandemic...   \n",
       "4  0393045218                             The Mummies of Urumchi   \n",
       "\n",
       "                 Author  Year_Of_Publication                Publisher  \n",
       "0    Mark P. O. Morford                 2002  Oxford University Press  \n",
       "1  Richard Bruce Wright                 2001    HarperFlamingo Canada  \n",
       "2          Carlo D'Este                 1991          HarperPerennial  \n",
       "3      Gina Bari Kolata                 1999     Farrar Straus Giroux  \n",
       "4       E. J. W. Barber                 1999   W. W. Norton & Company  "
      ]
     },
     "execution_count": 4,
     "metadata": {},
     "output_type": "execute_result"
    }
   ],
   "source": [
    "with open(books_file, 'r', encoding='iso-8859-1') as f:\n",
    "    content = html.unescape(f.read())\n",
    "\n",
    "books_df = pd.read_csv(StringIO(content),\n",
    "                       header=0, \n",
    "                       escapechar='\\\\',\n",
    "                       quotechar='\"',\n",
    "                       sep=';', encoding='iso-8859-1',\n",
    "                       names=['ISBN', 'Title', 'Author', 'Year_Of_Publication', 'Publisher', 'img_url_s', 'img_url_m', 'img_url_l'],\n",
    "                       usecols=['ISBN', 'Title', 'Author', 'Year_Of_Publication', 'Publisher'],\n",
    "                       # dtype={'ISBN': str, 'Year_Of_Publication': int})\n",
    "                       dtype={'ISBN': int, 'Year_Of_Publication': int})\n",
    "\n",
    "books_df = books_df[books_df.ISBN.str.len() == 10]\n",
    "\n",
    "books_df.head()"
   ]
  },
  {
   "cell_type": "markdown",
   "metadata": {},
   "source": [
    "Display the data types:"
   ]
  },
  {
   "cell_type": "code",
   "execution_count": 5,
   "metadata": {},
   "outputs": [
    {
     "data": {
      "text/plain": [
       "ISBN                   object\n",
       "Title                  object\n",
       "Author                 object\n",
       "Year_Of_Publication     int64\n",
       "Publisher              object\n",
       "dtype: object"
      ]
     },
     "execution_count": 5,
     "metadata": {},
     "output_type": "execute_result"
    }
   ],
   "source": [
    "books_df.dtypes"
   ]
  },
  {
   "cell_type": "markdown",
   "metadata": {},
   "source": [
    "Import the ratings data:"
   ]
  },
  {
   "cell_type": "code",
   "execution_count": 19,
   "metadata": {},
   "outputs": [
    {
     "data": {
      "text/html": [
       "<div>\n",
       "<style scoped>\n",
       "    .dataframe tbody tr th:only-of-type {\n",
       "        vertical-align: middle;\n",
       "    }\n",
       "\n",
       "    .dataframe tbody tr th {\n",
       "        vertical-align: top;\n",
       "    }\n",
       "\n",
       "    .dataframe thead th {\n",
       "        text-align: right;\n",
       "    }\n",
       "</style>\n",
       "<table border=\"1\" class=\"dataframe\">\n",
       "  <thead>\n",
       "    <tr style=\"text-align: right;\">\n",
       "      <th></th>\n",
       "      <th>User_ID</th>\n",
       "      <th>ISBN</th>\n",
       "      <th>Rating</th>\n",
       "    </tr>\n",
       "  </thead>\n",
       "  <tbody>\n",
       "    <tr>\n",
       "      <th>0</th>\n",
       "      <td>276726</td>\n",
       "      <td>0155061224</td>\n",
       "      <td>5</td>\n",
       "    </tr>\n",
       "    <tr>\n",
       "      <th>1</th>\n",
       "      <td>276729</td>\n",
       "      <td>0521795028</td>\n",
       "      <td>6</td>\n",
       "    </tr>\n",
       "    <tr>\n",
       "      <th>2</th>\n",
       "      <td>276736</td>\n",
       "      <td>3257224281</td>\n",
       "      <td>8</td>\n",
       "    </tr>\n",
       "    <tr>\n",
       "      <th>3</th>\n",
       "      <td>276737</td>\n",
       "      <td>0600570967</td>\n",
       "      <td>6</td>\n",
       "    </tr>\n",
       "    <tr>\n",
       "      <th>4</th>\n",
       "      <td>276747</td>\n",
       "      <td>0060517794</td>\n",
       "      <td>9</td>\n",
       "    </tr>\n",
       "  </tbody>\n",
       "</table>\n",
       "</div>"
      ],
      "text/plain": [
       "   User_ID        ISBN  Rating\n",
       "0   276726  0155061224       5\n",
       "1   276729  0521795028       6\n",
       "2   276736  3257224281       8\n",
       "3   276737  0600570967       6\n",
       "4   276747  0060517794       9"
      ]
     },
     "execution_count": 19,
     "metadata": {},
     "output_type": "execute_result"
    }
   ],
   "source": [
    "# isbn_pat = re.compile('\"\\d+\";\"[0-9X]{10}\";\"[1-9][0]?\"')\n",
    "isbn_pat = re.compile('\"\\d+\";\"[0-9]{10}\";\"[1-9][0]?\"')\n",
    "buffer = StringIO()\n",
    "\n",
    "with open(ratings_file, 'r', encoding='iso-8859-1') as f:\n",
    "    for line in f:\n",
    "        if isbn_pat.match(line):\n",
    "            buffer.write(line)\n",
    "            \n",
    "buffer.seek(0)            \n",
    "ratings_df = pd.read_csv(buffer,\n",
    "                         skiprows=0,\n",
    "                         sep=';',\n",
    "                         names=['User_ID', 'ISBN', 'Rating'],\n",
    "                         dtype={'User_ID': int, 'ISBN': str, 'Rating': int})\n",
    "buffer.close()\n",
    "\n",
    "ratings_df.head()"
   ]
  },
  {
   "cell_type": "markdown",
   "metadata": {},
   "source": [
    "Display the data types of the ratings data:"
   ]
  },
  {
   "cell_type": "code",
   "execution_count": 20,
   "metadata": {},
   "outputs": [
    {
     "data": {
      "text/plain": [
       "User_ID     int64\n",
       "ISBN       object\n",
       "Rating      int64\n",
       "dtype: object"
      ]
     },
     "execution_count": 20,
     "metadata": {},
     "output_type": "execute_result"
    }
   ],
   "source": [
    "ratings_df.dtypes"
   ]
  },
  {
   "cell_type": "markdown",
   "metadata": {},
   "source": [
    "## Imitation data quality\n",
    "\n",
    "* Remove duplicate ratings.\n",
    "* Remove ratings for ISBNs that are not in the books DataFrame."
   ]
  },
  {
   "cell_type": "code",
   "execution_count": 8,
   "metadata": {},
   "outputs": [
    {
     "name": "stdout",
     "output_type": "stream",
     "text": [
      "Ratings count before changes:  428204\n",
      "Ratings count after changes:  383596\n"
     ]
    },
    {
     "data": {
      "text/html": [
       "<div>\n",
       "<style scoped>\n",
       "    .dataframe tbody tr th:only-of-type {\n",
       "        vertical-align: middle;\n",
       "    }\n",
       "\n",
       "    .dataframe tbody tr th {\n",
       "        vertical-align: top;\n",
       "    }\n",
       "\n",
       "    .dataframe thead th {\n",
       "        text-align: right;\n",
       "    }\n",
       "</style>\n",
       "<table border=\"1\" class=\"dataframe\">\n",
       "  <thead>\n",
       "    <tr style=\"text-align: right;\">\n",
       "      <th></th>\n",
       "      <th>User_ID</th>\n",
       "      <th>Rating</th>\n",
       "    </tr>\n",
       "  </thead>\n",
       "  <tbody>\n",
       "    <tr>\n",
       "      <th>count</th>\n",
       "      <td>383596.000000</td>\n",
       "      <td>383596.000000</td>\n",
       "    </tr>\n",
       "    <tr>\n",
       "      <th>mean</th>\n",
       "      <td>136034.234054</td>\n",
       "      <td>7.626589</td>\n",
       "    </tr>\n",
       "    <tr>\n",
       "      <th>std</th>\n",
       "      <td>80484.595981</td>\n",
       "      <td>1.841458</td>\n",
       "    </tr>\n",
       "    <tr>\n",
       "      <th>min</th>\n",
       "      <td>8.000000</td>\n",
       "      <td>1.000000</td>\n",
       "    </tr>\n",
       "    <tr>\n",
       "      <th>25%</th>\n",
       "      <td>67591.000000</td>\n",
       "      <td>7.000000</td>\n",
       "    </tr>\n",
       "    <tr>\n",
       "      <th>50%</th>\n",
       "      <td>133790.000000</td>\n",
       "      <td>8.000000</td>\n",
       "    </tr>\n",
       "    <tr>\n",
       "      <th>75%</th>\n",
       "      <td>206219.000000</td>\n",
       "      <td>9.000000</td>\n",
       "    </tr>\n",
       "    <tr>\n",
       "      <th>max</th>\n",
       "      <td>278854.000000</td>\n",
       "      <td>10.000000</td>\n",
       "    </tr>\n",
       "  </tbody>\n",
       "</table>\n",
       "</div>"
      ],
      "text/plain": [
       "             User_ID         Rating\n",
       "count  383596.000000  383596.000000\n",
       "mean   136034.234054       7.626589\n",
       "std     80484.595981       1.841458\n",
       "min         8.000000       1.000000\n",
       "25%     67591.000000       7.000000\n",
       "50%    133790.000000       8.000000\n",
       "75%    206219.000000       9.000000\n",
       "max    278854.000000      10.000000"
      ]
     },
     "execution_count": 8,
     "metadata": {},
     "output_type": "execute_result"
    }
   ],
   "source": [
    "print(\"Ratings count before changes: \", len(ratings_df))\n",
    "\n",
    "ratings_df.drop_duplicates(inplace=True)\n",
    "\n",
    "ratings_df = ratings_df[ratings_df.set_index(['ISBN']).index.isin(books_df.set_index(['ISBN']).index)]\n",
    "\n",
    "print(\"Ratings count after changes: \", len(ratings_df))\n",
    "\n",
    "ratings_df.describe()\n"
   ]
  },
  {
   "cell_type": "code",
   "execution_count": 9,
   "metadata": {},
   "outputs": [
    {
     "name": "stdout",
     "output_type": "stream",
     "text": [
      "Looking in indexes: https://pypi.org/simple, https://pypi.ngc.nvidia.com\n",
      "Requirement already satisfied: matplotlib in ./.venv/lib/python3.9/site-packages (3.5.2)\n",
      "Requirement already satisfied: cycler>=0.10 in ./.venv/lib/python3.9/site-packages (from matplotlib) (0.11.0)\n",
      "Requirement already satisfied: pillow>=6.2.0 in ./.venv/lib/python3.9/site-packages (from matplotlib) (9.1.1)\n",
      "Requirement already satisfied: fonttools>=4.22.0 in ./.venv/lib/python3.9/site-packages (from matplotlib) (4.33.3)\n",
      "Requirement already satisfied: python-dateutil>=2.7 in ./.venv/lib/python3.9/site-packages (from matplotlib) (2.8.2)\n",
      "Requirement already satisfied: packaging>=20.0 in ./.venv/lib/python3.9/site-packages (from matplotlib) (21.3)\n",
      "Requirement already satisfied: pyparsing>=2.2.1 in ./.venv/lib/python3.9/site-packages (from matplotlib) (3.0.8)\n",
      "Requirement already satisfied: kiwisolver>=1.0.1 in ./.venv/lib/python3.9/site-packages (from matplotlib) (1.4.3)\n",
      "Requirement already satisfied: numpy>=1.17 in ./.venv/lib/python3.9/site-packages (from matplotlib) (1.20.3)\n",
      "Requirement already satisfied: six>=1.5 in ./.venv/lib/python3.9/site-packages (from python-dateutil>=2.7->matplotlib) (1.16.0)\n",
      "\u001b[33mWARNING: You are using pip version 22.0.4; however, version 22.1.2 is available.\n",
      "You should consider upgrading via the '/local/var/tmp/mike/merlin/NVTabular/.venv/bin/python -m pip install --upgrade pip' command.\u001b[0m\u001b[33m\n",
      "\u001b[0m   Rating  count\n",
      "0       1   1479\n",
      "1       2   2374\n",
      "2       3   5117\n",
      "3       4   7612\n",
      "4       5  45342\n",
      "5       6  31671\n",
      "6       7  66352\n",
      "7       8  91722\n",
      "8       9  60743\n",
      "9      10  71184\n"
     ]
    },
    {
     "data": {
      "image/png": "[encoded data removed]",
      "text/plain": [
       "<Figure size 720x360 with 1 Axes>"
      ]
     },
     "metadata": {
      "needs_background": "light"
     },
     "output_type": "display_data"
    }
   ],
   "source": [
    "! pip install matplotlib\n",
    "import matplotlib.pyplot as plt\n",
    "\n",
    "x = ratings_df.groupby('Rating')['ISBN'].count().reset_index(name=\"count\")\n",
    "print(x)\n",
    "\n",
    "# plt.hist(ratings_df.groupby(\"Rating\").count()[['ISBN']], )\n",
    "fig, ax = plt.subplots()\n",
    "\n",
    "ax.bar(x['Rating'], x['count'], width=.5)\n",
    "ax.set_title('Distribution of Ratings')\n",
    "ax.set_ylabel('Count')\n",
    "ax.set_xlabel('Rating')\n",
    "ax.set_xticks(x['Rating'])\n",
    "fig.set_size_inches(10,5)\n",
    "\n",
    "plt.show()"
   ]
  },
  {
   "cell_type": "markdown",
   "metadata": {},
   "source": [
    "## Partition the data into training and validation\n",
    "\n",
    "After partitioning the data, save the data in Parquet format."
   ]
  },
  {
   "cell_type": "code",
   "execution_count": 10,
   "metadata": {},
   "outputs": [
    {
     "name": "stderr",
     "output_type": "stream",
     "text": [
      "/local/var/tmp/mike/merlin/NVTabular/.venv/lib/python3.9/site-packages/merlin/io/dataset.py:252: UserWarning: Initializing an NVTabular Dataset in CPU mode.This is an experimental feature with extremely limited support!\n",
      "  warnings.warn(\n"
     ]
    }
   ],
   "source": [
    "ratings = ratings_df.sample(len(ratings_df), replace=False)\n",
    "validation_count = int(len(ratings) * 0.33)\n",
    "\n",
    "train = ratings[:-validation_count]\n",
    "valid = ratings[-validation_count:]\n",
    "\n",
    "train = merlin.io.Dataset(train)\n",
    "train.to_parquet(data_dir / \"train.parquet\")\n",
    "\n",
    "valid = merlin.io.Dataset(valid)\n",
    "valid.to_parquet(data_dir / \"valid.parquet\")\n",
    "\n",
    "books = merlin.io.Dataset(books_df)\n",
    "books.to_parquet(data_dir / \"books.parquet\")\n"
   ]
  },
  {
   "cell_type": "markdown",
   "metadata": {},
   "source": [
    "## Attempting to understand how to use NVT's Ops\n",
    "\n",
    "In the discussion at <https://nvidia-merlin.github.io/NVTabular/main/examples/getting-started-movielens/02-ETL-with-NVTabular.html>,\n",
    "I'm a little disoriented:\n",
    "\n",
    "* Before the \"Defining our Preprocessing Pipeline\", there is a `head()` of the movies data.\n",
    "That is good because it reinforces my understanding of the data.\n",
    "\n",
    "* In the \"Defining...\" section, the **Example** is generic--`features = [ column_name, ... ]...`.\n",
    "This is slightly disorienting and I'd like to consider if using the same variable names from the data sample could work.\n",
    "\n",
    "* Right after the generic example, `CATEGORICAL_COLUMNS` and `LABEL_COLUMNS` are defined--and tie to the data sample, which is good, but I'm lost in what we're joining with the `JoinExternal` Op and why `joined.graph` has two tables with inputs of `userID, movieID` and outputs the same two columns.  I'm missing something.\n",
    "\n",
    "My instinct is that the Movielens example is growing stale.  I switched to looking at <https://nvidia-merlin.github.io/Merlin/main/examples/Building-and-deploying-multi-stage-RecSys/01-Building-Recommender-Systems-with-Merlin.html> for inspiration."
   ]
  },
  {
   "cell_type": "code",
   "execution_count": 11,
   "metadata": {},
   "outputs": [],
   "source": [
    "from nvtabular.ops import (\n",
    "    Categorify,\n",
    "    LambdaOp,\n",
    "    TagAsUserID,\n",
    "    TagAsItemID,\n",
    "    TagAsItemFeatures,\n",
    "    TagAsUserFeatures,\n",
    "    AddMetadata,\n",
    "    Filter,\n",
    "    Rename,\n",
    "    JoinExternal,\n",
    ")\n",
    "\n",
    "from nvtabular import ColumnGroup\n",
    "\n",
    "from merlin.schema.tags import Tags\n",
    "\n",
    "from merlin.io.dataset import Dataset"
   ]
  },
  {
   "cell_type": "code",
   "execution_count": 12,
   "metadata": {},
   "outputs": [
    {
     "data": {
      "text/html": [
       "<div>\n",
       "<style scoped>\n",
       "    .dataframe tbody tr th:only-of-type {\n",
       "        vertical-align: middle;\n",
       "    }\n",
       "\n",
       "    .dataframe tbody tr th {\n",
       "        vertical-align: top;\n",
       "    }\n",
       "\n",
       "    .dataframe thead th {\n",
       "        text-align: right;\n",
       "    }\n",
       "</style>\n",
       "<table border=\"1\" class=\"dataframe\">\n",
       "  <thead>\n",
       "    <tr style=\"text-align: right;\">\n",
       "      <th></th>\n",
       "      <th>User_ID</th>\n",
       "      <th>ISBN</th>\n",
       "      <th>Rating</th>\n",
       "    </tr>\n",
       "  </thead>\n",
       "  <tbody>\n",
       "    <tr>\n",
       "      <th>293952</th>\n",
       "      <td>185034</td>\n",
       "      <td>8423313786</td>\n",
       "      <td>8</td>\n",
       "    </tr>\n",
       "    <tr>\n",
       "      <th>42962</th>\n",
       "      <td>23872</td>\n",
       "      <td>0385418965</td>\n",
       "      <td>6</td>\n",
       "    </tr>\n",
       "    <tr>\n",
       "      <th>257729</th>\n",
       "      <td>161041</td>\n",
       "      <td>0060927208</td>\n",
       "      <td>7</td>\n",
       "    </tr>\n",
       "    <tr>\n",
       "      <th>111717</th>\n",
       "      <td>68249</td>\n",
       "      <td>0812563581</td>\n",
       "      <td>7</td>\n",
       "    </tr>\n",
       "    <tr>\n",
       "      <th>69379</th>\n",
       "      <td>38248</td>\n",
       "      <td>0028604199</td>\n",
       "      <td>10</td>\n",
       "    </tr>\n",
       "  </tbody>\n",
       "</table>\n",
       "</div>"
      ],
      "text/plain": [
       "        User_ID        ISBN  Rating\n",
       "293952   185034  8423313786       8\n",
       "42962     23872  0385418965       6\n",
       "257729   161041  0060927208       7\n",
       "111717    68249  0812563581       7\n",
       "69379     38248  0028604199      10"
      ]
     },
     "metadata": {},
     "output_type": "display_data"
    },
    {
     "data": {
      "text/html": [
       "<div>\n",
       "<style scoped>\n",
       "    .dataframe tbody tr th:only-of-type {\n",
       "        vertical-align: middle;\n",
       "    }\n",
       "\n",
       "    .dataframe tbody tr th {\n",
       "        vertical-align: top;\n",
       "    }\n",
       "\n",
       "    .dataframe thead th {\n",
       "        text-align: right;\n",
       "    }\n",
       "</style>\n",
       "<table border=\"1\" class=\"dataframe\">\n",
       "  <thead>\n",
       "    <tr style=\"text-align: right;\">\n",
       "      <th></th>\n",
       "      <th>ISBN</th>\n",
       "      <th>Title</th>\n",
       "      <th>Author</th>\n",
       "      <th>Year_Of_Publication</th>\n",
       "      <th>Publisher</th>\n",
       "    </tr>\n",
       "  </thead>\n",
       "  <tbody>\n",
       "    <tr>\n",
       "      <th>0</th>\n",
       "      <td>0195153448</td>\n",
       "      <td>Classical Mythology</td>\n",
       "      <td>Mark P. O. Morford</td>\n",
       "      <td>2002</td>\n",
       "      <td>Oxford University Press</td>\n",
       "    </tr>\n",
       "    <tr>\n",
       "      <th>1</th>\n",
       "      <td>0002005018</td>\n",
       "      <td>Clara Callan</td>\n",
       "      <td>Richard Bruce Wright</td>\n",
       "      <td>2001</td>\n",
       "      <td>HarperFlamingo Canada</td>\n",
       "    </tr>\n",
       "    <tr>\n",
       "      <th>2</th>\n",
       "      <td>0060973129</td>\n",
       "      <td>Decision in Normandy</td>\n",
       "      <td>Carlo D'Este</td>\n",
       "      <td>1991</td>\n",
       "      <td>HarperPerennial</td>\n",
       "    </tr>\n",
       "    <tr>\n",
       "      <th>3</th>\n",
       "      <td>0374157065</td>\n",
       "      <td>Flu: The Story of the Great Influenza Pandemic...</td>\n",
       "      <td>Gina Bari Kolata</td>\n",
       "      <td>1999</td>\n",
       "      <td>Farrar Straus Giroux</td>\n",
       "    </tr>\n",
       "    <tr>\n",
       "      <th>4</th>\n",
       "      <td>0393045218</td>\n",
       "      <td>The Mummies of Urumchi</td>\n",
       "      <td>E. J. W. Barber</td>\n",
       "      <td>1999</td>\n",
       "      <td>W. W. Norton &amp; Company</td>\n",
       "    </tr>\n",
       "  </tbody>\n",
       "</table>\n",
       "</div>"
      ],
      "text/plain": [
       "         ISBN                                              Title  \\\n",
       "0  0195153448                                Classical Mythology   \n",
       "1  0002005018                                       Clara Callan   \n",
       "2  0060973129                               Decision in Normandy   \n",
       "3  0374157065  Flu: The Story of the Great Influenza Pandemic...   \n",
       "4  0393045218                             The Mummies of Urumchi   \n",
       "\n",
       "                 Author  Year_Of_Publication                Publisher  \n",
       "0    Mark P. O. Morford                 2002  Oxford University Press  \n",
       "1  Richard Bruce Wright                 2001    HarperFlamingo Canada  \n",
       "2          Carlo D'Este                 1991          HarperPerennial  \n",
       "3      Gina Bari Kolata                 1999     Farrar Straus Giroux  \n",
       "4       E. J. W. Barber                 1999   W. W. Norton & Company  "
      ]
     },
     "metadata": {},
     "output_type": "display_data"
    }
   ],
   "source": [
    "display(train.head())\n",
    "display(books.head())"
   ]
  },
  {
   "cell_type": "markdown",
   "metadata": {},
   "source": [
    "We need a way to join the training data and the books data on the common column, ISBN.\n",
    "The `JoinExternal` Op can perform the join.\n",
    "\n",
    "(The graph that I get does not look like the graph at <https://nvidia-merlin.github.io/NVTabular/main/examples/getting-started-movielens/02-ETL-with-NVTabular.html#defining-our-preprocessing-pipeline>.\n",
    "I do not know why, but my only suspicion is that the graph does not know about the `train` data.)"
   ]
  },
  {
   "cell_type": "code",
   "execution_count": 17,
   "metadata": {},
   "outputs": [
    {
     "data": {
      "image/svg+xml": "<?xml version=\"1.0\" encoding=\"UTF-8\" standalone=\"no\"?>\n<!DOCTYPE svg PUBLIC \"-//W3C//DTD SVG 1.1//EN\"\n \"http://www.w3.org/Graphics/SVG/1.1/DTD/svg11.dtd\">\n<!-- Generated by graphviz version 2.43.0 (0)\n -->\n<!-- Title: %3 Pages: 1 -->\n<svg width=\"281pt\" height=\"260pt\"\n viewBox=\"0.00 0.00 280.98 260.00\" xmlns=\"http://www.w3.org/2000/svg\" xmlns:xlink=\"http://www.w3.org/1999/xlink\">\n<g id=\"graph0\" class=\"graph\" transform=\"scale(1 1) rotate(0) translate(4 256)\">\n<title>%3</title>\n<polygon fill=\"white\" stroke=\"transparent\" points=\"-4,4 -4,-256 276.98,-256 276.98,4 -4,4\"/>\n<!-- 0 -->\n<g id=\"node1\" class=\"node\">\n<title>0</title>\n<ellipse fill=\"none\" stroke=\"black\" cx=\"136.49\" cy=\"-90\" rx=\"68.49\" ry=\"18\"/>\n<text text-anchor=\"middle\" x=\"136.49\" y=\"-86.3\" font-family=\"Times,serif\" font-size=\"14.00\">JoinExternal</text>\n</g>\n<!-- 2 -->\n<g id=\"node4\" class=\"node\">\n<title>2</title>\n<ellipse fill=\"none\" stroke=\"black\" cx=\"136.49\" cy=\"-18\" rx=\"62.29\" ry=\"18\"/>\n<text text-anchor=\"middle\" x=\"136.49\" y=\"-14.3\" font-family=\"Times,serif\" font-size=\"14.00\">output cols</text>\n</g>\n<!-- 0&#45;&gt;2 -->\n<g id=\"edge3\" class=\"edge\">\n<title>0&#45;&gt;2</title>\n<path fill=\"none\" stroke=\"black\" d=\"M136.49,-71.7C136.49,-63.98 136.49,-54.71 136.49,-46.11\"/>\n<polygon fill=\"black\" stroke=\"black\" points=\"139.99,-46.1 136.49,-36.1 132.99,-46.1 139.99,-46.1\"/>\n</g>\n<!-- 1 -->\n<g id=\"node2\" class=\"node\">\n<title>1</title>\n<ellipse fill=\"none\" stroke=\"black\" cx=\"136.49\" cy=\"-162\" rx=\"66.89\" ry=\"18\"/>\n<text text-anchor=\"middle\" x=\"136.49\" y=\"-158.3\" font-family=\"Times,serif\" font-size=\"14.00\">SelectionOp</text>\n</g>\n<!-- 1&#45;&gt;0 -->\n<g id=\"edge1\" class=\"edge\">\n<title>1&#45;&gt;0</title>\n<path fill=\"none\" stroke=\"black\" d=\"M136.49,-143.7C136.49,-135.98 136.49,-126.71 136.49,-118.11\"/>\n<polygon fill=\"black\" stroke=\"black\" points=\"139.99,-118.1 136.49,-108.1 132.99,-118.1 139.99,-118.1\"/>\n</g>\n<!-- 1_selector -->\n<g id=\"node3\" class=\"node\">\n<title>1_selector</title>\n<ellipse fill=\"none\" stroke=\"black\" cx=\"136.49\" cy=\"-234\" rx=\"136.48\" ry=\"18\"/>\n<text text-anchor=\"middle\" x=\"136.49\" y=\"-230.3\" font-family=\"Times,serif\" font-size=\"14.00\">[&#39;User_ID&#39;, &#39;ISBN&#39;, &#39;Rating&#39;]</text>\n</g>\n<!-- 1_selector&#45;&gt;1 -->\n<g id=\"edge2\" class=\"edge\">\n<title>1_selector&#45;&gt;1</title>\n<path fill=\"none\" stroke=\"black\" d=\"M136.49,-215.7C136.49,-207.98 136.49,-198.71 136.49,-190.11\"/>\n<polygon fill=\"black\" stroke=\"black\" points=\"139.99,-190.1 136.49,-180.1 132.99,-190.1 139.99,-190.1\"/>\n</g>\n</g>\n</svg>\n",
      "text/plain": [
       "<graphviz.graphs.Digraph at 0x7f7004b789a0>"
      ]
     },
     "execution_count": 17,
     "metadata": {},
     "output_type": "execute_result"
    }
   ],
   "source": [
    "\n",
    "joined = list(train.to_ddf().columns) >> JoinExternal(books, on=[\"ISBN\"])\n",
    "\n",
    "joined[[\"ISBN\"]] >> Categorify()\n",
    "\n",
    "[\"ISBN\"] >> Categorify()\n",
    "\n",
    "joined.graph"
   ]
  },
  {
   "cell_type": "code",
   "execution_count": 18,
   "metadata": {},
   "outputs": [
    {
     "name": "stderr",
     "output_type": "stream",
     "text": [
      "/local/var/tmp/mike/merlin/NVTabular/.venv/lib/python3.9/site-packages/merlin/io/dataset.py:408: UserWarning: Changing an NVTabular Dataset to CPU mode.This is an experimental feature with extremely limited support!\n",
      "  warnings.warn(\n",
      "/local/var/tmp/mike/merlin/NVTabular/.venv/lib/python3.9/site-packages/merlin/io/dataset.py:252: UserWarning: Initializing an NVTabular Dataset in CPU mode.This is an experimental feature with extremely limited support!\n",
      "  warnings.warn(\n"
     ]
    },
    {
     "data": {
      "text/html": [
       "<div>\n",
       "<style scoped>\n",
       "    .dataframe tbody tr th:only-of-type {\n",
       "        vertical-align: middle;\n",
       "    }\n",
       "\n",
       "    .dataframe tbody tr th {\n",
       "        vertical-align: top;\n",
       "    }\n",
       "\n",
       "    .dataframe thead th {\n",
       "        text-align: right;\n",
       "    }\n",
       "</style>\n",
       "<table border=\"1\" class=\"dataframe\">\n",
       "  <thead>\n",
       "    <tr style=\"text-align: right;\">\n",
       "      <th></th>\n",
       "      <th>User_ID</th>\n",
       "      <th>ISBN</th>\n",
       "      <th>Rating</th>\n",
       "      <th>Title</th>\n",
       "      <th>Author</th>\n",
       "      <th>Year_Of_Publication</th>\n",
       "      <th>Publisher</th>\n",
       "    </tr>\n",
       "  </thead>\n",
       "  <tbody>\n",
       "    <tr>\n",
       "      <th>0</th>\n",
       "      <td>185034</td>\n",
       "      <td>8423313786</td>\n",
       "      <td>8</td>\n",
       "      <td>Narracions 1 (ColÂ¨lecciÃ³ El DofÃ­)</td>\n",
       "      <td>Josep Pla</td>\n",
       "      <td>1985</td>\n",
       "      <td>Destino</td>\n",
       "    </tr>\n",
       "    <tr>\n",
       "      <th>1</th>\n",
       "      <td>23872</td>\n",
       "      <td>0385418965</td>\n",
       "      <td>6</td>\n",
       "      <td>Girls at War: And Other Stories</td>\n",
       "      <td>Chinua Achebe</td>\n",
       "      <td>1991</td>\n",
       "      <td>Anchor</td>\n",
       "    </tr>\n",
       "    <tr>\n",
       "      <th>2</th>\n",
       "      <td>161041</td>\n",
       "      <td>0060927208</td>\n",
       "      <td>7</td>\n",
       "      <td>Paula (Spanish Edition)</td>\n",
       "      <td>Isabel Allende</td>\n",
       "      <td>1996</td>\n",
       "      <td>Rayo</td>\n",
       "    </tr>\n",
       "    <tr>\n",
       "      <th>3</th>\n",
       "      <td>68249</td>\n",
       "      <td>0812563581</td>\n",
       "      <td>7</td>\n",
       "      <td>The Relic</td>\n",
       "      <td>Douglas Preston</td>\n",
       "      <td>1996</td>\n",
       "      <td>St Martins Press</td>\n",
       "    </tr>\n",
       "    <tr>\n",
       "      <th>4</th>\n",
       "      <td>38248</td>\n",
       "      <td>0028604199</td>\n",
       "      <td>10</td>\n",
       "      <td>Once upon a More Enlightened Time: More Politi...</td>\n",
       "      <td>James Finn Garner</td>\n",
       "      <td>1995</td>\n",
       "      <td>MacMillan Publishing Company.</td>\n",
       "    </tr>\n",
       "  </tbody>\n",
       "</table>\n",
       "</div>"
      ],
      "text/plain": [
       "   User_ID        ISBN  Rating  \\\n",
       "0   185034  8423313786       8   \n",
       "1    23872  0385418965       6   \n",
       "2   161041  0060927208       7   \n",
       "3    68249  0812563581       7   \n",
       "4    38248  0028604199      10   \n",
       "\n",
       "                                               Title             Author  \\\n",
       "0               Narracions 1 (ColÂ¨lecciÃ³ El DofÃ­)          Josep Pla   \n",
       "1                    Girls at War: And Other Stories      Chinua Achebe   \n",
       "2                            Paula (Spanish Edition)     Isabel Allende   \n",
       "3                                          The Relic    Douglas Preston   \n",
       "4  Once upon a More Enlightened Time: More Politi...  James Finn Garner   \n",
       "\n",
       "   Year_Of_Publication                      Publisher  \n",
       "0                 1985                        Destino  \n",
       "1                 1991                         Anchor  \n",
       "2                 1996                           Rayo  \n",
       "3                 1996               St Martins Press  \n",
       "4                 1995  MacMillan Publishing Company.  "
      ]
     },
     "metadata": {},
     "output_type": "display_data"
    },
    {
     "data": {
      "text/plain": [
       "User_ID                 int64\n",
       "ISBN                   object\n",
       "Rating                  int64\n",
       "Title                  object\n",
       "Author                 object\n",
       "Year_Of_Publication     int64\n",
       "Publisher              object\n",
       "dtype: object"
      ]
     },
     "metadata": {},
     "output_type": "display_data"
    },
    {
     "data": {
      "text/plain": [
       "[{'name': 'User_ID', 'tags': set(), 'properties': {}, 'dtype': dtype('int64'), 'is_list': False, 'is_ragged': False}, {'name': 'ISBN', 'tags': set(), 'properties': {}, 'dtype': dtype('O'), 'is_list': False, 'is_ragged': False}, {'name': 'Rating', 'tags': set(), 'properties': {}, 'dtype': dtype('int64'), 'is_list': False, 'is_ragged': False}, {'name': 'Title', 'tags': set(), 'properties': {}, 'dtype': dtype('O'), 'is_list': False, 'is_ragged': False}, {'name': 'Author', 'tags': set(), 'properties': {}, 'dtype': dtype('O'), 'is_list': False, 'is_ragged': False}, {'name': 'Year_Of_Publication', 'tags': set(), 'properties': {}, 'dtype': dtype('int64'), 'is_list': False, 'is_ragged': False}, {'name': 'Publisher', 'tags': set(), 'properties': {}, 'dtype': dtype('O'), 'is_list': False, 'is_ragged': False}]"
      ]
     },
     "metadata": {},
     "output_type": "display_data"
    }
   ],
   "source": [
    "wf = nvt.Workflow(joined)\n",
    "wf.fit(train)\n",
    "\n",
    "new_train = wf.transform(train)\n",
    "\n",
    "display(wf.transform(train).head())\n",
    "\n",
    "display(new_train.sample_dtypes(n=200))\n",
    "\n",
    "display(new_train.schema)\n"
   ]
  },
  {
   "cell_type": "markdown",
   "metadata": {},
   "source": [
    "Perform some data transformation and feature engineering with the Ops available from NVTabular."
   ]
  },
  {
   "cell_type": "code",
   "execution_count": 19,
   "metadata": {},
   "outputs": [],
   "source": [
    "user_id = [\"User_ID\"] >> Categorify() >> TagAsUserID()\n",
    "item_id = [\"ISBN\"] >> Categorify() >> TagAsItemID()\n",
    "\n",
    "item_features = (\n",
    "    joined[[\"Title\", \"Author\", \"Year_Of_Publication\", \"Publisher\"]] >> Categorify() >> TagAsItemFeatures()\n",
    ")\n",
    "\n",
    "target = ColumnGroup([\"Rating\"]) >> LambdaOp(lambda col: (col > 7).astype(np.int8)) >> Rename(name=\"good_or_bad\") >> AddMetadata(tags=[Tags.BINARY_CLASSIFICATION, \"target\"])"
   ]
  },
  {
   "cell_type": "markdown",
   "metadata": {},
   "source": [
    "For play, view the `LambdaOp` and `Rename` Ops in action on the `Rating` column from the `train` dataset:"
   ]
  },
  {
   "cell_type": "code",
   "execution_count": 20,
   "metadata": {},
   "outputs": [
    {
     "name": "stdout",
     "output_type": "stream",
     "text": [
      "The data type of target:  <class 'nvtabular.workflow.node.WorkflowNode'>\n"
     ]
    },
    {
     "name": "stderr",
     "output_type": "stream",
     "text": [
      "/local/var/tmp/mike/merlin/NVTabular/.venv/lib/python3.9/site-packages/merlin/io/dataset.py:252: UserWarning: Initializing an NVTabular Dataset in CPU mode.This is an experimental feature with extremely limited support!\n",
      "  warnings.warn(\n"
     ]
    },
    {
     "data": {
      "text/html": [
       "<div>\n",
       "<style scoped>\n",
       "    .dataframe tbody tr th:only-of-type {\n",
       "        vertical-align: middle;\n",
       "    }\n",
       "\n",
       "    .dataframe tbody tr th {\n",
       "        vertical-align: top;\n",
       "    }\n",
       "\n",
       "    .dataframe thead th {\n",
       "        text-align: right;\n",
       "    }\n",
       "</style>\n",
       "<table border=\"1\" class=\"dataframe\">\n",
       "  <thead>\n",
       "    <tr style=\"text-align: right;\">\n",
       "      <th></th>\n",
       "      <th>good_or_bad</th>\n",
       "    </tr>\n",
       "  </thead>\n",
       "  <tbody>\n",
       "    <tr>\n",
       "      <th>329012</th>\n",
       "      <td>1</td>\n",
       "    </tr>\n",
       "    <tr>\n",
       "      <th>303046</th>\n",
       "      <td>1</td>\n",
       "    </tr>\n",
       "    <tr>\n",
       "      <th>391989</th>\n",
       "      <td>0</td>\n",
       "    </tr>\n",
       "    <tr>\n",
       "      <th>192496</th>\n",
       "      <td>1</td>\n",
       "    </tr>\n",
       "    <tr>\n",
       "      <th>414473</th>\n",
       "      <td>1</td>\n",
       "    </tr>\n",
       "  </tbody>\n",
       "</table>\n",
       "</div>"
      ],
      "text/plain": [
       "        good_or_bad\n",
       "329012            1\n",
       "303046            1\n",
       "391989            0\n",
       "192496            1\n",
       "414473            1"
      ]
     },
     "metadata": {},
     "output_type": "display_data"
    }
   ],
   "source": [
    "print(\"The data type of target: \", type(target))\n",
    "workflow = nvt.Workflow(target)\n",
    "workflow.fit(train)\n",
    "display(workflow.transform(train).head())"
   ]
  },
  {
   "cell_type": "markdown",
   "metadata": {},
   "source": [
    "Now, run the workflow on the data:\n",
    "\n",
    "* Define an `output` variable that combines the workflow nodes.  These workflow nodes are the Ops that perform the feature engineering.\n",
    "* For fun, display the workflow as a graph with graphviz.\n",
    "* Define a new `workflow` variable that can perform the feature engineering.\n",
    "* Fit and transform the workflow on the training data and then display the first few rows."
   ]
  },
  {
   "cell_type": "code",
   "execution_count": 21,
   "metadata": {},
   "outputs": [
    {
     "data": {
      "image/svg+xml": "<?xml version=\"1.0\" encoding=\"UTF-8\" standalone=\"no\"?>\n<!DOCTYPE svg PUBLIC \"-//W3C//DTD SVG 1.1//EN\"\n \"http://www.w3.org/Graphics/SVG/1.1/DTD/svg11.dtd\">\n<!-- Generated by graphviz version 2.43.0 (0)\n -->\n<!-- Title: %3 Pages: 1 -->\n<svg width=\"1344pt\" height=\"548pt\"\n viewBox=\"0.00 0.00 1343.96 548.00\" xmlns=\"http://www.w3.org/2000/svg\" xmlns:xlink=\"http://www.w3.org/1999/xlink\">\n<g id=\"graph0\" class=\"graph\" transform=\"scale(1 1) rotate(0) translate(4 544)\">\n<title>%3</title>\n<polygon fill=\"white\" stroke=\"transparent\" points=\"-4,4 -4,-544 1339.96,-544 1339.96,4 -4,4\"/>\n<!-- 0 -->\n<g id=\"node1\" class=\"node\">\n<title>0</title>\n<ellipse fill=\"none\" stroke=\"black\" cx=\"1098.73\" cy=\"-306\" rx=\"237.46\" ry=\"18\"/>\n<text text-anchor=\"middle\" x=\"1098.73\" y=\"-302.3\" font-family=\"Times,serif\" font-size=\"14.00\">LambdaOp(lambda col: (col &gt; 7).astype(np.int8))</text>\n</g>\n<!-- 1 -->\n<g id=\"node4\" class=\"node\">\n<title>1</title>\n<ellipse fill=\"none\" stroke=\"black\" cx=\"1074.73\" cy=\"-234\" rx=\"48.19\" ry=\"18\"/>\n<text text-anchor=\"middle\" x=\"1074.73\" y=\"-230.3\" font-family=\"Times,serif\" font-size=\"14.00\">Rename</text>\n</g>\n<!-- 0&#45;&gt;1 -->\n<g id=\"edge3\" class=\"edge\">\n<title>0&#45;&gt;1</title>\n<path fill=\"none\" stroke=\"black\" d=\"M1092.8,-287.7C1090.12,-279.9 1086.9,-270.51 1083.93,-261.83\"/>\n<polygon fill=\"black\" stroke=\"black\" points=\"1087.15,-260.43 1080.59,-252.1 1080.53,-262.7 1087.15,-260.43\"/>\n</g>\n<!-- 13 -->\n<g id=\"node2\" class=\"node\">\n<title>13</title>\n<ellipse fill=\"none\" stroke=\"black\" cx=\"1044.73\" cy=\"-378\" rx=\"66.89\" ry=\"18\"/>\n<text text-anchor=\"middle\" x=\"1044.73\" y=\"-374.3\" font-family=\"Times,serif\" font-size=\"14.00\">SelectionOp</text>\n</g>\n<!-- 13&#45;&gt;0 -->\n<g id=\"edge1\" class=\"edge\">\n<title>13&#45;&gt;0</title>\n<path fill=\"none\" stroke=\"black\" d=\"M1057.8,-360.05C1064.2,-351.75 1072.05,-341.58 1079.15,-332.38\"/>\n<polygon fill=\"black\" stroke=\"black\" points=\"1082.06,-334.33 1085.4,-324.28 1076.52,-330.06 1082.06,-334.33\"/>\n</g>\n<!-- 0_selector -->\n<g id=\"node3\" class=\"node\">\n<title>0_selector</title>\n<ellipse fill=\"none\" stroke=\"black\" cx=\"1182.73\" cy=\"-378\" rx=\"53.09\" ry=\"18\"/>\n<text text-anchor=\"middle\" x=\"1182.73\" y=\"-374.3\" font-family=\"Times,serif\" font-size=\"14.00\">[&#39;Rating&#39;]</text>\n</g>\n<!-- 0_selector&#45;&gt;0 -->\n<g id=\"edge2\" class=\"edge\">\n<title>0_selector&#45;&gt;0</title>\n<path fill=\"none\" stroke=\"black\" d=\"M1163.67,-361.12C1152.89,-352.14 1139.21,-340.73 1127.18,-330.71\"/>\n<polygon fill=\"black\" stroke=\"black\" points=\"1129.1,-327.76 1119.18,-324.04 1124.62,-333.13 1129.1,-327.76\"/>\n</g>\n<!-- 8 -->\n<g id=\"node14\" class=\"node\">\n<title>8</title>\n<ellipse fill=\"none\" stroke=\"black\" cx=\"1042.73\" cy=\"-162\" rx=\"73.39\" ry=\"18\"/>\n<text text-anchor=\"middle\" x=\"1042.73\" y=\"-158.3\" font-family=\"Times,serif\" font-size=\"14.00\">AddMetadata</text>\n</g>\n<!-- 1&#45;&gt;8 -->\n<g id=\"edge16\" class=\"edge\">\n<title>1&#45;&gt;8</title>\n<path fill=\"none\" stroke=\"black\" d=\"M1066.98,-216.05C1063.34,-208.09 1058.92,-198.41 1054.85,-189.51\"/>\n<polygon fill=\"black\" stroke=\"black\" points=\"1057.97,-187.91 1050.63,-180.28 1051.6,-190.83 1057.97,-187.91\"/>\n</g>\n<!-- 2 -->\n<g id=\"node5\" class=\"node\">\n<title>2</title>\n<ellipse fill=\"none\" stroke=\"black\" cx=\"392.73\" cy=\"-162\" rx=\"100.98\" ry=\"18\"/>\n<text text-anchor=\"middle\" x=\"392.73\" y=\"-158.3\" font-family=\"Times,serif\" font-size=\"14.00\">TagAsItemFeatures</text>\n</g>\n<!-- 5 -->\n<g id=\"node12\" class=\"node\">\n<title>5</title>\n<ellipse fill=\"none\" stroke=\"black\" cx=\"711.73\" cy=\"-90\" rx=\"27\" ry=\"18\"/>\n<text text-anchor=\"middle\" x=\"711.73\" y=\"-86.3\" font-family=\"Times,serif\" font-size=\"14.00\">+</text>\n</g>\n<!-- 2&#45;&gt;5 -->\n<g id=\"edge9\" class=\"edge\">\n<title>2&#45;&gt;5</title>\n<path fill=\"none\" stroke=\"black\" d=\"M453.86,-147.59C519.83,-133.11 622.65,-110.55 676.36,-98.76\"/>\n<polygon fill=\"black\" stroke=\"black\" points=\"677.4,-102.12 686.42,-96.55 675.9,-95.28 677.4,-102.12\"/>\n</g>\n<!-- 10 -->\n<g id=\"node6\" class=\"node\">\n<title>10</title>\n<ellipse fill=\"none\" stroke=\"black\" cx=\"332.73\" cy=\"-234\" rx=\"59.59\" ry=\"18\"/>\n<text text-anchor=\"middle\" x=\"332.73\" y=\"-230.3\" font-family=\"Times,serif\" font-size=\"14.00\">Categorify</text>\n</g>\n<!-- 10&#45;&gt;2 -->\n<g id=\"edge4\" class=\"edge\">\n<title>10&#45;&gt;2</title>\n<path fill=\"none\" stroke=\"black\" d=\"M346.95,-216.41C354.31,-207.82 363.45,-197.16 371.62,-187.63\"/>\n<polygon fill=\"black\" stroke=\"black\" points=\"374.34,-189.83 378.19,-179.96 369.03,-185.27 374.34,-189.83\"/>\n</g>\n<!-- 3 -->\n<g id=\"node7\" class=\"node\">\n<title>3</title>\n<ellipse fill=\"none\" stroke=\"black\" cx=\"612.73\" cy=\"-162\" rx=\"71.49\" ry=\"18\"/>\n<text text-anchor=\"middle\" x=\"612.73\" y=\"-158.3\" font-family=\"Times,serif\" font-size=\"14.00\">TagAsUserID</text>\n</g>\n<!-- 3&#45;&gt;5 -->\n<g id=\"edge10\" class=\"edge\">\n<title>3&#45;&gt;5</title>\n<path fill=\"none\" stroke=\"black\" d=\"M635.69,-144.76C650.49,-134.3 669.79,-120.65 685.24,-109.73\"/>\n<polygon fill=\"black\" stroke=\"black\" points=\"687.68,-112.29 693.83,-103.66 683.64,-106.57 687.68,-112.29\"/>\n</g>\n<!-- 14 -->\n<g id=\"node8\" class=\"node\">\n<title>14</title>\n<ellipse fill=\"none\" stroke=\"black\" cx=\"615.73\" cy=\"-234\" rx=\"59.59\" ry=\"18\"/>\n<text text-anchor=\"middle\" x=\"615.73\" y=\"-230.3\" font-family=\"Times,serif\" font-size=\"14.00\">Categorify</text>\n</g>\n<!-- 14&#45;&gt;3 -->\n<g id=\"edge5\" class=\"edge\">\n<title>14&#45;&gt;3</title>\n<path fill=\"none\" stroke=\"black\" d=\"M614.99,-215.7C614.66,-207.98 614.26,-198.71 613.89,-190.11\"/>\n<polygon fill=\"black\" stroke=\"black\" points=\"617.39,-189.95 613.46,-180.1 610.39,-190.25 617.39,-189.95\"/>\n</g>\n<!-- 4 -->\n<g id=\"node9\" class=\"node\">\n<title>4</title>\n<ellipse fill=\"none\" stroke=\"black\" cx=\"296.73\" cy=\"-306\" rx=\"243.96\" ry=\"18\"/>\n<text text-anchor=\"middle\" x=\"296.73\" y=\"-302.3\" font-family=\"Times,serif\" font-size=\"14.00\">[&#39;Title&#39;, &#39;Author&#39;, &#39;Year_Of_Publication&#39;, &#39;Publisher&#39;]</text>\n</g>\n<!-- 4&#45;&gt;10 -->\n<g id=\"edge19\" class=\"edge\">\n<title>4&#45;&gt;10</title>\n<path fill=\"none\" stroke=\"black\" d=\"M305.63,-287.7C309.73,-279.73 314.68,-270.1 319.22,-261.26\"/>\n<polygon fill=\"black\" stroke=\"black\" points=\"322.47,-262.6 323.93,-252.1 316.25,-259.4 322.47,-262.6\"/>\n</g>\n<!-- 11 -->\n<g id=\"node10\" class=\"node\">\n<title>11</title>\n<ellipse fill=\"none\" stroke=\"black\" cx=\"711.73\" cy=\"-378\" rx=\"68.49\" ry=\"18\"/>\n<text text-anchor=\"middle\" x=\"711.73\" y=\"-374.3\" font-family=\"Times,serif\" font-size=\"14.00\">JoinExternal</text>\n</g>\n<!-- 11&#45;&gt;4 -->\n<g id=\"edge6\" class=\"edge\">\n<title>11&#45;&gt;4</title>\n<path fill=\"none\" stroke=\"black\" d=\"M662.12,-365.57C653.03,-363.62 643.61,-361.67 634.73,-360 562.01,-346.28 480.02,-333.37 415,-323.72\"/>\n<polygon fill=\"black\" stroke=\"black\" points=\"415.12,-320.2 404.72,-322.2 414.1,-327.12 415.12,-320.2\"/>\n</g>\n<!-- 11&#45;&gt;5 -->\n<g id=\"edge8\" class=\"edge\">\n<title>11&#45;&gt;5</title>\n<path fill=\"none\" stroke=\"black\" d=\"M711.73,-359.97C711.73,-312.29 711.73,-177.18 711.73,-118.63\"/>\n<polygon fill=\"black\" stroke=\"black\" points=\"715.23,-118.31 711.73,-108.31 708.23,-118.31 715.23,-118.31\"/>\n</g>\n<!-- 7 -->\n<g id=\"node17\" class=\"node\">\n<title>7</title>\n<ellipse fill=\"none\" stroke=\"black\" cx=\"796.73\" cy=\"-306\" rx=\"46.59\" ry=\"18\"/>\n<text text-anchor=\"middle\" x=\"796.73\" y=\"-302.3\" font-family=\"Times,serif\" font-size=\"14.00\">[&#39;ISBN&#39;]</text>\n</g>\n<!-- 11&#45;&gt;7 -->\n<g id=\"edge14\" class=\"edge\">\n<title>11&#45;&gt;7</title>\n<path fill=\"none\" stroke=\"black\" d=\"M731.44,-360.76C742.87,-351.36 757.41,-339.38 769.87,-329.12\"/>\n<polygon fill=\"black\" stroke=\"black\" points=\"772.21,-331.72 777.71,-322.67 767.76,-326.32 772.21,-331.72\"/>\n</g>\n<!-- 9 -->\n<g id=\"node19\" class=\"node\">\n<title>9</title>\n<ellipse fill=\"none\" stroke=\"black\" cx=\"618.73\" cy=\"-306\" rx=\"59.59\" ry=\"18\"/>\n<text text-anchor=\"middle\" x=\"618.73\" y=\"-302.3\" font-family=\"Times,serif\" font-size=\"14.00\">[&#39;User_ID&#39;]</text>\n</g>\n<!-- 11&#45;&gt;9 -->\n<g id=\"edge17\" class=\"edge\">\n<title>11&#45;&gt;9</title>\n<path fill=\"none\" stroke=\"black\" d=\"M690.16,-360.76C677.63,-351.33 661.67,-339.32 648.01,-329.04\"/>\n<polygon fill=\"black\" stroke=\"black\" points=\"649.96,-326.12 639.86,-322.91 645.75,-331.72 649.96,-326.12\"/>\n</g>\n<!-- 4_selector -->\n<g id=\"node11\" class=\"node\">\n<title>4_selector</title>\n<ellipse fill=\"none\" stroke=\"black\" cx=\"243.73\" cy=\"-378\" rx=\"243.96\" ry=\"18\"/>\n<text text-anchor=\"middle\" x=\"243.73\" y=\"-374.3\" font-family=\"Times,serif\" font-size=\"14.00\">[&#39;Title&#39;, &#39;Author&#39;, &#39;Year_Of_Publication&#39;, &#39;Publisher&#39;]</text>\n</g>\n<!-- 4_selector&#45;&gt;4 -->\n<g id=\"edge7\" class=\"edge\">\n<title>4_selector&#45;&gt;4</title>\n<path fill=\"none\" stroke=\"black\" d=\"M256.83,-359.7C263.12,-351.39 270.78,-341.28 277.69,-332.14\"/>\n<polygon fill=\"black\" stroke=\"black\" points=\"280.53,-334.19 283.78,-324.1 274.95,-329.96 280.53,-334.19\"/>\n</g>\n<!-- 16 -->\n<g id=\"node24\" class=\"node\">\n<title>16</title>\n<ellipse fill=\"none\" stroke=\"black\" cx=\"711.73\" cy=\"-18\" rx=\"62.29\" ry=\"18\"/>\n<text text-anchor=\"middle\" x=\"711.73\" y=\"-14.3\" font-family=\"Times,serif\" font-size=\"14.00\">output cols</text>\n</g>\n<!-- 5&#45;&gt;16 -->\n<g id=\"edge26\" class=\"edge\">\n<title>5&#45;&gt;16</title>\n<path fill=\"none\" stroke=\"black\" d=\"M711.73,-71.7C711.73,-63.98 711.73,-54.71 711.73,-46.11\"/>\n<polygon fill=\"black\" stroke=\"black\" points=\"715.23,-46.1 711.73,-36.1 708.23,-46.1 715.23,-46.1\"/>\n</g>\n<!-- 15 -->\n<g id=\"node13\" class=\"node\">\n<title>15</title>\n<ellipse fill=\"none\" stroke=\"black\" cx=\"810.73\" cy=\"-162\" rx=\"70.69\" ry=\"18\"/>\n<text text-anchor=\"middle\" x=\"810.73\" y=\"-158.3\" font-family=\"Times,serif\" font-size=\"14.00\">TagAsItemID</text>\n</g>\n<!-- 15&#45;&gt;5 -->\n<g id=\"edge11\" class=\"edge\">\n<title>15&#45;&gt;5</title>\n<path fill=\"none\" stroke=\"black\" d=\"M787.77,-144.76C772.96,-134.3 753.67,-120.65 738.22,-109.73\"/>\n<polygon fill=\"black\" stroke=\"black\" points=\"739.81,-106.57 729.63,-103.66 735.77,-112.29 739.81,-106.57\"/>\n</g>\n<!-- 8&#45;&gt;5 -->\n<g id=\"edge12\" class=\"edge\">\n<title>8&#45;&gt;5</title>\n<path fill=\"none\" stroke=\"black\" d=\"M989.18,-149.68C921,-135.26 805.1,-110.75 747.06,-98.47\"/>\n<polygon fill=\"black\" stroke=\"black\" points=\"747.76,-95.04 737.25,-96.4 746.31,-101.89 747.76,-95.04\"/>\n</g>\n<!-- 6 -->\n<g id=\"node15\" class=\"node\">\n<title>6</title>\n<ellipse fill=\"none\" stroke=\"black\" cx=\"808.73\" cy=\"-450\" rx=\"66.89\" ry=\"18\"/>\n<text text-anchor=\"middle\" x=\"808.73\" y=\"-446.3\" font-family=\"Times,serif\" font-size=\"14.00\">SelectionOp</text>\n</g>\n<!-- 6&#45;&gt;11 -->\n<g id=\"edge20\" class=\"edge\">\n<title>6&#45;&gt;11</title>\n<path fill=\"none\" stroke=\"black\" d=\"M786.23,-432.76C773.25,-423.4 756.75,-411.49 742.58,-401.26\"/>\n<polygon fill=\"black\" stroke=\"black\" points=\"744.26,-398.16 734.1,-395.15 740.16,-403.84 744.26,-398.16\"/>\n</g>\n<!-- 6_selector -->\n<g id=\"node16\" class=\"node\">\n<title>6_selector</title>\n<ellipse fill=\"none\" stroke=\"black\" cx=\"808.73\" cy=\"-522\" rx=\"136.48\" ry=\"18\"/>\n<text text-anchor=\"middle\" x=\"808.73\" y=\"-518.3\" font-family=\"Times,serif\" font-size=\"14.00\">[&#39;User_ID&#39;, &#39;ISBN&#39;, &#39;Rating&#39;]</text>\n</g>\n<!-- 6_selector&#45;&gt;6 -->\n<g id=\"edge13\" class=\"edge\">\n<title>6_selector&#45;&gt;6</title>\n<path fill=\"none\" stroke=\"black\" d=\"M808.73,-503.7C808.73,-495.98 808.73,-486.71 808.73,-478.11\"/>\n<polygon fill=\"black\" stroke=\"black\" points=\"812.23,-478.1 808.73,-468.1 805.23,-478.1 812.23,-478.1\"/>\n</g>\n<!-- 12 -->\n<g id=\"node22\" class=\"node\">\n<title>12</title>\n<ellipse fill=\"none\" stroke=\"black\" cx=\"805.73\" cy=\"-234\" rx=\"59.59\" ry=\"18\"/>\n<text text-anchor=\"middle\" x=\"805.73\" y=\"-230.3\" font-family=\"Times,serif\" font-size=\"14.00\">Categorify</text>\n</g>\n<!-- 7&#45;&gt;12 -->\n<g id=\"edge22\" class=\"edge\">\n<title>7&#45;&gt;12</title>\n<path fill=\"none\" stroke=\"black\" d=\"M798.95,-287.7C799.94,-279.98 801.14,-270.71 802.24,-262.11\"/>\n<polygon fill=\"black\" stroke=\"black\" points=\"805.73,-262.47 803.53,-252.1 798.78,-261.58 805.73,-262.47\"/>\n</g>\n<!-- 7_selector -->\n<g id=\"node18\" class=\"node\">\n<title>7_selector</title>\n<ellipse fill=\"none\" stroke=\"black\" cx=\"844.73\" cy=\"-378\" rx=\"46.59\" ry=\"18\"/>\n<text text-anchor=\"middle\" x=\"844.73\" y=\"-374.3\" font-family=\"Times,serif\" font-size=\"14.00\">[&#39;ISBN&#39;]</text>\n</g>\n<!-- 7_selector&#45;&gt;7 -->\n<g id=\"edge15\" class=\"edge\">\n<title>7_selector&#45;&gt;7</title>\n<path fill=\"none\" stroke=\"black\" d=\"M833.35,-360.41C827.49,-351.87 820.23,-341.28 813.73,-331.79\"/>\n<polygon fill=\"black\" stroke=\"black\" points=\"816.56,-329.74 808.02,-323.47 810.79,-333.7 816.56,-329.74\"/>\n</g>\n<!-- 9&#45;&gt;14 -->\n<g id=\"edge24\" class=\"edge\">\n<title>9&#45;&gt;14</title>\n<path fill=\"none\" stroke=\"black\" d=\"M617.99,-287.7C617.66,-279.98 617.26,-270.71 616.89,-262.11\"/>\n<polygon fill=\"black\" stroke=\"black\" points=\"620.39,-261.95 616.46,-252.1 613.39,-262.25 620.39,-261.95\"/>\n</g>\n<!-- 9_selector -->\n<g id=\"node20\" class=\"node\">\n<title>9_selector</title>\n<ellipse fill=\"none\" stroke=\"black\" cx=\"565.73\" cy=\"-378\" rx=\"59.59\" ry=\"18\"/>\n<text text-anchor=\"middle\" x=\"565.73\" y=\"-374.3\" font-family=\"Times,serif\" font-size=\"14.00\">[&#39;User_ID&#39;]</text>\n</g>\n<!-- 9_selector&#45;&gt;9 -->\n<g id=\"edge18\" class=\"edge\">\n<title>9_selector&#45;&gt;9</title>\n<path fill=\"none\" stroke=\"black\" d=\"M578.56,-360.05C584.94,-351.63 592.77,-341.28 599.83,-331.97\"/>\n<polygon fill=\"black\" stroke=\"black\" points=\"602.77,-333.87 606.02,-323.79 597.19,-329.65 602.77,-333.87\"/>\n</g>\n<!-- 11_selector -->\n<g id=\"node21\" class=\"node\">\n<title>11_selector</title>\n<ellipse fill=\"none\" stroke=\"black\" cx=\"587.73\" cy=\"-450\" rx=\"136.48\" ry=\"18\"/>\n<text text-anchor=\"middle\" x=\"587.73\" y=\"-446.3\" font-family=\"Times,serif\" font-size=\"14.00\">[&#39;User_ID&#39;, &#39;ISBN&#39;, &#39;Rating&#39;]</text>\n</g>\n<!-- 11_selector&#45;&gt;11 -->\n<g id=\"edge21\" class=\"edge\">\n<title>11_selector&#45;&gt;11</title>\n<path fill=\"none\" stroke=\"black\" d=\"M617.11,-432.41C634.59,-422.54 656.91,-409.95 675.48,-399.47\"/>\n<polygon fill=\"black\" stroke=\"black\" points=\"677.26,-402.47 684.25,-394.51 673.82,-396.38 677.26,-402.47\"/>\n</g>\n<!-- 12&#45;&gt;15 -->\n<g id=\"edge25\" class=\"edge\">\n<title>12&#45;&gt;15</title>\n<path fill=\"none\" stroke=\"black\" d=\"M806.96,-215.7C807.52,-207.98 808.18,-198.71 808.79,-190.11\"/>\n<polygon fill=\"black\" stroke=\"black\" points=\"812.29,-190.33 809.51,-180.1 805.3,-189.83 812.29,-190.33\"/>\n</g>\n<!-- 13_selector -->\n<g id=\"node23\" class=\"node\">\n<title>13_selector</title>\n<ellipse fill=\"none\" stroke=\"black\" cx=\"1044.73\" cy=\"-450\" rx=\"53.09\" ry=\"18\"/>\n<text text-anchor=\"middle\" x=\"1044.73\" y=\"-446.3\" font-family=\"Times,serif\" font-size=\"14.00\">[&#39;Rating&#39;]</text>\n</g>\n<!-- 13_selector&#45;&gt;13 -->\n<g id=\"edge23\" class=\"edge\">\n<title>13_selector&#45;&gt;13</title>\n<path fill=\"none\" stroke=\"black\" d=\"M1044.73,-431.7C1044.73,-423.98 1044.73,-414.71 1044.73,-406.11\"/>\n<polygon fill=\"black\" stroke=\"black\" points=\"1048.23,-406.1 1044.73,-396.1 1041.23,-406.1 1048.23,-406.1\"/>\n</g>\n</g>\n</svg>\n",
      "text/plain": [
       "<graphviz.graphs.Digraph at 0x7f66a6fd2970>"
      ]
     },
     "execution_count": 21,
     "metadata": {},
     "output_type": "execute_result"
    }
   ],
   "source": [
    "output = joined + item_features + user_id + item_id + target\n",
    "output.graph"
   ]
  },
  {
   "cell_type": "code",
   "execution_count": 29,
   "metadata": {},
   "outputs": [
    {
     "name": "stdout",
     "output_type": "stream",
     "text": [
      "<nvtabular.workflow.workflow.Workflow object at 0x7f66a6fd24f0>\n"
     ]
    },
    {
     "ename": "",
     "evalue": "",
     "output_type": "error",
     "traceback": [
      "\u001b[1;31mFailed to interrupt the Kernel. \n",
      "debug session not found. \n",
      "View Jupyter <a href='command:jupyter.viewOutput'>log</a> for further details."
     ]
    }
   ],
   "source": [
    "workflow = nvt.Workflow(output)\n",
    "model = workflow.fit(train)\n",
    "#display(workflow.transform(train).head())"
   ]
  },
  {
   "cell_type": "code",
   "execution_count": 28,
   "metadata": {},
   "outputs": [
    {
     "name": "stderr",
     "output_type": "stream",
     "text": [
      "Failed to transform operator <merlin.dag.ops.concat_columns.ConcatColumns object at 0x7f66a6fd2af0>\n",
      "Traceback (most recent call last):\n",
      "  File \"/local/var/tmp/mike/merlin/NVTabular/nvtabular/workflow/workflow.py\", line 538, in _transform_partition\n",
      "    LOG.info(\n",
      "TypeError: Dtype discrepancy detected for column ISBN: operator + reported dtype `int64` but returned dtype `object`.\n"
     ]
    },
    {
     "ename": "TypeError",
     "evalue": "Dtype discrepancy detected for column ISBN: operator + reported dtype `int64` but returned dtype `object`.",
     "output_type": "error",
     "traceback": [
      "\u001b[0;31m---------------------------------------------------------------------------\u001b[0m",
      "\u001b[0;31mTypeError\u001b[0m                                 Traceback (most recent call last)",
      "\u001b[1;32m/local/var/tmp/mike/merlin/NVTabular/bx.ipynb Cell 30'\u001b[0m in \u001b[0;36m<cell line: 1>\u001b[0;34m()\u001b[0m\n\u001b[0;32m----> <a href='vscode-notebook-cell:/local/var/tmp/mike/merlin/NVTabular/bx.ipynb#ch0000038?line=0'>1</a>\u001b[0m display(workflow\u001b[39m.\u001b[39;49mtransform(train)\u001b[39m.\u001b[39;49mhead())\n",
      "File \u001b[0;32m/local/var/tmp/mike/merlin/NVTabular/.venv/lib/python3.9/site-packages/merlin/io/dataset.py:1172\u001b[0m, in \u001b[0;36mDataset._bind_dd_method.<locals>.meth\u001b[0;34m(self, *args, **kwargs)\u001b[0m\n\u001b[1;32m   1170\u001b[0m \u001b[39mdef\u001b[39;00m \u001b[39mmeth\u001b[39m(\u001b[39mself\u001b[39m, \u001b[39m*\u001b[39margs, \u001b[39m*\u001b[39m\u001b[39m*\u001b[39mkwargs):\n\u001b[1;32m   1171\u001b[0m     _meth \u001b[39m=\u001b[39m \u001b[39mgetattr\u001b[39m(\u001b[39mself\u001b[39m\u001b[39m.\u001b[39mto_ddf(), name)\n\u001b[0;32m-> 1172\u001b[0m     \u001b[39mreturn\u001b[39;00m _meth(\u001b[39m*\u001b[39;49margs, \u001b[39m*\u001b[39;49m\u001b[39m*\u001b[39;49mkwargs)\n",
      "File \u001b[0;32m/local/var/tmp/mike/merlin/NVTabular/.venv/lib/python3.9/site-packages/dask/dataframe/core.py:1098\u001b[0m, in \u001b[0;36m_Frame.head\u001b[0;34m(self, n, npartitions, compute)\u001b[0m\n\u001b[1;32m   1096\u001b[0m \u001b[39m# No need to warn if we're already looking at all partitions\u001b[39;00m\n\u001b[1;32m   1097\u001b[0m safe \u001b[39m=\u001b[39m npartitions \u001b[39m!=\u001b[39m \u001b[39mself\u001b[39m\u001b[39m.\u001b[39mnpartitions\n\u001b[0;32m-> 1098\u001b[0m \u001b[39mreturn\u001b[39;00m \u001b[39mself\u001b[39;49m\u001b[39m.\u001b[39;49m_head(n\u001b[39m=\u001b[39;49mn, npartitions\u001b[39m=\u001b[39;49mnpartitions, compute\u001b[39m=\u001b[39;49mcompute, safe\u001b[39m=\u001b[39;49msafe)\n",
      "File \u001b[0;32m/local/var/tmp/mike/merlin/NVTabular/.venv/lib/python3.9/site-packages/dask/dataframe/core.py:1132\u001b[0m, in \u001b[0;36m_Frame._head\u001b[0;34m(self, n, npartitions, compute, safe)\u001b[0m\n\u001b[1;32m   1127\u001b[0m result \u001b[39m=\u001b[39m new_dd_object(\n\u001b[1;32m   1128\u001b[0m     graph, name, \u001b[39mself\u001b[39m\u001b[39m.\u001b[39m_meta, [\u001b[39mself\u001b[39m\u001b[39m.\u001b[39mdivisions[\u001b[39m0\u001b[39m], \u001b[39mself\u001b[39m\u001b[39m.\u001b[39mdivisions[npartitions]]\n\u001b[1;32m   1129\u001b[0m )\n\u001b[1;32m   1131\u001b[0m \u001b[39mif\u001b[39;00m compute:\n\u001b[0;32m-> 1132\u001b[0m     result \u001b[39m=\u001b[39m result\u001b[39m.\u001b[39;49mcompute()\n\u001b[1;32m   1133\u001b[0m \u001b[39mreturn\u001b[39;00m result\n",
      "File \u001b[0;32m/local/var/tmp/mike/merlin/NVTabular/.venv/lib/python3.9/site-packages/dask/base.py:288\u001b[0m, in \u001b[0;36mDaskMethodsMixin.compute\u001b[0;34m(self, **kwargs)\u001b[0m\n\u001b[1;32m    264\u001b[0m \u001b[39mdef\u001b[39;00m \u001b[39mcompute\u001b[39m(\u001b[39mself\u001b[39m, \u001b[39m*\u001b[39m\u001b[39m*\u001b[39mkwargs):\n\u001b[1;32m    265\u001b[0m     \u001b[39m\"\"\"Compute this dask collection\u001b[39;00m\n\u001b[1;32m    266\u001b[0m \n\u001b[1;32m    267\u001b[0m \u001b[39m    This turns a lazy Dask collection into its in-memory equivalent.\u001b[39;00m\n\u001b[0;32m   (...)\u001b[0m\n\u001b[1;32m    286\u001b[0m \u001b[39m    dask.base.compute\u001b[39;00m\n\u001b[1;32m    287\u001b[0m \u001b[39m    \"\"\"\u001b[39;00m\n\u001b[0;32m--> 288\u001b[0m     (result,) \u001b[39m=\u001b[39m compute(\u001b[39mself\u001b[39;49m, traverse\u001b[39m=\u001b[39;49m\u001b[39mFalse\u001b[39;49;00m, \u001b[39m*\u001b[39;49m\u001b[39m*\u001b[39;49mkwargs)\n\u001b[1;32m    289\u001b[0m     \u001b[39mreturn\u001b[39;00m result\n",
      "File \u001b[0;32m/local/var/tmp/mike/merlin/NVTabular/.venv/lib/python3.9/site-packages/dask/base.py:571\u001b[0m, in \u001b[0;36mcompute\u001b[0;34m(traverse, optimize_graph, scheduler, get, *args, **kwargs)\u001b[0m\n\u001b[1;32m    568\u001b[0m     keys\u001b[39m.\u001b[39mappend(x\u001b[39m.\u001b[39m__dask_keys__())\n\u001b[1;32m    569\u001b[0m     postcomputes\u001b[39m.\u001b[39mappend(x\u001b[39m.\u001b[39m__dask_postcompute__())\n\u001b[0;32m--> 571\u001b[0m results \u001b[39m=\u001b[39m schedule(dsk, keys, \u001b[39m*\u001b[39;49m\u001b[39m*\u001b[39;49mkwargs)\n\u001b[1;32m    572\u001b[0m \u001b[39mreturn\u001b[39;00m repack([f(r, \u001b[39m*\u001b[39ma) \u001b[39mfor\u001b[39;00m r, (f, a) \u001b[39min\u001b[39;00m \u001b[39mzip\u001b[39m(results, postcomputes)])\n",
      "File \u001b[0;32m/local/var/tmp/mike/merlin/NVTabular/.venv/lib/python3.9/site-packages/dask/threaded.py:79\u001b[0m, in \u001b[0;36mget\u001b[0;34m(dsk, result, cache, num_workers, pool, **kwargs)\u001b[0m\n\u001b[1;32m     76\u001b[0m     \u001b[39melif\u001b[39;00m \u001b[39misinstance\u001b[39m(pool, multiprocessing\u001b[39m.\u001b[39mpool\u001b[39m.\u001b[39mPool):\n\u001b[1;32m     77\u001b[0m         pool \u001b[39m=\u001b[39m MultiprocessingPoolExecutor(pool)\n\u001b[0;32m---> 79\u001b[0m results \u001b[39m=\u001b[39m get_async(\n\u001b[1;32m     80\u001b[0m     pool\u001b[39m.\u001b[39;49msubmit,\n\u001b[1;32m     81\u001b[0m     pool\u001b[39m.\u001b[39;49m_max_workers,\n\u001b[1;32m     82\u001b[0m     dsk,\n\u001b[1;32m     83\u001b[0m     result,\n\u001b[1;32m     84\u001b[0m     cache\u001b[39m=\u001b[39;49mcache,\n\u001b[1;32m     85\u001b[0m     get_id\u001b[39m=\u001b[39;49m_thread_get_id,\n\u001b[1;32m     86\u001b[0m     pack_exception\u001b[39m=\u001b[39;49mpack_exception,\n\u001b[1;32m     87\u001b[0m     \u001b[39m*\u001b[39;49m\u001b[39m*\u001b[39;49mkwargs,\n\u001b[1;32m     88\u001b[0m )\n\u001b[1;32m     90\u001b[0m \u001b[39m# Cleanup pools associated to dead threads\u001b[39;00m\n\u001b[1;32m     91\u001b[0m \u001b[39mwith\u001b[39;00m pools_lock:\n",
      "File \u001b[0;32m/local/var/tmp/mike/merlin/NVTabular/.venv/lib/python3.9/site-packages/dask/local.py:507\u001b[0m, in \u001b[0;36mget_async\u001b[0;34m(submit, num_workers, dsk, result, cache, get_id, rerun_exceptions_locally, pack_exception, raise_exception, callbacks, dumps, loads, chunksize, **kwargs)\u001b[0m\n\u001b[1;32m    505\u001b[0m         _execute_task(task, data)  \u001b[39m# Re-execute locally\u001b[39;00m\n\u001b[1;32m    506\u001b[0m     \u001b[39melse\u001b[39;00m:\n\u001b[0;32m--> 507\u001b[0m         raise_exception(exc, tb)\n\u001b[1;32m    508\u001b[0m res, worker_id \u001b[39m=\u001b[39m loads(res_info)\n\u001b[1;32m    509\u001b[0m state[\u001b[39m\"\u001b[39m\u001b[39mcache\u001b[39m\u001b[39m\"\u001b[39m][key] \u001b[39m=\u001b[39m res\n",
      "File \u001b[0;32m/local/var/tmp/mike/merlin/NVTabular/.venv/lib/python3.9/site-packages/dask/local.py:315\u001b[0m, in \u001b[0;36mreraise\u001b[0;34m(exc, tb)\u001b[0m\n\u001b[1;32m    313\u001b[0m \u001b[39mif\u001b[39;00m exc\u001b[39m.\u001b[39m__traceback__ \u001b[39mis\u001b[39;00m \u001b[39mnot\u001b[39;00m tb:\n\u001b[1;32m    314\u001b[0m     \u001b[39mraise\u001b[39;00m exc\u001b[39m.\u001b[39mwith_traceback(tb)\n\u001b[0;32m--> 315\u001b[0m \u001b[39mraise\u001b[39;00m exc\n",
      "File \u001b[0;32m/local/var/tmp/mike/merlin/NVTabular/.venv/lib/python3.9/site-packages/dask/local.py:220\u001b[0m, in \u001b[0;36mexecute_task\u001b[0;34m(key, task_info, dumps, loads, get_id, pack_exception)\u001b[0m\n\u001b[1;32m    218\u001b[0m \u001b[39mtry\u001b[39;00m:\n\u001b[1;32m    219\u001b[0m     task, data \u001b[39m=\u001b[39m loads(task_info)\n\u001b[0;32m--> 220\u001b[0m     result \u001b[39m=\u001b[39m _execute_task(task, data)\n\u001b[1;32m    221\u001b[0m     \u001b[39mid\u001b[39m \u001b[39m=\u001b[39m get_id()\n\u001b[1;32m    222\u001b[0m     result \u001b[39m=\u001b[39m dumps((result, \u001b[39mid\u001b[39m))\n",
      "File \u001b[0;32m/local/var/tmp/mike/merlin/NVTabular/.venv/lib/python3.9/site-packages/dask/core.py:119\u001b[0m, in \u001b[0;36m_execute_task\u001b[0;34m(arg, cache, dsk)\u001b[0m\n\u001b[1;32m    115\u001b[0m     func, args \u001b[39m=\u001b[39m arg[\u001b[39m0\u001b[39m], arg[\u001b[39m1\u001b[39m:]\n\u001b[1;32m    116\u001b[0m     \u001b[39m# Note: Don't assign the subtask results to a variable. numpy detects\u001b[39;00m\n\u001b[1;32m    117\u001b[0m     \u001b[39m# temporaries by their reference count and can execute certain\u001b[39;00m\n\u001b[1;32m    118\u001b[0m     \u001b[39m# operations in-place.\u001b[39;00m\n\u001b[0;32m--> 119\u001b[0m     \u001b[39mreturn\u001b[39;00m func(\u001b[39m*\u001b[39;49m(_execute_task(a, cache) \u001b[39mfor\u001b[39;49;00m a \u001b[39min\u001b[39;49;00m args))\n\u001b[1;32m    120\u001b[0m \u001b[39melif\u001b[39;00m \u001b[39mnot\u001b[39;00m ishashable(arg):\n\u001b[1;32m    121\u001b[0m     \u001b[39mreturn\u001b[39;00m arg\n",
      "File \u001b[0;32m/local/var/tmp/mike/merlin/NVTabular/.venv/lib/python3.9/site-packages/dask/optimization.py:969\u001b[0m, in \u001b[0;36mSubgraphCallable.__call__\u001b[0;34m(self, *args)\u001b[0m\n\u001b[1;32m    967\u001b[0m \u001b[39mif\u001b[39;00m \u001b[39mnot\u001b[39;00m \u001b[39mlen\u001b[39m(args) \u001b[39m==\u001b[39m \u001b[39mlen\u001b[39m(\u001b[39mself\u001b[39m\u001b[39m.\u001b[39minkeys):\n\u001b[1;32m    968\u001b[0m     \u001b[39mraise\u001b[39;00m \u001b[39mValueError\u001b[39;00m(\u001b[39m\"\u001b[39m\u001b[39mExpected \u001b[39m\u001b[39m%d\u001b[39;00m\u001b[39m args, got \u001b[39m\u001b[39m%d\u001b[39;00m\u001b[39m\"\u001b[39m \u001b[39m%\u001b[39m (\u001b[39mlen\u001b[39m(\u001b[39mself\u001b[39m\u001b[39m.\u001b[39minkeys), \u001b[39mlen\u001b[39m(args)))\n\u001b[0;32m--> 969\u001b[0m \u001b[39mreturn\u001b[39;00m core\u001b[39m.\u001b[39;49mget(\u001b[39mself\u001b[39;49m\u001b[39m.\u001b[39;49mdsk, \u001b[39mself\u001b[39;49m\u001b[39m.\u001b[39;49moutkey, \u001b[39mdict\u001b[39;49m(\u001b[39mzip\u001b[39;49m(\u001b[39mself\u001b[39;49m\u001b[39m.\u001b[39;49minkeys, args)))\n",
      "File \u001b[0;32m/local/var/tmp/mike/merlin/NVTabular/.venv/lib/python3.9/site-packages/dask/core.py:149\u001b[0m, in \u001b[0;36mget\u001b[0;34m(dsk, out, cache)\u001b[0m\n\u001b[1;32m    147\u001b[0m \u001b[39mfor\u001b[39;00m key \u001b[39min\u001b[39;00m toposort(dsk):\n\u001b[1;32m    148\u001b[0m     task \u001b[39m=\u001b[39m dsk[key]\n\u001b[0;32m--> 149\u001b[0m     result \u001b[39m=\u001b[39m _execute_task(task, cache)\n\u001b[1;32m    150\u001b[0m     cache[key] \u001b[39m=\u001b[39m result\n\u001b[1;32m    151\u001b[0m result \u001b[39m=\u001b[39m _execute_task(out, cache)\n",
      "File \u001b[0;32m/local/var/tmp/mike/merlin/NVTabular/.venv/lib/python3.9/site-packages/dask/core.py:119\u001b[0m, in \u001b[0;36m_execute_task\u001b[0;34m(arg, cache, dsk)\u001b[0m\n\u001b[1;32m    115\u001b[0m     func, args \u001b[39m=\u001b[39m arg[\u001b[39m0\u001b[39m], arg[\u001b[39m1\u001b[39m:]\n\u001b[1;32m    116\u001b[0m     \u001b[39m# Note: Don't assign the subtask results to a variable. numpy detects\u001b[39;00m\n\u001b[1;32m    117\u001b[0m     \u001b[39m# temporaries by their reference count and can execute certain\u001b[39;00m\n\u001b[1;32m    118\u001b[0m     \u001b[39m# operations in-place.\u001b[39;00m\n\u001b[0;32m--> 119\u001b[0m     \u001b[39mreturn\u001b[39;00m func(\u001b[39m*\u001b[39;49m(_execute_task(a, cache) \u001b[39mfor\u001b[39;49;00m a \u001b[39min\u001b[39;49;00m args))\n\u001b[1;32m    120\u001b[0m \u001b[39melif\u001b[39;00m \u001b[39mnot\u001b[39;00m ishashable(arg):\n\u001b[1;32m    121\u001b[0m     \u001b[39mreturn\u001b[39;00m arg\n",
      "File \u001b[0;32m/local/var/tmp/mike/merlin/NVTabular/.venv/lib/python3.9/site-packages/dask/utils.py:37\u001b[0m, in \u001b[0;36mapply\u001b[0;34m(func, args, kwargs)\u001b[0m\n\u001b[1;32m     35\u001b[0m \u001b[39mdef\u001b[39;00m \u001b[39mapply\u001b[39m(func, args, kwargs\u001b[39m=\u001b[39m\u001b[39mNone\u001b[39;00m):\n\u001b[1;32m     36\u001b[0m     \u001b[39mif\u001b[39;00m kwargs:\n\u001b[0;32m---> 37\u001b[0m         \u001b[39mreturn\u001b[39;00m func(\u001b[39m*\u001b[39;49margs, \u001b[39m*\u001b[39;49m\u001b[39m*\u001b[39;49mkwargs)\n\u001b[1;32m     38\u001b[0m     \u001b[39melse\u001b[39;00m:\n\u001b[1;32m     39\u001b[0m         \u001b[39mreturn\u001b[39;00m func(\u001b[39m*\u001b[39margs)\n",
      "File \u001b[0;32m/local/var/tmp/mike/merlin/NVTabular/nvtabular/workflow/workflow.py:538\u001b[0m, in \u001b[0;36m_transform_partition\u001b[0;34m(root_df, workflow_nodes, additional_columns, capture_dtypes)\u001b[0m\n\u001b[1;32m    536\u001b[0m         \u001b[39melif\u001b[39;00m \u001b[39mlen\u001b[39m(output_df):\n\u001b[1;32m    537\u001b[0m             \u001b[39mif\u001b[39;00m output_col_schema\u001b[39m.\u001b[39mdtype \u001b[39m!=\u001b[39m output_df_schema\u001b[39m.\u001b[39mdtype:\n\u001b[0;32m--> 538\u001b[0m                 \u001b[39mraise\u001b[39;00m \u001b[39mTypeError\u001b[39;00m(\n\u001b[1;32m    539\u001b[0m                     \u001b[39mf\u001b[39m\u001b[39m\"\u001b[39m\u001b[39mDtype discrepancy detected for column \u001b[39m\u001b[39m{\u001b[39;00mcol_name\u001b[39m}\u001b[39;00m\u001b[39m: \u001b[39m\u001b[39m\"\u001b[39m\n\u001b[1;32m    540\u001b[0m                     \u001b[39mf\u001b[39m\u001b[39m\"\u001b[39m\u001b[39moperator \u001b[39m\u001b[39m{\u001b[39;00mnode\u001b[39m.\u001b[39mop\u001b[39m.\u001b[39mlabel\u001b[39m}\u001b[39;00m\u001b[39m reported dtype \u001b[39m\u001b[39m\"\u001b[39m\n\u001b[1;32m    541\u001b[0m                     \u001b[39mf\u001b[39m\u001b[39m\"\u001b[39m\u001b[39m`\u001b[39m\u001b[39m{\u001b[39;00moutput_col_schema\u001b[39m.\u001b[39mdtype\u001b[39m}\u001b[39;00m\u001b[39m` but returned dtype \u001b[39m\u001b[39m\"\u001b[39m\n\u001b[1;32m    542\u001b[0m                     \u001b[39mf\u001b[39m\u001b[39m\"\u001b[39m\u001b[39m`\u001b[39m\u001b[39m{\u001b[39;00moutput_df_schema\u001b[39m.\u001b[39mdtype\u001b[39m}\u001b[39;00m\u001b[39m`.\u001b[39m\u001b[39m\"\u001b[39m\n\u001b[1;32m    543\u001b[0m                 )\n\u001b[1;32m    544\u001b[0m \u001b[39mexcept\u001b[39;00m \u001b[39mException\u001b[39;00m:\n\u001b[1;32m    545\u001b[0m     LOG\u001b[39m.\u001b[39mexception(\u001b[39m\"\u001b[39m\u001b[39mFailed to transform operator \u001b[39m\u001b[39m%s\u001b[39;00m\u001b[39m\"\u001b[39m, node\u001b[39m.\u001b[39mop)\n",
      "\u001b[0;31mTypeError\u001b[0m: Dtype discrepancy detected for column ISBN: operator + reported dtype `int64` but returned dtype `object`."
     ]
    }
   ],
   "source": [
    "display(workflow.transform(train).head())"
   ]
  },
  {
   "cell_type": "code",
   "execution_count": null,
   "metadata": {},
   "outputs": [],
   "source": []
  }
 ],
 "metadata": {
  "kernelspec": {
   "display_name": "Python 3.9.2 ('.venv': poetry)",
   "language": "python",
   "name": "python3"
  },
  "language_info": {
   "codemirror_mode": {
    "name": "ipython",
    "version": 3
   },
   "file_extension": ".py",
   "mimetype": "text/x-python",
   "name": "python",
   "nbconvert_exporter": "python",
   "pygments_lexer": "ipython3",
   "version": "3.9.2"
  },
  "orig_nbformat": 4,
  "vscode": {
   "interpreter": {
    "hash": "1ddf0196a867f8744eee162d891a82a184216ae08e9c1cefe0afdff4cc7690f0"
   }
  }
 },
 "nbformat": 4,
 "nbformat_minor": 2
}
